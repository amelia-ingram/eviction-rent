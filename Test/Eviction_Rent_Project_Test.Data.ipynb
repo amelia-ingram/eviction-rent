{
 "cells": [
  {
   "cell_type": "markdown",
   "metadata": {},
   "source": [
    "<h1> Project: Housing Evictions and Fair Market Rents in New York City</h1> <a id=7></a>\n",
    "<h3> Test Page:  Data Transformation</h3> <br>\n"
   ]
  },
  {
   "cell_type": "markdown",
   "metadata": {},
   "source": [
    "## Data <a id=3></a>\n",
    "\n",
    "For this project, we are utilizing data from two datasets (evictionlab.org and HUD) that both include zip code geolocators, in order to both map and analyze the data.  In order to make this happen, we needed to utilize a \"crosswalk\" dataset from HUD.gov in order to connect geographic areas.  Additionally, we will use ACS data for demographic information within each area.\n",
    "\n",
    "Our first task is to read in and inspect the <b>Eviction Lab</b> dataset.  In the eviction dataset, there are 8428 unique observations and 7 variables.  "
   ]
  },
  {
   "cell_type": "code",
   "execution_count": 7,
   "metadata": {},
   "outputs": [],
   "source": [
    "import matplotlib.pyplot as plt    #visualization library\n",
    "import numpy as np      #numerical functions\n",
    "import pandas as pd         #quick stats \n",
    "import seaborn as sns    #visualization and stats"
   ]
  },
  {
   "cell_type": "code",
   "execution_count": 8,
   "metadata": {},
   "outputs": [],
   "source": [
    "%matplotlib inline"
   ]
  },
  {
   "cell_type": "markdown",
   "metadata": {},
   "source": [
    "### Initial Data Transformation\n",
    "In order to make this datasets usable, we need to do some initial data transformation..."
   ]
  },
  {
   "cell_type": "code",
   "execution_count": 5,
   "metadata": {},
   "outputs": [],
   "source": [
    "#load Evictions dataset\n",
    "path = 'https://evictionlab.org/uploads/newyork_monthly_2020_2021.csv'\n",
    "\n",
    "df = pd.read_csv(path, header=0)            # read eviction data from online\n"
   ]
  },
  {
   "cell_type": "code",
   "execution_count": 6,
   "metadata": {},
   "outputs": [
    {
     "data": {
      "text/plain": [
       "<bound method NDFrame.head of           type   GEOID racial_majority    month  filings_2020  filings_avg  \\\n",
       "0     Zip Code   10001           White  01/2020            51    55.000000   \n",
       "1     Zip Code   10001           White  02/2020            23    49.333333   \n",
       "2     Zip Code   10001           White  03/2020            20    48.333333   \n",
       "3     Zip Code   10001           White  04/2020             0    41.666667   \n",
       "4     Zip Code   10001           White  05/2020             0    42.000000   \n",
       "...        ...     ...             ...      ...           ...          ...   \n",
       "8724  Zip Code  sealed             NaN  01/2022             1     3.333333   \n",
       "8725  Zip Code  sealed             NaN  02/2022             1    19.666667   \n",
       "8726  Zip Code  sealed             NaN  03/2022             3     3.666667   \n",
       "8727  Zip Code  sealed             NaN  04/2022             3     3.000000   \n",
       "8728  Zip Code  sealed             NaN  05/2022             0     3.000000   \n",
       "\n",
       "     last_updated  \n",
       "0      2022-05-21  \n",
       "1      2022-05-21  \n",
       "2      2022-05-21  \n",
       "3      2022-05-21  \n",
       "4      2022-05-21  \n",
       "...           ...  \n",
       "8724   2022-05-21  \n",
       "8725   2022-05-21  \n",
       "8726   2022-05-21  \n",
       "8727   2022-05-21  \n",
       "8728   2022-05-21  \n",
       "\n",
       "[8729 rows x 7 columns]>"
      ]
     },
     "execution_count": 6,
     "metadata": {},
     "output_type": "execute_result"
    }
   ],
   "source": [
    "df.shape                                # returns (# of rows/obs, # of columns/variables)\n",
    "df.head"
   ]
  },
  {
   "cell_type": "markdown",
   "metadata": {},
   "source": [
    "There are two main issues we see above.  First, the `type` variable is (according to the data dictionary for the Eviction Tracking System), \"Either Census Tract or Zip Code, depending on the site. Unfortunately, address-level data is unavailable for some sites (Austin, New York City, Pittsburgh, Richmond) - in these cases, we list aggregate data based on zip code, as it is the smallest geographic grouping available.\" Not a big deal, but this means that mapping of this data is more generalized for New York City than it might be for other municipalities.<br>\n",
    "\n",
    "Secondly, we can observe `GEOID` cases are essentially zip codes and a number of `GEOID` cases that are listed as \"sealed\".  According to the data dictionary for the Eviction Tracking System, \"A modest portion of filings are reported to us with missing, incorrect, or out-of-bounds addresses. In these cases, we do not assign a Census Tract or Zip code to the case.\" The sealed cases are still included in our overall counts for a given site, but we will not be able to map those cases, so they will be changed into null values (for mapping purposes).<br>\n",
    "\n",
    "The `month` variable includes both month and year data, and the `last_updated` is just the date of the data pulled from the site.  I will hold onto the month and deselect the last_updated column.  Now let's check the null counts. The `racial_majority` variable has 29 null entries.  Hopefully this won't be a problem--it is relatively low."
   ]
  },
  {
   "cell_type": "code",
   "execution_count": 8,
   "metadata": {
    "scrolled": true
   },
   "outputs": [
    {
     "data": {
      "text/plain": [
       "type                0\n",
       "GEOID              29\n",
       "racial_majority    29\n",
       "month               0\n",
       "filings_2020        0\n",
       "filings_avg         0\n",
       "last_updated        0\n",
       "dtype: int64"
      ]
     },
     "execution_count": 8,
     "metadata": {},
     "output_type": "execute_result"
    }
   ],
   "source": [
    "#Convert 'GEOID' sealed entries into NaN\n",
    "df['GEOID'] = df.GEOID.replace('sealed', np.nan)\n",
    "\n",
    "df.isnull().sum()                           # returns the number of missing values for the df"
   ]
  },
  {
   "cell_type": "markdown",
   "metadata": {},
   "source": [
    "Next, I subset the variables from the Eviction dataset into a working dataframe labelled `df_evict`.  "
   ]
  },
  {
   "cell_type": "code",
   "execution_count": 12,
   "metadata": {},
   "outputs": [
    {
     "name": "stdout",
     "output_type": "stream",
     "text": [
      "<class 'pandas.core.frame.DataFrame'>\n",
      "RangeIndex: 8729 entries, 0 to 8728\n",
      "Data columns (total 5 columns):\n",
      " #   Column           Non-Null Count  Dtype  \n",
      "---  ------           --------------  -----  \n",
      " 0   GEOID            8700 non-null   object \n",
      " 1   filings_2020     8729 non-null   int64  \n",
      " 2   filings_avg      8729 non-null   float64\n",
      " 3   racial_majority  8700 non-null   object \n",
      " 4   month            8729 non-null   object \n",
      "dtypes: float64(1), int64(1), object(3)\n",
      "memory usage: 341.1+ KB\n"
     ]
    }
   ],
   "source": [
    "#Working dataframe\n",
    "#using loc to silence the SettingWithCopyError (source: Josh consultation)\n",
    "df_evict = df.loc[:, ['GEOID',   # dv\n",
    "          'filings_2020', 'filings_avg',    #iv\n",
    "          'racial_majority', 'month',  # controls\n",
    "        ]]\n",
    "\n",
    "df_evict.info()    #confirm variables are saved into df_evict"
   ]
  },
  {
   "cell_type": "code",
   "execution_count": 13,
   "metadata": {},
   "outputs": [
    {
     "name": "stdout",
     "output_type": "stream",
     "text": [
      "<class 'pandas.core.frame.DataFrame'>\n",
      "RangeIndex: 8729 entries, 0 to 8728\n",
      "Data columns (total 5 columns):\n",
      " #   Column           Non-Null Count  Dtype  \n",
      "---  ------           --------------  -----  \n",
      " 0   GEOID            8700 non-null   Int64  \n",
      " 1   filings_2020     8729 non-null   int64  \n",
      " 2   filings_avg      8729 non-null   float64\n",
      " 3   racial_majority  8700 non-null   object \n",
      " 4   month            8729 non-null   object \n",
      "dtypes: Int64(1), float64(1), int64(1), object(2)\n",
      "memory usage: 349.6+ KB\n"
     ]
    }
   ],
   "source": [
    "#convert the GEOID variable to int64 \n",
    "#used this page to learn how to force the conversion on NAN rows  https://stackoverflow.com/questions/21287624/convert-pandas-column-containing-nans-to-dtype-int\n",
    "df_evict['GEOID'] = np.floor(pd.to_numeric(df_evict['GEOID'],\n",
    "                                           errors='coerce')).astype('Int64')\n",
    "df_evict.info()"
   ]
  },
  {
   "cell_type": "code",
   "execution_count": 21,
   "metadata": {},
   "outputs": [
    {
     "name": "stdout",
     "output_type": "stream",
     "text": [
      "<class 'pandas.core.frame.DataFrame'>\n",
      "Int64Index: 8700 entries, 0 to 8699\n",
      "Data columns (total 5 columns):\n",
      " #   Column           Non-Null Count  Dtype  \n",
      "---  ------           --------------  -----  \n",
      " 0   GEOID            8700 non-null   Int64  \n",
      " 1   filings_2020     8700 non-null   int64  \n",
      " 2   filings_avg      8700 non-null   float64\n",
      " 3   racial_majority  8700 non-null   object \n",
      " 4   month            8700 non-null   object \n",
      "dtypes: Int64(1), float64(1), int64(1), object(2)\n",
      "memory usage: 416.3+ KB\n"
     ]
    }
   ],
   "source": [
    "#filter out NaN rows on GEOID\n",
    "filtered_df_evict = df_evict[df_evict['GEOID'].notnull()]\n",
    "filtered_df_evict.info()"
   ]
  },
  {
   "cell_type": "markdown",
   "metadata": {},
   "source": [
    "Next let's load the <b>FMR data</b> from HUD.  It includes the fair market rate of housing by zip from years 2020-2022.  The data was parsed by individual years, and thus needs to be merged before usage. This will give the option to create a time series analysis."
   ]
  },
  {
   "cell_type": "code",
   "execution_count": 15,
   "metadata": {},
   "outputs": [],
   "source": [
    "#load FMR data from local files...these will be merged and then exported as a single dataset for use\n",
    "#path2= FMR 2022\n",
    "#path2a= FMR 2021\n",
    "#path2b= FMR 2020\n",
    "path2 = '/Users/ameliaingram/Documents/My_GitHub+Repository/eviction-rent/data/fy2022_saFMR_revised.xlsx'\n",
    "\n",
    "df2 = pd.read_excel(path2, sheet_name=0)          # read FMR 2022 data from xl file"
   ]
  },
  {
   "cell_type": "code",
   "execution_count": 16,
   "metadata": {},
   "outputs": [
    {
     "data": {
      "text/plain": [
       "<bound method NDFrame.head of        ZIP\\nCode     HUD Area Code  \\\n",
       "0          76437  METRO10180M10180   \n",
       "1          76443  METRO10180M10180   \n",
       "2          76464  METRO10180M10180   \n",
       "3          76469  METRO10180M10180   \n",
       "4          79501  METRO10180M10180   \n",
       "...          ...               ...   \n",
       "27317      23867  METRO51175N51175   \n",
       "27318      23874  METRO51175N51175   \n",
       "27319      23878  METRO51175N51175   \n",
       "27320      23888  METRO51175N51175   \n",
       "27321      23898  METRO51175N51175   \n",
       "\n",
       "                    HUD Metro Fair Market Rent Area Name  SAFMR22\\n2BR  \\\n",
       "0                                        Abilene, TX MSA           860   \n",
       "1                                        Abilene, TX MSA           860   \n",
       "2                                        Abilene, TX MSA           860   \n",
       "3                                        Abilene, TX MSA           860   \n",
       "4                                        Abilene, TX MSA           860   \n",
       "...                                                  ...           ...   \n",
       "27317  Southampton County-Franklin city, VA HUD Metro...          1050   \n",
       "27318  Southampton County-Franklin city, VA HUD Metro...           900   \n",
       "27319  Southampton County-Franklin city, VA HUD Metro...          1050   \n",
       "27320  Southampton County-Franklin city, VA HUD Metro...          1050   \n",
       "27321  Southampton County-Franklin city, VA HUD Metro...          1080   \n",
       "\n",
       "       SAFMR22\\n2BR -\\n90%\\nPayment\\nStandard  \\\n",
       "0                                         774   \n",
       "1                                         774   \n",
       "2                                         774   \n",
       "3                                         774   \n",
       "4                                         774   \n",
       "...                                       ...   \n",
       "27317                                     945   \n",
       "27318                                     810   \n",
       "27319                                     945   \n",
       "27320                                     945   \n",
       "27321                                     972   \n",
       "\n",
       "       SAFMR22\\n2BR -\\n110%\\nPayment\\nStandard  \n",
       "0                                          946  \n",
       "1                                          946  \n",
       "2                                          946  \n",
       "3                                          946  \n",
       "4                                          946  \n",
       "...                                        ...  \n",
       "27317                                     1155  \n",
       "27318                                      990  \n",
       "27319                                     1155  \n",
       "27320                                     1155  \n",
       "27321                                     1188  \n",
       "\n",
       "[27322 rows x 6 columns]>"
      ]
     },
     "execution_count": 16,
     "metadata": {},
     "output_type": "execute_result"
    }
   ],
   "source": [
    "df2.shape                                # returns (# of rows/obs, # of columns/variables)\n",
    "df2.head"
   ]
  },
  {
   "cell_type": "code",
   "execution_count": 17,
   "metadata": {},
   "outputs": [
    {
     "data": {
      "text/plain": [
       "<bound method NDFrame.head of        ZIP\\nCode     HUD Area Code HUD Metro Fair Market Rent Area Name  \\\n",
       "0          76437  METRO10180M10180                      Abilene, TX MSA   \n",
       "1          76443  METRO10180M10180                      Abilene, TX MSA   \n",
       "2          76464  METRO10180M10180                      Abilene, TX MSA   \n",
       "3          76469  METRO10180M10180                      Abilene, TX MSA   \n",
       "4          79501  METRO10180M10180                      Abilene, TX MSA   \n",
       "...          ...               ...                                  ...   \n",
       "27139      85356  METRO49740M49740                         Yuma, AZ MSA   \n",
       "27140      85364  METRO49740M49740                         Yuma, AZ MSA   \n",
       "27141      85365  METRO49740M49740                         Yuma, AZ MSA   \n",
       "27142      85366  METRO49740M49740                         Yuma, AZ MSA   \n",
       "27143      85367  METRO49740M49740                         Yuma, AZ MSA   \n",
       "\n",
       "       2021 SAFMR\\n2BR  SAFMR21\\n2BR -\\n90%\\nPayment\\nStandard  \\\n",
       "0                  780                                     702   \n",
       "1                  780                                     702   \n",
       "2                  780                                     702   \n",
       "3                  800                                     720   \n",
       "4                  940                                     846   \n",
       "...                ...                                     ...   \n",
       "27139              870                                     783   \n",
       "27140              950                                     855   \n",
       "27141             1050                                     945   \n",
       "27142              930                                     837   \n",
       "27143             1160                                    1044   \n",
       "\n",
       "       SAFMR21\\n2BR -\\n110%\\nPayment\\nStandard  \n",
       "0                                          858  \n",
       "1                                          858  \n",
       "2                                          858  \n",
       "3                                          880  \n",
       "4                                         1034  \n",
       "...                                        ...  \n",
       "27139                                      957  \n",
       "27140                                     1045  \n",
       "27141                                     1155  \n",
       "27142                                     1023  \n",
       "27143                                     1276  \n",
       "\n",
       "[27144 rows x 6 columns]>"
      ]
     },
     "execution_count": 17,
     "metadata": {},
     "output_type": "execute_result"
    }
   ],
   "source": [
    "#load FMR 2021 data from local files...these will be merged and then exported as a single dataset for use\n",
    "#path2a= FMR 2021\n",
    "#path2b= FMR 2020\n",
    "path2a = '/Users/ameliaingram/Documents/My_GitHub+Repository/eviction-rent/data/fy2021_saFMR_revised.xlsx'\n",
    "\n",
    "df2a = pd.read_excel(path2a, sheet_name=0)          # read FMR 2021 data from xl file\n",
    "\n",
    "df2a.shape                                # returns (# of rows/obs, # of columns/variables)\n",
    "df2a.head"
   ]
  },
  {
   "cell_type": "code",
   "execution_count": 38,
   "metadata": {},
   "outputs": [
    {
     "data": {
      "text/plain": [
       "<bound method NDFrame.head of         zcta         CBSASub20       Areaname20  SAFMR 2020 2br  \\\n",
       "0      76437  METRO10180M10180  Abilene, TX MSA             740   \n",
       "1      76443  METRO10180M10180  Abilene, TX MSA             740   \n",
       "2      76464  METRO10180M10180  Abilene, TX MSA             740   \n",
       "3      76469  METRO10180M10180  Abilene, TX MSA             760   \n",
       "4      79501  METRO10180M10180  Abilene, TX MSA             910   \n",
       "...      ...               ...              ...             ...   \n",
       "26085  85356  METRO49740M49740     Yuma, AZ MSA             780   \n",
       "26086  85364  METRO49740M49740     Yuma, AZ MSA             860   \n",
       "26087  85365  METRO49740M49740     Yuma, AZ MSA             940   \n",
       "26088  85366  METRO49740M49740     Yuma, AZ MSA             820   \n",
       "26089  85367  METRO49740M49740     Yuma, AZ MSA            1060   \n",
       "\n",
       "       SAFMR20 2br 90pct pay_std  safmr20 2br 110pct pay_std  \n",
       "0                            666                         814  \n",
       "1                            666                         814  \n",
       "2                            666                         814  \n",
       "3                            684                         836  \n",
       "4                            819                        1001  \n",
       "...                          ...                         ...  \n",
       "26085                        702                         858  \n",
       "26086                        774                         946  \n",
       "26087                        846                        1034  \n",
       "26088                        738                         902  \n",
       "26089                        954                        1166  \n",
       "\n",
       "[26090 rows x 6 columns]>"
      ]
     },
     "execution_count": 38,
     "metadata": {},
     "output_type": "execute_result"
    }
   ],
   "source": [
    "#load FMR 2020 data from local files...these will be merged and then exported as a single dataset for use\n",
    "#path2b= FMR 2020\n",
    "path2b = '/Users/ameliaingram/Documents/My_GitHub+Repository/eviction-rent/data/fy2020_saFMR_rev.xlsx'\n",
    "\n",
    "df2b = pd.read_excel(path2b, sheet_name=0)          # read FMR 2020 data from xl file\n",
    "\n",
    "df2b.shape                                # returns (# of rows/obs, # of columns/variables)\n",
    "df2b.head"
   ]
  },
  {
   "cell_type": "code",
   "execution_count": 29,
   "metadata": {},
   "outputs": [
    {
     "name": "stdout",
     "output_type": "stream",
     "text": [
      "<class 'pandas.core.frame.DataFrame'>\n",
      "Int64Index: 8961 entries, 0 to 8960\n",
      "Data columns (total 11 columns):\n",
      " #   Column                                Non-Null Count  Dtype  \n",
      "---  ------                                --------------  -----  \n",
      " 0   GEOID                                 8961 non-null   Int64  \n",
      " 1   filings_2020                          8961 non-null   int64  \n",
      " 2   filings_avg                           8961 non-null   float64\n",
      " 3   racial_majority                       8961 non-null   object \n",
      " 4   month                                 8961 non-null   object \n",
      " 5   ZIP\n",
      "Code                              8961 non-null   int64  \n",
      " 6   HUD Area Code                         8961 non-null   object \n",
      " 7   HUD Metro Fair Market Rent Area Name  8961 non-null   object \n",
      " 8   SAFMR22\n",
      "2BR                           8961 non-null   int64  \n",
      " 9   SAFMR22\n",
      "2BR -\n",
      "90%\n",
      "Payment\n",
      "Standard    8961 non-null   int64  \n",
      " 10  SAFMR22\n",
      "2BR -\n",
      "110%\n",
      "Payment\n",
      "Standard   8961 non-null   int64  \n",
      "dtypes: Int64(1), float64(1), int64(5), object(4)\n",
      "memory usage: 848.8+ KB\n",
      "None\n"
     ]
    }
   ],
   "source": [
    "#merge df_evict into crosswalk dataset using GEOID and zip\n",
    "df_evict_merge = filtered_df_evict.merge(df2, left_on = \"GEOID\", right_on = \"ZIP\\nCode\")\n",
    "#print to check results\n",
    "print(df_evict_merge.info())"
   ]
  },
  {
   "cell_type": "code",
   "execution_count": 33,
   "metadata": {},
   "outputs": [
    {
     "data": {
      "text/plain": [
       "Index(['GEOID', 'filings_2020', 'filings_avg', 'racial_majority', 'month',\n",
       "       'ZIP', 'HUD Area Code', 'HUD Metro FMR Area Name', 'SAFMR22 2BR',\n",
       "       'SAFMR22 2BR 90% Pmt', 'SAFMR22 2BR 110% Pmt'],\n",
       "      dtype='object')"
      ]
     },
     "execution_count": 33,
     "metadata": {},
     "output_type": "execute_result"
    }
   ],
   "source": [
    "#rename columns here to enable the second part of the merge\n",
    "df_evict_merge = df_evict_merge.rename(columns={'ZIP\\nCode':'ZIP', 'SAFMR22\\n2BR':'SAFMR22 2BR','HUD Metro Fair Market Rent Area Name':'HUD Metro FMR Area Name', 'SAFMR22\\n2BR -\\n90%\\nPayment\\nStandard':'SAFMR22 2BR 90% Pmt', 'SAFMR22\\n2BR -\\n110%\\nPayment\\nStandard': 'SAFMR22 2BR 110% Pmt'})\n",
    "\n",
    "df_evict_merge.columns"
   ]
  },
  {
   "cell_type": "code",
   "execution_count": 40,
   "metadata": {},
   "outputs": [
    {
     "data": {
      "text/plain": [
       "Index(['ZIP', 'HUD Area Code', 'HUD Metro FMR Area Name', 'SAFMR21 2BR',\n",
       "       'SAFMR21 2BR 90% Pmt', 'SAFMR21 2BR 110% Pmt'],\n",
       "      dtype='object')"
      ]
     },
     "execution_count": 40,
     "metadata": {},
     "output_type": "execute_result"
    }
   ],
   "source": [
    "#rename columns here to enable the second part of the merge\n",
    "#rename columns from df2a\n",
    "df2a = df2a.rename(columns={'ZIP\\nCode':'ZIP', 'HUD Metro Fair Market Rent Area Name':'HUD Metro FMR Area Name', '2021 SAFMR\\n2BR':'SAFMR21 2BR', 'SAFMR21\\n2BR -\\n90%\\nPayment\\nStandard':'SAFMR21 2BR 90% Pmt',\n",
    "       'SAFMR21\\n2BR -\\n110%\\nPayment\\nStandard':'SAFMR21 2BR 110% Pmt'})\n",
    "\n",
    "df2a.columns"
   ]
  },
  {
   "cell_type": "code",
   "execution_count": 41,
   "metadata": {},
   "outputs": [
    {
     "data": {
      "text/plain": [
       "Index(['ZIP', 'CBSASub20', 'HUD Metro FMR Area Name20', 'SAFMR20 2BR',\n",
       "       'SAFMR20 2BR 90% Pmt', 'SAFMR20 2BR 110% Pmt'],\n",
       "      dtype='object')"
      ]
     },
     "execution_count": 41,
     "metadata": {},
     "output_type": "execute_result"
    }
   ],
   "source": [
    "#rename columns here to enable the second part of the merge\n",
    "#rename columns from df2b\n",
    "df2b = df2b.rename(columns={'zcta':'ZIP', 'Areaname20':'HUD Metro FMR Area Name20', 'SAFMR 2020 2br':'SAFMR20 2BR',\n",
    "       'SAFMR20 2br 90pct pay_std':'SAFMR20 2BR 90% Pmt', 'safmr20 2br 110pct pay_std':'SAFMR20 2BR 110% Pmt'})\n",
    "\n",
    "df2b.columns"
   ]
  },
  {
   "cell_type": "code",
   "execution_count": 42,
   "metadata": {},
   "outputs": [
    {
     "name": "stdout",
     "output_type": "stream",
     "text": [
      "<class 'pandas.core.frame.DataFrame'>\n",
      "Int64Index: 9715 entries, 0 to 9714\n",
      "Data columns (total 16 columns):\n",
      " #   Column                     Non-Null Count  Dtype  \n",
      "---  ------                     --------------  -----  \n",
      " 0   GEOID                      9715 non-null   Int64  \n",
      " 1   filings_2020               9715 non-null   int64  \n",
      " 2   filings_avg                9715 non-null   float64\n",
      " 3   racial_majority            9715 non-null   object \n",
      " 4   month                      9715 non-null   object \n",
      " 5   ZIP                        9715 non-null   int64  \n",
      " 6   HUD Area Code_x            9715 non-null   object \n",
      " 7   HUD Metro FMR Area Name_x  9715 non-null   object \n",
      " 8   SAFMR22 2BR                9715 non-null   int64  \n",
      " 9   SAFMR22 2BR 90% Pmt        9715 non-null   int64  \n",
      " 10  SAFMR22 2BR 110% Pmt       9715 non-null   int64  \n",
      " 11  HUD Area Code_y            9715 non-null   object \n",
      " 12  HUD Metro FMR Area Name_y  9715 non-null   object \n",
      " 13  SAFMR21 2BR                9715 non-null   int64  \n",
      " 14  SAFMR21 2BR 90% Pmt        9715 non-null   int64  \n",
      " 15  SAFMR21 2BR 110% Pmt       9715 non-null   int64  \n",
      "dtypes: Int64(1), float64(1), int64(8), object(6)\n",
      "memory usage: 1.3+ MB\n",
      "None\n"
     ]
    }
   ],
   "source": [
    "#merge df_evict into crosswalk dataset using GEOID and zip\n",
    "df_evict_merge2 = df_evict_merge.merge(df2a, on = \"ZIP\")\n",
    "#print to check results\n",
    "print(df_evict_merge2.info())"
   ]
  },
  {
   "cell_type": "code",
   "execution_count": 43,
   "metadata": {},
   "outputs": [
    {
     "name": "stdout",
     "output_type": "stream",
     "text": [
      "<class 'pandas.core.frame.DataFrame'>\n",
      "Int64Index: 9744 entries, 0 to 9743\n",
      "Data columns (total 21 columns):\n",
      " #   Column                     Non-Null Count  Dtype  \n",
      "---  ------                     --------------  -----  \n",
      " 0   GEOID                      9744 non-null   Int64  \n",
      " 1   filings_2020               9744 non-null   int64  \n",
      " 2   filings_avg                9744 non-null   float64\n",
      " 3   racial_majority            9744 non-null   object \n",
      " 4   month                      9744 non-null   object \n",
      " 5   ZIP                        9744 non-null   int64  \n",
      " 6   HUD Area Code_x            9744 non-null   object \n",
      " 7   HUD Metro FMR Area Name_x  9744 non-null   object \n",
      " 8   SAFMR22 2BR                9744 non-null   int64  \n",
      " 9   SAFMR22 2BR 90% Pmt        9744 non-null   int64  \n",
      " 10  SAFMR22 2BR 110% Pmt       9744 non-null   int64  \n",
      " 11  HUD Area Code_y            9744 non-null   object \n",
      " 12  HUD Metro FMR Area Name_y  9744 non-null   object \n",
      " 13  SAFMR21 2BR                9744 non-null   int64  \n",
      " 14  SAFMR21 2BR 90% Pmt        9744 non-null   int64  \n",
      " 15  SAFMR21 2BR 110% Pmt       9744 non-null   int64  \n",
      " 16  CBSASub20                  9744 non-null   object \n",
      " 17  HUD Metro FMR Area Name20  9744 non-null   object \n",
      " 18  SAFMR20 2BR                9744 non-null   int64  \n",
      " 19  SAFMR20 2BR 90% Pmt        9744 non-null   int64  \n",
      " 20  SAFMR20 2BR 110% Pmt       9744 non-null   int64  \n",
      "dtypes: Int64(1), float64(1), int64(11), object(8)\n",
      "memory usage: 1.6+ MB\n",
      "None\n"
     ]
    }
   ],
   "source": [
    "#merge df_evict into crosswalk dataset using GEOID and zip\n",
    "df_evict_merge3 = df_evict_merge2.merge(df2b, on = \"ZIP\")\n",
    "#print to check results\n",
    "print(df_evict_merge3.info())"
   ]
  },
  {
   "cell_type": "code",
   "execution_count": 44,
   "metadata": {},
   "outputs": [],
   "source": [
    "#export newly merged dataset to csv\n",
    "# (run once)\n",
    "df_evict_merge3.to_csv(r'/Users/ameliaingram/Documents/My_GitHub+Repository/eviction-rent/data/Evict_FMR_merged.csv', index = False)"
   ]
  },
  {
   "cell_type": "markdown",
   "metadata": {},
   "source": [
    "In order to combine a subset of the Eviction dataset with the FMR dataset, we must use a <b>crosswalk file </b> (courtesy HUD, originally from USPS) that will allow us to match zip codes to FIPS.   We must join the datasets using `fips2010` column as the key connector using pandas. <br>\n",
    "Now, let's load the crosswalk dataset to see what's in common..."
   ]
  },
  {
   "cell_type": "code",
   "execution_count": 10,
   "metadata": {},
   "outputs": [],
   "source": [
    "#load crosswalk dataset\n",
    "path3 = '/Users/ameliaingram/Documents/My_GitHub+Repository/eviction-rent/data/ZIP_CBSA_Crosswalk_122021.xlsx'\n",
    "\n",
    "df3 = pd.read_excel(path3, sheet_name=0)"
   ]
  },
  {
   "cell_type": "code",
   "execution_count": 11,
   "metadata": {},
   "outputs": [
    {
     "name": "stdout",
     "output_type": "stream",
     "text": [
      "<class 'pandas.core.frame.DataFrame'>\n",
      "RangeIndex: 47484 entries, 0 to 47483\n",
      "Data columns (total 8 columns):\n",
      " #   Column               Non-Null Count  Dtype  \n",
      "---  ------               --------------  -----  \n",
      " 0   zip                  47484 non-null  int64  \n",
      " 1   cbsa                 47484 non-null  int64  \n",
      " 2   usps_zip_pref_city   47484 non-null  object \n",
      " 3   usps_zip_pref_state  47484 non-null  object \n",
      " 4   res_ratio            47484 non-null  float64\n",
      " 5   bus_ratio            47484 non-null  float64\n",
      " 6   oth_ratio            47484 non-null  float64\n",
      " 7   tot_ratio            47484 non-null  float64\n",
      "dtypes: float64(4), int64(2), object(2)\n",
      "memory usage: 2.9+ MB\n"
     ]
    },
    {
     "data": {
      "text/html": [
       "<div>\n",
       "<style scoped>\n",
       "    .dataframe tbody tr th:only-of-type {\n",
       "        vertical-align: middle;\n",
       "    }\n",
       "\n",
       "    .dataframe tbody tr th {\n",
       "        vertical-align: top;\n",
       "    }\n",
       "\n",
       "    .dataframe thead th {\n",
       "        text-align: right;\n",
       "    }\n",
       "</style>\n",
       "<table border=\"1\" class=\"dataframe\">\n",
       "  <thead>\n",
       "    <tr style=\"text-align: right;\">\n",
       "      <th></th>\n",
       "      <th>zip</th>\n",
       "      <th>cbsa</th>\n",
       "      <th>usps_zip_pref_city</th>\n",
       "      <th>usps_zip_pref_state</th>\n",
       "      <th>res_ratio</th>\n",
       "      <th>bus_ratio</th>\n",
       "      <th>oth_ratio</th>\n",
       "      <th>tot_ratio</th>\n",
       "    </tr>\n",
       "  </thead>\n",
       "  <tbody>\n",
       "    <tr>\n",
       "      <th>0</th>\n",
       "      <td>683</td>\n",
       "      <td>41900</td>\n",
       "      <td>SAN GERMAN</td>\n",
       "      <td>PR</td>\n",
       "      <td>0.999842</td>\n",
       "      <td>1.0</td>\n",
       "      <td>1.0</td>\n",
       "      <td>0.999855</td>\n",
       "    </tr>\n",
       "    <tr>\n",
       "      <th>1</th>\n",
       "      <td>683</td>\n",
       "      <td>32420</td>\n",
       "      <td>SAN GERMAN</td>\n",
       "      <td>PR</td>\n",
       "      <td>0.000158</td>\n",
       "      <td>0.0</td>\n",
       "      <td>0.0</td>\n",
       "      <td>0.000145</td>\n",
       "    </tr>\n",
       "    <tr>\n",
       "      <th>2</th>\n",
       "      <td>923</td>\n",
       "      <td>41980</td>\n",
       "      <td>SAN JUAN</td>\n",
       "      <td>PR</td>\n",
       "      <td>1.000000</td>\n",
       "      <td>1.0</td>\n",
       "      <td>1.0</td>\n",
       "      <td>1.000000</td>\n",
       "    </tr>\n",
       "    <tr>\n",
       "      <th>3</th>\n",
       "      <td>1010</td>\n",
       "      <td>44140</td>\n",
       "      <td>BRIMFIELD</td>\n",
       "      <td>MA</td>\n",
       "      <td>0.976896</td>\n",
       "      <td>1.0</td>\n",
       "      <td>1.0</td>\n",
       "      <td>0.977816</td>\n",
       "    </tr>\n",
       "    <tr>\n",
       "      <th>4</th>\n",
       "      <td>1010</td>\n",
       "      <td>49340</td>\n",
       "      <td>BRIMFIELD</td>\n",
       "      <td>MA</td>\n",
       "      <td>0.023104</td>\n",
       "      <td>0.0</td>\n",
       "      <td>0.0</td>\n",
       "      <td>0.022184</td>\n",
       "    </tr>\n",
       "  </tbody>\n",
       "</table>\n",
       "</div>"
      ],
      "text/plain": [
       "    zip   cbsa usps_zip_pref_city usps_zip_pref_state  res_ratio  bus_ratio  \\\n",
       "0   683  41900         SAN GERMAN                  PR   0.999842        1.0   \n",
       "1   683  32420         SAN GERMAN                  PR   0.000158        0.0   \n",
       "2   923  41980           SAN JUAN                  PR   1.000000        1.0   \n",
       "3  1010  44140          BRIMFIELD                  MA   0.976896        1.0   \n",
       "4  1010  49340          BRIMFIELD                  MA   0.023104        0.0   \n",
       "\n",
       "   oth_ratio  tot_ratio  \n",
       "0        1.0   0.999855  \n",
       "1        0.0   0.000145  \n",
       "2        1.0   1.000000  \n",
       "3        1.0   0.977816  \n",
       "4        0.0   0.022184  "
      ]
     },
     "execution_count": 11,
     "metadata": {},
     "output_type": "execute_result"
    }
   ],
   "source": [
    "#to figure out the key column to merge...looks like the zip into df_evict, tract to merge the FMR\n",
    "df3.info()\n",
    "df3.head()"
   ]
  },
  {
   "cell_type": "markdown",
   "metadata": {},
   "source": []
  },
  {
   "cell_type": "code",
   "execution_count": 16,
   "metadata": {},
   "outputs": [
    {
     "name": "stdout",
     "output_type": "stream",
     "text": [
      "0       False\n",
      "1       False\n",
      "2       False\n",
      "3       False\n",
      "4       False\n",
      "        ...  \n",
      "4760    False\n",
      "4761    False\n",
      "4762    False\n",
      "4763    False\n",
      "4764    False\n",
      "Name: fips2010, Length: 4765, dtype: bool\n"
     ]
    }
   ],
   "source": [
    "#test to see if fips2010 from df2 is the same as tract from df3 (crosswalk file)\n",
    "print(df2.fips2010==72023830102)"
   ]
  },
  {
   "cell_type": "code",
   "execution_count": 17,
   "metadata": {},
   "outputs": [
    {
     "name": "stdout",
     "output_type": "stream",
     "text": [
      "<class 'pandas.core.frame.DataFrame'>\n",
      "RangeIndex: 4765 entries, 0 to 4764\n",
      "Data columns (total 130 columns):\n",
      " #    Column         Dtype  \n",
      "---   ------         -----  \n",
      " 0    fips2010       int64  \n",
      " 1    fips2000       float64\n",
      " 2    areaname22     object \n",
      " 3    name           object \n",
      " 4    msa22          object \n",
      " 5    fmr22_2        int64  \n",
      " 6    fmr22          int64  \n",
      " 7    msa21          object \n",
      " 8    fmr21_2        int64  \n",
      " 9    fmr21          int64  \n",
      " 10   msa20          object \n",
      " 11   fmr20_2        int64  \n",
      " 12   fmr20          int64  \n",
      " 13   msa19          object \n",
      " 14   fmr19_2        int64  \n",
      " 15   fmr19          int64  \n",
      " 16   msa18          object \n",
      " 17   fmr18_2        int64  \n",
      " 18   fmr18          int64  \n",
      " 19   msa17          object \n",
      " 20   fmr17_2        int64  \n",
      " 21   fmr17          int64  \n",
      " 22   msa16          object \n",
      " 23   fmr16_2        float64\n",
      " 24   fmr16          float64\n",
      " 25   msa15          object \n",
      " 26   fmr15_2        float64\n",
      " 27   fmr15          float64\n",
      " 28   msa14          object \n",
      " 29   fmr14_2        float64\n",
      " 30   fmr14          float64\n",
      " 31   msa13          object \n",
      " 32   fmr13_2        float64\n",
      " 33   fmr13          float64\n",
      " 34   msa12          object \n",
      " 35   fmr12_2        float64\n",
      " 36   fmr12          float64\n",
      " 37   msa11          object \n",
      " 38   fmr11_2        float64\n",
      " 39   fmr11          float64\n",
      " 40   msa10          object \n",
      " 41   fmr10_2        float64\n",
      " 42   fmr10          float64\n",
      " 43   msa09          object \n",
      " 44   fmr09_2        float64\n",
      " 45   fmr09          float64\n",
      " 46   msa08          object \n",
      " 47   fmr08_2        float64\n",
      " 48   fmr08          float64\n",
      " 49   msa07          object \n",
      " 50   fmr07_2        float64\n",
      " 51   fmr07          float64\n",
      " 52   msa06          object \n",
      " 53   fmr06_2        float64\n",
      " 54   fmr06          float64\n",
      " 55   msa05          float64\n",
      " 56   fmr05_2        float64\n",
      " 57   fmr05          float64\n",
      " 58   msa04          float64\n",
      " 59   fmr04_2        float64\n",
      " 60   fmr04          float64\n",
      " 61   msa03          float64\n",
      " 62   fmr03_2        float64\n",
      " 63   fmr03          float64\n",
      " 64   msa02          float64\n",
      " 65   fmr02_2        float64\n",
      " 66   fmr02          float64\n",
      " 67   msa01          float64\n",
      " 68   fmr01_2        float64\n",
      " 69   fmr01          float64\n",
      " 70   msa00          float64\n",
      " 71   fmr00_2        float64\n",
      " 72   fmr00          float64\n",
      " 73   msa99          float64\n",
      " 74   fmr99_2        float64\n",
      " 75   fmr99          float64\n",
      " 76   msa98          float64\n",
      " 77   fmr98_2        float64\n",
      " 78   fmr98          float64\n",
      " 79   msa97          float64\n",
      " 80   fmr97_2        float64\n",
      " 81   fmr97          float64\n",
      " 82   msa96          float64\n",
      " 83   fmr96_2        float64\n",
      " 84   fmr96          float64\n",
      " 85   msa95          float64\n",
      " 86   fmr95_2        float64\n",
      " 87   fmr95          float64\n",
      " 88   msa94          float64\n",
      " 89   fmr94_2        float64\n",
      " 90   fmr94          float64\n",
      " 91   msa93          float64\n",
      " 92   fmr93_2        float64\n",
      " 93   fmr93          float64\n",
      " 94   msa92          float64\n",
      " 95   fmr92_2        float64\n",
      " 96   fmr92          float64\n",
      " 97   msa91          float64\n",
      " 98   fmr91_2        float64\n",
      " 99   fmr91          float64\n",
      " 100  msa90          float64\n",
      " 101  fmr90_2        float64\n",
      " 102  fmr90          float64\n",
      " 103  msa89          float64\n",
      " 104  fmr89_2        float64\n",
      " 105  fmr89          float64\n",
      " 106  msa88          float64\n",
      " 107  fmr88_2        float64\n",
      " 108  fmr88          float64\n",
      " 109  msa87          float64\n",
      " 110  fmr87_2        float64\n",
      " 111  fmr87          float64\n",
      " 112  msa86          float64\n",
      " 113  fmr86_2        float64\n",
      " 114  fmr86          float64\n",
      " 115  msa85          float64\n",
      " 116  fmr85_2        float64\n",
      " 117  fmr85          float64\n",
      " 118  msa83          float64\n",
      " 119  fmr83_2        float64\n",
      " 120  fmr83          float64\n",
      " 121  cbsasub        object \n",
      " 122  areaname       object \n",
      " 123  state          float64\n",
      " 124  cousub         float64\n",
      " 125  county         float64\n",
      " 126  pop2010        int64  \n",
      " 127  census_region  float64\n",
      " 128  pop2017        int64  \n",
      " 129  pop2000        float64\n",
      "dtypes: float64(94), int64(15), object(21)\n",
      "memory usage: 4.7+ MB\n",
      "None\n"
     ]
    }
   ],
   "source": [
    "#check datatypes in FMR data\n",
    "print(df2.info(verbose=bool))\n"
   ]
  },
  {
   "cell_type": "code",
   "execution_count": 18,
   "metadata": {},
   "outputs": [
    {
     "name": "stdout",
     "output_type": "stream",
     "text": [
      "Empty DataFrame\n",
      "Columns: [GEOID, filings_2020, filings_avg, racial_majority, month, zip, cbsa, usps_zip_pref_city, usps_zip_pref_state, res_ratio, bus_ratio, oth_ratio, tot_ratio, fips2010, fips2000, areaname22, name, msa22, fmr22_2, fmr22, msa21, fmr21_2, fmr21, msa20, fmr20_2, fmr20, msa19, fmr19_2, fmr19, msa18, fmr18_2, fmr18, msa17, fmr17_2, fmr17, msa16, fmr16_2, fmr16, msa15, fmr15_2, fmr15, msa14, fmr14_2, fmr14, msa13, fmr13_2, fmr13, msa12, fmr12_2, fmr12, msa11, fmr11_2, fmr11, msa10, fmr10_2, fmr10, msa09, fmr09_2, fmr09, msa08, fmr08_2, fmr08, msa07, fmr07_2, fmr07, msa06, fmr06_2, fmr06, msa05, fmr05_2, fmr05, msa04, fmr04_2, fmr04, msa03, fmr03_2, fmr03, msa02, fmr02_2, fmr02, msa01, fmr01_2, fmr01, msa00, fmr00_2, fmr00, msa99, fmr99_2, fmr99, msa98, fmr98_2, fmr98, msa97, fmr97_2, fmr97, msa96, fmr96_2, fmr96, msa95, fmr95_2, ...]\n",
      "Index: []\n",
      "\n",
      "[0 rows x 143 columns]\n"
     ]
    }
   ],
   "source": [
    "#merge FMR (df2) into df_evict_crosswalk dataset using cbsa and fips2010 ***NOT WORKING :-P\n",
    "df_evict_fmr_merged = df_evict_crosswalk.merge(df2, left_on = \"cbsa\", right_on = \"fips2010\")\n",
    "#print to check results\n",
    "print(df_evict_fmr_merged.head())"
   ]
  },
  {
   "cell_type": "code",
   "execution_count": null,
   "metadata": {},
   "outputs": [],
   "source": []
  },
  {
   "cell_type": "code",
   "execution_count": null,
   "metadata": {},
   "outputs": [],
   "source": []
  },
  {
   "cell_type": "markdown",
   "metadata": {},
   "source": [
    "## Factoring Data from Clean Merge Set\n",
    "## 1. Evictions\n",
    "In the clean merged parquet dataset, we need to shape the evictions data into usable levels or categories, in order to cleanly calculate the difference between current eviction levels and average evictions in previous years by zip code."
   ]
  },
  {
   "cell_type": "code",
   "execution_count": 14,
   "metadata": {},
   "outputs": [],
   "source": [
    "import pandas as pd\n",
    "import pyarrow as pa\n",
    "import pyarrow.parquet as pq"
   ]
  },
  {
   "cell_type": "code",
   "execution_count": 16,
   "metadata": {},
   "outputs": [],
   "source": [
    "#load merged dataset\n",
    "path3 = '/Users/ameliaingram/Documents/My_GitHub+Repository/eviction-rent/assets/data/evict_merged.parquet'\n",
    "\n",
    "df_factor = pd.read_parquet(path3)            # read eviction data from online\n"
   ]
  },
  {
   "cell_type": "code",
   "execution_count": 17,
   "metadata": {},
   "outputs": [
    {
     "data": {
      "text/html": [
       "<div>\n",
       "<style scoped>\n",
       "    .dataframe tbody tr th:only-of-type {\n",
       "        vertical-align: middle;\n",
       "    }\n",
       "\n",
       "    .dataframe tbody tr th {\n",
       "        vertical-align: top;\n",
       "    }\n",
       "\n",
       "    .dataframe thead th {\n",
       "        text-align: right;\n",
       "    }\n",
       "</style>\n",
       "<table border=\"1\" class=\"dataframe\">\n",
       "  <thead>\n",
       "    <tr style=\"text-align: right;\">\n",
       "      <th></th>\n",
       "      <th>city</th>\n",
       "      <th>type</th>\n",
       "      <th>geoid</th>\n",
       "      <th>racial_majority</th>\n",
       "      <th>month</th>\n",
       "      <th>filings_2020</th>\n",
       "      <th>filings_avg</th>\n",
       "      <th>fmr_2br</th>\n",
       "      <th>fmr_2br_90</th>\n",
       "      <th>fmr_2br_110</th>\n",
       "      <th>borough</th>\n",
       "      <th>post_office</th>\n",
       "      <th>neighborhood</th>\n",
       "      <th>population</th>\n",
       "      <th>density</th>\n",
       "    </tr>\n",
       "  </thead>\n",
       "  <tbody>\n",
       "    <tr>\n",
       "      <th>0</th>\n",
       "      <td>New York, NY</td>\n",
       "      <td>Zip Code</td>\n",
       "      <td>10001.0</td>\n",
       "      <td>White</td>\n",
       "      <td>2020-01-01</td>\n",
       "      <td>51</td>\n",
       "      <td>55.000000</td>\n",
       "      <td>2110.0</td>\n",
       "      <td>1899.0</td>\n",
       "      <td>2321.0</td>\n",
       "      <td>Manhattan</td>\n",
       "      <td>New York, NY</td>\n",
       "      <td>Chelsea and Clinton</td>\n",
       "      <td>21102.0</td>\n",
       "      <td>33959.0</td>\n",
       "    </tr>\n",
       "    <tr>\n",
       "      <th>1</th>\n",
       "      <td>New York, NY</td>\n",
       "      <td>Zip Code</td>\n",
       "      <td>10001.0</td>\n",
       "      <td>White</td>\n",
       "      <td>2020-02-01</td>\n",
       "      <td>23</td>\n",
       "      <td>49.333333</td>\n",
       "      <td>2110.0</td>\n",
       "      <td>1899.0</td>\n",
       "      <td>2321.0</td>\n",
       "      <td>Manhattan</td>\n",
       "      <td>New York, NY</td>\n",
       "      <td>Chelsea and Clinton</td>\n",
       "      <td>21102.0</td>\n",
       "      <td>33959.0</td>\n",
       "    </tr>\n",
       "    <tr>\n",
       "      <th>2</th>\n",
       "      <td>New York, NY</td>\n",
       "      <td>Zip Code</td>\n",
       "      <td>10001.0</td>\n",
       "      <td>White</td>\n",
       "      <td>2020-03-01</td>\n",
       "      <td>20</td>\n",
       "      <td>48.333333</td>\n",
       "      <td>2110.0</td>\n",
       "      <td>1899.0</td>\n",
       "      <td>2321.0</td>\n",
       "      <td>Manhattan</td>\n",
       "      <td>New York, NY</td>\n",
       "      <td>Chelsea and Clinton</td>\n",
       "      <td>21102.0</td>\n",
       "      <td>33959.0</td>\n",
       "    </tr>\n",
       "    <tr>\n",
       "      <th>3</th>\n",
       "      <td>New York, NY</td>\n",
       "      <td>Zip Code</td>\n",
       "      <td>10001.0</td>\n",
       "      <td>White</td>\n",
       "      <td>2020-04-01</td>\n",
       "      <td>0</td>\n",
       "      <td>41.666667</td>\n",
       "      <td>2110.0</td>\n",
       "      <td>1899.0</td>\n",
       "      <td>2321.0</td>\n",
       "      <td>Manhattan</td>\n",
       "      <td>New York, NY</td>\n",
       "      <td>Chelsea and Clinton</td>\n",
       "      <td>21102.0</td>\n",
       "      <td>33959.0</td>\n",
       "    </tr>\n",
       "    <tr>\n",
       "      <th>4</th>\n",
       "      <td>New York, NY</td>\n",
       "      <td>Zip Code</td>\n",
       "      <td>10001.0</td>\n",
       "      <td>White</td>\n",
       "      <td>2020-05-01</td>\n",
       "      <td>0</td>\n",
       "      <td>42.000000</td>\n",
       "      <td>2110.0</td>\n",
       "      <td>1899.0</td>\n",
       "      <td>2321.0</td>\n",
       "      <td>Manhattan</td>\n",
       "      <td>New York, NY</td>\n",
       "      <td>Chelsea and Clinton</td>\n",
       "      <td>21102.0</td>\n",
       "      <td>33959.0</td>\n",
       "    </tr>\n",
       "  </tbody>\n",
       "</table>\n",
       "</div>"
      ],
      "text/plain": [
       "           city      type    geoid racial_majority      month  filings_2020  \\\n",
       "0  New York, NY  Zip Code  10001.0           White 2020-01-01            51   \n",
       "1  New York, NY  Zip Code  10001.0           White 2020-02-01            23   \n",
       "2  New York, NY  Zip Code  10001.0           White 2020-03-01            20   \n",
       "3  New York, NY  Zip Code  10001.0           White 2020-04-01             0   \n",
       "4  New York, NY  Zip Code  10001.0           White 2020-05-01             0   \n",
       "\n",
       "   filings_avg  fmr_2br  fmr_2br_90  fmr_2br_110    borough   post_office  \\\n",
       "0    55.000000   2110.0      1899.0       2321.0  Manhattan  New York, NY   \n",
       "1    49.333333   2110.0      1899.0       2321.0  Manhattan  New York, NY   \n",
       "2    48.333333   2110.0      1899.0       2321.0  Manhattan  New York, NY   \n",
       "3    41.666667   2110.0      1899.0       2321.0  Manhattan  New York, NY   \n",
       "4    42.000000   2110.0      1899.0       2321.0  Manhattan  New York, NY   \n",
       "\n",
       "          neighborhood  population  density  \n",
       "0  Chelsea and Clinton     21102.0  33959.0  \n",
       "1  Chelsea and Clinton     21102.0  33959.0  \n",
       "2  Chelsea and Clinton     21102.0  33959.0  \n",
       "3  Chelsea and Clinton     21102.0  33959.0  \n",
       "4  Chelsea and Clinton     21102.0  33959.0  "
      ]
     },
     "execution_count": 17,
     "metadata": {},
     "output_type": "execute_result"
    }
   ],
   "source": [
    "#initial peek under the hood of the parquet dataset\n",
    "df_factor.head()"
   ]
  },
  {
   "cell_type": "code",
   "execution_count": 18,
   "metadata": {},
   "outputs": [
    {
     "name": "stdout",
     "output_type": "stream",
     "text": [
      "<class 'pandas.core.frame.DataFrame'>\n",
      "RangeIndex: 8729 entries, 0 to 8728\n",
      "Data columns (total 15 columns):\n",
      " #   Column           Non-Null Count  Dtype         \n",
      "---  ------           --------------  -----         \n",
      " 0   city             8729 non-null   category      \n",
      " 1   type             8729 non-null   category      \n",
      " 2   geoid            8700 non-null   float64       \n",
      " 3   racial_majority  8700 non-null   category      \n",
      " 4   month            8729 non-null   datetime64[ns]\n",
      " 5   filings_2020     8729 non-null   int64         \n",
      " 6   filings_avg      8729 non-null   float64       \n",
      " 7   fmr_2br          2861 non-null   float64       \n",
      " 8   fmr_2br_90       2861 non-null   float64       \n",
      " 9   fmr_2br_110      2861 non-null   float64       \n",
      " 10  borough          5133 non-null   category      \n",
      " 11  post_office      5133 non-null   category      \n",
      " 12  neighborhood     5133 non-null   category      \n",
      " 13  population       5133 non-null   float64       \n",
      " 14  density          5133 non-null   float64       \n",
      "dtypes: category(6), datetime64[ns](1), float64(7), int64(1)\n",
      "memory usage: 669.6 KB\n"
     ]
    }
   ],
   "source": [
    "# check for number and type of variables in parquet set\n",
    "df_factor.info()"
   ]
  },
  {
   "cell_type": "code",
   "execution_count": null,
   "metadata": {},
   "outputs": [],
   "source": [
    "    "
   ]
  },
  {
   "cell_type": "code",
   "execution_count": null,
   "metadata": {},
   "outputs": [],
   "source": []
  },
  {
   "cell_type": "code",
   "execution_count": null,
   "metadata": {},
   "outputs": [],
   "source": []
  },
  {
   "cell_type": "markdown",
   "metadata": {},
   "source": [
    "### Check for missing values\n",
    "Before I do any initial analysis, I need to check for missing values from the dataset. In the code below, I found that the control `racial_majority` had 29 missing values, and the rest are fine.  In the context of this large dataset these are acceptable missing amounts to continue to use everything.  \n",
    "\n",
    "Our backup control variables `month` and `GEOID` (zip code) have no missing values.  These are good.  "
   ]
  },
  {
   "cell_type": "code",
   "execution_count": null,
   "metadata": {},
   "outputs": [],
   "source": [
    "df_evict.isnull().sum()                           # returns the number of missing values for the df"
   ]
  },
  {
   "cell_type": "markdown",
   "metadata": {},
   "source": [
    "I will first rename `race_majority` to `race` in order to ease analysis.  Then, I will also add `counties` to the dataset by assigning zip codes to counties and then applying those as a function to the `GEOID` info for readability in the analysis and plots."
   ]
  },
  {
   "cell_type": "code",
   "execution_count": null,
   "metadata": {},
   "outputs": [],
   "source": [
    "#rename of race column here\n",
    "df_evict = df_evict.rename(columns={'race_majority':'Race'})\n",
    "\n",
    "df_evict.columns"
   ]
  },
  {
   "cell_type": "markdown",
   "metadata": {},
   "source": [
    "Now the variables are ready to perform an initial analysis to present their survey results.  "
   ]
  },
  {
   "cell_type": "markdown",
   "metadata": {},
   "source": [
    "## 6. References <a id=6></a>\n",
    "\n",
    "### Programming References:\n",
    "Matplotlib Style Sheets Reference.  https://matplotlib.org/stable/gallery/style_sheets/style_sheets_reference.html\n",
    "\n",
    "Legend in Matplotlib.  https://matplotlib.org/stable/api/_as_gen/matplotlib.pyplot.legend.html\n",
    "\n",
    "Stats t-test in Scipy.  https://docs.scipy.org/doc/scipy/reference/generated/scipy.stats.ttest_ind.html"
   ]
  },
  {
   "cell_type": "markdown",
   "metadata": {},
   "source": [
    "\n",
    "### Datasets:\n",
    "Crosswalk Dataset of Zip to Tract. U.S. Department of Housing and Urban Development. Office of Policy Development and Research.  https://www.huduser.gov/portal/datasets/usps_crosswalk.html#data\n",
    "\n",
    "\"Fair Market Rents: 40th Percentile.\" U.S. Department of Housing and Urban Development. Office of Policy Development and Research. Datasets.  https://www.huduser.gov/portal/datasets/fmr.html#2022_data\n",
    "\n",
    "Peter Hepburn, Renee Louis, and Matthew Desmond. Eviction Tracking System: Version 1.0. Princeton: Princeton University, 2020. www.evictionlab.org.\n",
    "\n",
    "### General Reference\n",
    "\"Summary: Fair Market Rents.\" U.S. Department of Housing and Urban Development. Office of Policy Development and Research. Blog.  https://www.huduser.gov/periodicals/ushmc/winter98/summary-2.html \n",
    "\n",
    "U.S. Commission on Civil Rights. Racial Discrimination and Eviction Policies and Enforcement in New York. 10 Mar 2022.  https://www.usccr.gov/reports/2022/racial-discrimination-and-eviction-policies-and-enforcement-new-york\n",
    "\n",
    "Zaveri, Mihir.  After a Two-Year Dip, Evictions Accelerate in New York. The New York Times. 2 May 2022. https://www.nytimes.com/2022/05/02/nyregion/new-york-evictions-cases.html\n"
   ]
  },
  {
   "cell_type": "markdown",
   "metadata": {},
   "source": [
    "<div class = \"alert alert-info\">\n",
    "\n",
    "[Back to top](#7)<br>\n",
    "    \n",
    "</div>\n",
    "<hr>"
   ]
  },
  {
   "cell_type": "code",
   "execution_count": null,
   "metadata": {},
   "outputs": [],
   "source": []
  }
 ],
 "metadata": {
  "kernelspec": {
   "display_name": "Python 3",
   "language": "python",
   "name": "python3"
  },
  "language_info": {
   "codemirror_mode": {
    "name": "ipython",
    "version": 3
   },
   "file_extension": ".py",
   "mimetype": "text/x-python",
   "name": "python",
   "nbconvert_exporter": "python",
   "pygments_lexer": "ipython3",
   "version": "3.8.8"
  }
 },
 "nbformat": 4,
 "nbformat_minor": 4
}
