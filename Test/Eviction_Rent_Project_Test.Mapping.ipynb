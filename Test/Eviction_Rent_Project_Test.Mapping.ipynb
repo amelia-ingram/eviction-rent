{
 "cells": [
  {
   "cell_type": "markdown",
   "metadata": {},
   "source": [
    "<h1> Project: Housing Evictions and Fair Market Rents in New York City</h1> <a id=7></a>\n",
    "<h3> Mapping Tests for Eviction and FMR data</h3>\n"
   ]
  },
  {
   "cell_type": "markdown",
   "metadata": {},
   "source": [
    "### Page Summary:\n",
    "This page is meant to draft the mapping of both evictions and FMR datasets."
   ]
  },
  {
   "cell_type": "markdown",
   "metadata": {},
   "source": [
    "## Data <a id=3></a>\n",
    "\n",
    "For this project, we are utilizing data from two datasets (evictionlab.org and HUD) that both include zip code geolocators, in order to both map and analyze the data.  In order to make this happen, we needed to utilize a \"crosswalk\" dataset from HUD.gov in order to connect geographic areas.  Additionally, we will use ACS data for demographic information within each area.\n",
    "\n",
    "Our first task is to read in and inspect the merged <b>Eviction Lab</b> and <b>FMR</b> dataset.  In the eviction dataset, there are 8428 unique observations and 7 variables, and in the merged dataset, there are 9744 observations across 21 columns.  "
   ]
  },
  {
   "cell_type": "code",
   "execution_count": null,
   "metadata": {},
   "outputs": [],
   "source": [
    "import pandas as pd         #quick stats       \n",
    "import numpy as np      #numerical functions\n",
    "import matplotlib.pyplot as plt    #visualization library\n",
    "import seaborn as sns    #visualization and stats"
   ]
  },
  {
   "cell_type": "code",
   "execution_count": null,
   "metadata": {},
   "outputs": [],
   "source": [
    "%matplotlib inline"
   ]
  },
  {
   "cell_type": "code",
   "execution_count": null,
   "metadata": {},
   "outputs": [],
   "source": [
    "#load Evict_FMR_merged dataset\n",
    "path = '/Users/ameliaingram/Documents/My_GitHub+Repository/eviction-rent/assets/data/raw/Evict_FMR_merged.csv'\n",
    "\n",
    "df = pd.read_csv(path, header=0)            # read eviction data from online\n"
   ]
  },
  {
   "cell_type": "code",
   "execution_count": null,
   "metadata": {},
   "outputs": [],
   "source": [
    "df.info()                               # returns # rows/obs, columns/variables and types"
   ]
  },
  {
   "cell_type": "markdown",
   "metadata": {},
   "source": [
    "There are two main issues we see above. First, we can observe `GEOID` cases are essentially zip codes and a number of `GEOID` cases that are listed as \"sealed\".  According to the data dictionary from the Eviction Lab website, \"A modest portion of filings are reported to us with missing, incorrect, or out-of-bounds addresses. In these cases, we do not assign a Census Tract or Zip code to the case.\" There were 29 sealed cases excluded for the purposes of merging and mapping.  If we wish to use the sealed sets, we can load the `f_evict` dataset below.<br>\n",
    "\n",
    "Secondly, the `HUD Metro Area Name` actually changed for certain zip codes from year to year.  We kept those columns in the data for reference.  Not sure if it's important yet, but they're there.\n",
    "\n",
    "The `month` variable includes both month and year data.  Will need to confirm they are usable in Python's date format.  The 'sealed' values from the `GEOID` column now has 896 null entries.  Hopefully this won't be a problem--it is relatively low."
   ]
  },
  {
   "cell_type": "markdown",
   "metadata": {},
   "source": [
    "### Check for missing values\n",
    "Before any initial analysis, we need to check for missing values from each dataset. In the merged dataset, there are no missing values.  However in the Evictions dataset, the controls `GEOID` and `racial_majority` had 896 missing values, and the rest are fine.  In the context of this large dataset these are acceptable missing amounts to continue to use everything. "
   ]
  },
  {
   "cell_type": "code",
   "execution_count": null,
   "metadata": {},
   "outputs": [],
   "source": [
    "df.isnull().sum()        # confirm the number of NaN values for the df"
   ]
  },
  {
   "cell_type": "code",
   "execution_count": null,
   "metadata": {
    "scrolled": true
   },
   "outputs": [],
   "source": [
    "#Convert 'GEOID' sealed entries into NaN\n",
    "df['GEOID'] = df.GEOID.replace('sealed', np.nan)\n",
    "\n",
    "df.isnull().sum()        # returns the number of NaN values for the df"
   ]
  },
  {
   "cell_type": "markdown",
   "metadata": {},
   "source": [
    "I will first rename `race_majority` to `race` in order to ease analysis.  Then, I will also add `counties` to the dataset by assigning zip codes to counties and then applying those as a function to the `GEOID` info for readability in the analysis and plots."
   ]
  },
  {
   "cell_type": "code",
   "execution_count": null,
   "metadata": {},
   "outputs": [],
   "source": [
    "#rename ZIP and racial_majority column in Eviction dataset here\n",
    "df = df.rename(columns={'ZIP':'zipcode','race_majority':'Race'})\n",
    "\n",
    "df.columns"
   ]
  },
  {
   "cell_type": "markdown",
   "metadata": {},
   "source": [
    "Now the variables are ready to perform an initial exploratory analysis.  "
   ]
  },
  {
   "cell_type": "markdown",
   "metadata": {},
   "source": [
    "## 1. Mapping of Eviction Data<a id=3.1></a>\n",
    "\n"
   ]
  },
  {
   "cell_type": "code",
   "execution_count": null,
   "metadata": {},
   "outputs": [],
   "source": [
    "#import packages for mapping\n",
    "import geopandas as gp\n",
    "import plotly.express as px\n",
    "import json\n",
    "#from urllib.request import urlopen    \n",
    "import folium as fm\n",
    "from folium.plugins import HeatMap\n"
   ]
  },
  {
   "cell_type": "code",
   "execution_count": null,
   "metadata": {},
   "outputs": [],
   "source": [
    "#load geojson dataset\n",
    "from urllib.request import urlopen\n",
    "\n",
    "with urlopen('https://raw.githubusercontent.com/OpenDataDE/State-zip-code-GeoJSON/master/ny_new_york_zip_codes_geo.min.json') as response:\n",
    "    geojson = json.load(response)\n",
    "#geojson = json.load(open('/Users/ameliaingram/Documents/My_GitHub+Repository/eviction-rent/assets/data/raw/new_york_zip_codes_geo.min.json'))\n"
   ]
  },
  {
   "cell_type": "code",
   "execution_count": null,
   "metadata": {},
   "outputs": [],
   "source": [
    "#map eviction filings by zipcode\n",
    "fig = px.choropleth(df, geojson=geojson, locations='zipcode', color='filings_2020',\n",
    "                           color_continuous_scale=\"Viridis\", featureidkey='properties.ZCTA5CE10',\n",
    "                           range_color=(0, 100),\n",
    "                           scope=\"usa\", center = {\"lat\": 40.81, \"lon\": -73.90},\n",
    "                           labels={'filings_2020':'# Evictions'}\n",
    "                          )\n",
    "fig.update_geos(fitbounds=\"locations\")\n",
    "fig.update_layout(margin={\"r\":0,\"t\":0,\"l\":0,\"b\":0})\n",
    "fig.show()"
   ]
  },
  {
   "cell_type": "code",
   "execution_count": null,
   "metadata": {},
   "outputs": [],
   "source": []
  },
  {
   "cell_type": "code",
   "execution_count": null,
   "metadata": {},
   "outputs": [],
   "source": [
    "#map eviction filings by zipcode\n",
    "fig = px.choropleth(df, geojson=geojson, locations='zipcode', color='SAFMR22 2BR',\n",
    "                           color_continuous_scale=\"Viridis\",featureidkey='properties.ZCTA5CE10',\n",
    "                           range_color=(0, 100), \n",
    "                           zoom=3, center = {\"lat\": 40.81, \"lon\": -73.90},\n",
    "                           opacity=0.5, title='Fair Market Rent 2 BD 2022',\n",
    "                           labels={'SAFMR22 2BR':'FMR 2022'}\n",
    "                          )\n",
    "fig.update_geos(fitbounds=\"locations\")\n",
    "fig.update_layout(margin={\"r\":0,\"t\":5,\"l\":0,\"b\":0})\n",
    "fig.show()"
   ]
  },
  {
   "cell_type": "markdown",
   "metadata": {},
   "source": [
    "### Map using Folium--Not working yet..."
   ]
  },
  {
   "cell_type": "code",
   "execution_count": null,
   "metadata": {},
   "outputs": [],
   "source": [
    "# Set zipcode type to string (folium)\n",
    "df['zipcode'] = df['zipcode'].astype('str')\n",
    "\n",
    "# get the mean value across all data points\n",
    "zipcode_data = df.groupby('zipcode').aggregate(np.mean)\n",
    "zipcode_data.reset_index(inplace = True)"
   ]
  },
  {
   "cell_type": "code",
   "execution_count": null,
   "metadata": {},
   "outputs": [],
   "source": [
    "# count number of filings_2020 grouped by zipcode\n",
    "df['count'] = 1\n",
    "temp = df.groupby('zipcode').sum('filings_2020')\n",
    "temp.reset_index(inplace = True)\n",
    "temp = temp[['zipcode', 'count']]\n",
    "zipcode_data = pd.merge(zipcode_data, temp, on='zipcode')\n",
    "# drop count from df dataset\n",
    "df.drop(['count'], axis = 1, inplace = True)"
   ]
  },
  {
   "cell_type": "code",
   "execution_count": null,
   "metadata": {},
   "outputs": [],
   "source": [
    "# Get geojson data file path\n",
    "geo_data_file = '/Users/ameliaingram/Documents/My_GitHub+Repository/eviction-rent/data/nyc-zip-code-tabulation-areas-polygons.geojson'\n",
    "#load GEOJSON\n",
    "with open(geo_data_file, 'r') as jsonFile:\n",
    "    geo_data = json.load(jsonFile)\n",
    "\n",
    "tmp = geo_data\n"
   ]
  },
  {
   "cell_type": "code",
   "execution_count": null,
   "metadata": {},
   "outputs": [],
   "source": [
    "#visualize distribution of evictions\n",
    "def count_dist(df, location, filings_2020):\n",
    "    group_counts = pd.DataFrame(df.groupby([location, filings_2020]).size().unstack(1))\n",
    "    group_counts.reset_index(inplace = True)\n",
    "    return group_counts\n",
    "\n",
    "#function to return % racial distribution in each zip code...don't think this is accurate\n",
    "def subgroup_distribution(df, location, racial_majority):\n",
    "    group = df.groupby([location, racial_majority]).size()\n",
    "    group_pcts = group.groupby(level=0).apply(lambda x: 100 * x/float(x.sum()))\n",
    "    group_pcts = pd.DataFrame(group_pcts.unstack(1))\n",
    "    group_pcts.reset_index(inplace=True)\n",
    "    return group_pcts"
   ]
  },
  {
   "cell_type": "code",
   "execution_count": null,
   "metadata": {},
   "outputs": [],
   "source": [
    "def map_feature_by_zipcode(zipcode_data, col):\n",
    "    \"\"\"\n",
    "    Generates a folium map of NYC\n",
    "    :param zipcode_data: zipcode dataset\n",
    "    :param col: feature to display\n",
    "    :return: m\n",
    "    \"\"\"\n",
    "\n",
    "    # Initialize Folium Map with NYC latitude and longitude\n",
    "    m = folium.Map(location=[40.81, -73.90], zoom_start=9,\n",
    "                   detect_retina=True, control_scale=False)\n",
    "\n",
    "    # Create choropleth map\n",
    "    m.choropleth(\n",
    "        geo_data=geo_data,\n",
    "        name='choropleth',\n",
    "        data=zipcode_data,\n",
    "        # col: feature of interest\n",
    "        columns=['zipcode', 'group_counts', 'group_pcts'],\n",
    "        key_on='feature.properties.ZIPCODE',\n",
    "        fill_color='OrRd',\n",
    "        fill_opacity=0.9,\n",
    "        line_opacity=0.2,\n",
    "        legend_name='Evictions' + col\n",
    "    )\n",
    "\n",
    "    folium.LayerControl().add_to(m)\n",
    "\n",
    "    # Save map based on feature of interest\n",
    "    m.save(col + '.html')\n",
    "\n",
    "    return m"
   ]
  },
  {
   "cell_type": "markdown",
   "metadata": {},
   "source": [
    "Ended Here\n",
    "==============================\n",
    "\n",
    "### Variable:  Evictions (filings_2020)\n",
    "`filings_2020` is the independent variable in this study.  The Eviction Lab data reports both filings_2020 which is a reported number per month since 2020 and filings_avg which is the average per month.  We are exploring both versions in this project.]"
   ]
  },
  {
   "cell_type": "code",
   "execution_count": null,
   "metadata": {},
   "outputs": [],
   "source": [
    "df2.filings_2020.describe()                          "
   ]
  },
  {
   "cell_type": "markdown",
   "metadata": {},
   "source": [
    "According to the preliminary descriptive statistics, evictions were on average 17.075 per zipcode, with a minimum of zero and a maximum of 550.  The interquartile range varied from 0 to 15 for the middle 50% of zipcodes.  "
   ]
  },
  {
   "cell_type": "markdown",
   "metadata": {},
   "source": [
    "In order to refine the evictions into a recognizable pattern, I will divide into five categorical levels of evictions (0, 1-9, 10-29, 30-59, 60-99, and >100). This will give a more detailed attention to the extreme ranges of evictions, in order to isolate these groups from the lower rates."
   ]
  },
  {
   "cell_type": "code",
   "execution_count": null,
   "metadata": {},
   "outputs": [],
   "source": [
    "def evict_b(y):                                 \n",
    "    '''\n",
    "    INPUT: \n",
    "    y: int, from -1 to 550, the inputs of the int variable `filings_2020`\n",
    "    \n",
    "    OUTPUT:\n",
    "    0 recoded to '<1'\n",
    "    1-9 recoded to '1-9'\n",
    "    10-29 recoded to '10-29'\n",
    "    30-59 recoded to '30-59'\n",
    "    60-99 recoded to '60-99'\n",
    "    >100 recoded to '>100'\n",
    "    '''\n",
    "    if y == 0:\n",
    "        return '0'\n",
    "    if y >0 and y<10:\n",
    "        return '1-9'\n",
    "    elif y >= 10 and y<30:\n",
    "        return '10-29'\n",
    "    elif y >= 30 and y<60:\n",
    "        return '30-59'\n",
    "    elif y>=60 and y<100:\n",
    "        return '60-99'\n",
    "    elif y>=100:\n",
    "        return '>100'\n",
    "    else:\n",
    "        return np.nan                        # missing is coded as nan \n",
    "\n",
    "# apply the function to `filings_2020`\n",
    "\n",
    "df2['filings_cat'] = df2.filings_2020.apply(evict_b)"
   ]
  },
  {
   "cell_type": "code",
   "execution_count": null,
   "metadata": {},
   "outputs": [],
   "source": [
    "# double check whether the transformation is successful:\n",
    "\n",
    "df2[['filings_cat']]"
   ]
  },
  {
   "cell_type": "markdown",
   "metadata": {},
   "source": [
    "Now that we have groups `filings_2020` into groups, let's see the resulting distribution. "
   ]
  },
  {
   "cell_type": "code",
   "execution_count": null,
   "metadata": {},
   "outputs": [],
   "source": [
    "with plt.style.context('fast'):\n",
    "    df2.groupby('filings_cat').size().plot(kind='bar')   #bar graph in order\n",
    "plt.title('Eviction Rates by Groups (Eviction Lab 2020-2022)')\n",
    "plt.xlabel('Eviction by Groups')\n",
    "plt.ylabel('# Evictions')"
   ]
  },
  {
   "cell_type": "markdown",
   "metadata": {},
   "source": [
    "## 6. References <a id=6></a>\n",
    "\n",
    "### Programming References:\n",
    "Matplotlib Style Sheets Reference.  https://matplotlib.org/stable/gallery/style_sheets/style_sheets_reference.html\n",
    "\n",
    "Legend in Matplotlib.  https://matplotlib.org/stable/api/_as_gen/matplotlib.pyplot.legend.html\n",
    "\n",
    "Stats t-test in Scipy.  https://docs.scipy.org/doc/scipy/reference/generated/scipy.stats.ttest_ind.html"
   ]
  },
  {
   "cell_type": "markdown",
   "metadata": {},
   "source": [
    "\n",
    "### Datasets:\n",
    "Crosswalk Dataset of Zip to Tract. U.S. Department of Housing and Urban Development. Office of Policy Development and Research.  https://www.huduser.gov/portal/datasets/usps_crosswalk.html#data\n",
    "\n",
    "\"Fair Market Rents: 40th Percentile.\" U.S. Department of Housing and Urban Development. Office of Policy Development and Research. Datasets.  https://www.huduser.gov/portal/datasets/fmr.html#2022_data\n",
    "\n",
    "Peter Hepburn, Renee Louis, and Matthew Desmond. Eviction Tracking System: Version 1.0. Princeton: Princeton University, 2020. www.evictionlab.org.\n",
    "\n",
    "### General Reference\n",
    "\"Summary: Fair Market Rents.\" U.S. Department of Housing and Urban Development. Office of Policy Development and Research. Blog.  https://www.huduser.gov/periodicals/ushmc/winter98/summary-2.html \n",
    "\n",
    "U.S. Commission on Civil Rights. Racial Discrimination and Eviction Policies and Enforcement in New York. 10 Mar 2022.  https://www.usccr.gov/reports/2022/racial-discrimination-and-eviction-policies-and-enforcement-new-york\n",
    "\n",
    "Zaveri, Mihir.  After a Two-Year Dip, Evictions Accelerate in New York. The New York Times. 2 May 2022. https://www.nytimes.com/2022/05/02/nyregion/new-york-evictions-cases.html\n"
   ]
  },
  {
   "cell_type": "markdown",
   "metadata": {},
   "source": [
    "<div class = \"alert alert-info\">\n",
    "\n",
    "[Back to top](#7)<br>\n",
    "    \n",
    "</div>\n",
    "<hr>"
   ]
  },
  {
   "cell_type": "code",
   "execution_count": null,
   "metadata": {},
   "outputs": [],
   "source": []
  }
 ],
 "metadata": {
  "kernelspec": {
   "display_name": "Python 3",
   "language": "python",
   "name": "python3"
  },
  "language_info": {
   "codemirror_mode": {
    "name": "ipython",
    "version": 3
   },
   "file_extension": ".py",
   "mimetype": "text/x-python",
   "name": "python",
   "nbconvert_exporter": "python",
   "pygments_lexer": "ipython3",
   "version": "3.8.8"
  }
 },
 "nbformat": 4,
 "nbformat_minor": 4
}
