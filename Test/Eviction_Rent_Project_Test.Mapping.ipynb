{
 "cells": [
  {
   "cell_type": "markdown",
   "metadata": {},
   "source": [
    "<h1> Project: Housing Evictions and Fair Market Rents in New York City</h1> <a id=7></a>\n",
    "<h3> Mapping Tests for Eviction and FMR data</h3>\n"
   ]
  },
  {
   "cell_type": "markdown",
   "metadata": {},
   "source": [
    "### Page Summary:\n",
    "This page is meant to draft the mapping of both evictions and FMR datasets."
   ]
  },
  {
   "cell_type": "markdown",
   "metadata": {},
   "source": [
    "## Data <a id=3></a>\n",
    "\n",
    "For this project, we are utilizing data from two datasets (evictionlab.org and HUD) that both include zip code geolocators, in order to both map and analyze the data.  In order to make this happen, we needed to utilize a \"crosswalk\" dataset from HUD.gov in order to connect geographic areas.  Additionally, we will use ACS data for demographic information within each area.\n",
    "\n",
    "Our first task is to read in and inspect the merged <b>Eviction Lab</b> and <b>FMR</b> dataset.  In the eviction dataset, there are 8428 unique observations and 7 variables, and in the merged dataset, there are 9744 observations across 21 columns.  "
   ]
  },
  {
   "cell_type": "code",
   "execution_count": 1,
   "metadata": {},
   "outputs": [],
   "source": [
    "import pandas as pd         #quick stats       \n",
    "import numpy as np      #numerical functions\n",
    "import matplotlib.pyplot as plt    #visualization library\n",
    "import seaborn as sns    #visualization and stats"
   ]
  },
  {
   "cell_type": "code",
   "execution_count": 2,
   "metadata": {},
   "outputs": [],
   "source": [
    "%matplotlib inline"
   ]
  },
  {
   "cell_type": "code",
   "execution_count": 3,
   "metadata": {},
   "outputs": [],
   "source": [
    "#load Evict_FMR_merged dataset\n",
    "path = '/Users/ameliaingram/Documents/My_GitHub+Repository/eviction-rent/data/Evict_FMR_merged.csv'\n",
    "\n",
    "df = pd.read_csv(path, header=0)            # read eviction data from online\n"
   ]
  },
  {
   "cell_type": "code",
   "execution_count": 16,
   "metadata": {},
   "outputs": [
    {
     "name": "stdout",
     "output_type": "stream",
     "text": [
      "<class 'pandas.core.frame.DataFrame'>\n",
      "RangeIndex: 9744 entries, 0 to 9743\n",
      "Data columns (total 21 columns):\n",
      " #   Column                     Non-Null Count  Dtype  \n",
      "---  ------                     --------------  -----  \n",
      " 0   GEOID                      9744 non-null   int64  \n",
      " 1   filings_2020               9744 non-null   int64  \n",
      " 2   filings_avg                9744 non-null   float64\n",
      " 3   racial_majority            9744 non-null   object \n",
      " 4   month                      9744 non-null   object \n",
      " 5   ZIP                        9744 non-null   int64  \n",
      " 6   HUD Area Code_x            9744 non-null   object \n",
      " 7   HUD Metro FMR Area Name_x  9744 non-null   object \n",
      " 8   SAFMR22 2BR                9744 non-null   int64  \n",
      " 9   SAFMR22 2BR 90% Pmt        9744 non-null   int64  \n",
      " 10  SAFMR22 2BR 110% Pmt       9744 non-null   int64  \n",
      " 11  HUD Area Code_y            9744 non-null   object \n",
      " 12  HUD Metro FMR Area Name_y  9744 non-null   object \n",
      " 13  SAFMR21 2BR                9744 non-null   int64  \n",
      " 14  SAFMR21 2BR 90% Pmt        9744 non-null   int64  \n",
      " 15  SAFMR21 2BR 110% Pmt       9744 non-null   int64  \n",
      " 16  CBSASub20                  9744 non-null   object \n",
      " 17  HUD Metro FMR Area Name20  9744 non-null   object \n",
      " 18  SAFMR20 2BR                9744 non-null   int64  \n",
      " 19  SAFMR20 2BR 90% Pmt        9744 non-null   int64  \n",
      " 20  SAFMR20 2BR 110% Pmt       9744 non-null   int64  \n",
      "dtypes: float64(1), int64(12), object(8)\n",
      "memory usage: 1.6+ MB\n"
     ]
    }
   ],
   "source": [
    "df.info()                               # returns # rows/obs, columns/variables and types"
   ]
  },
  {
   "cell_type": "markdown",
   "metadata": {},
   "source": [
    "There are two main issues we see above. First, we can observe `GEOID` cases are essentially zip codes and a number of `GEOID` cases that are listed as \"sealed\".  According to the data dictionary from the Eviction Lab website, \"A modest portion of filings are reported to us with missing, incorrect, or out-of-bounds addresses. In these cases, we do not assign a Census Tract or Zip code to the case.\" There were 29 sealed cases excluded for the purposes of merging and mapping.  If we wish to use the sealed sets, we can load the `f_evict` dataset below.<br>\n",
    "\n",
    "Secondly, the `HUD Metro Area Name` actually changed for certain zip codes from year to year.  We kept those columns in the data for reference.  Not sure if it's important yet, but they're there.\n",
    "\n",
    "The `month` variable includes both month and year data.  Will need to confirm they are usable in Python's date format.  The 'sealed' values from the `GEOID` column now has 896 null entries.  Hopefully this won't be a problem--it is relatively low."
   ]
  },
  {
   "cell_type": "code",
   "execution_count": 13,
   "metadata": {},
   "outputs": [
    {
     "name": "stdout",
     "output_type": "stream",
     "text": [
      "<class 'pandas.core.frame.DataFrame'>\n",
      "RangeIndex: 256865 entries, 0 to 256864\n",
      "Data columns (total 8 columns):\n",
      " #   Column           Non-Null Count   Dtype  \n",
      "---  ------           --------------   -----  \n",
      " 0   city             256865 non-null  object \n",
      " 1   type             256865 non-null  object \n",
      " 2   GEOID            256865 non-null  object \n",
      " 3   racial_majority  255969 non-null  object \n",
      " 4   month            256865 non-null  object \n",
      " 5   filings_2020     256865 non-null  int64  \n",
      " 6   filings_avg      256865 non-null  float64\n",
      " 7   last_updated     256865 non-null  object \n",
      "dtypes: float64(1), int64(1), object(6)\n",
      "memory usage: 15.7+ MB\n"
     ]
    }
   ],
   "source": [
    "#load Evictions dataset\n",
    "path2 = '/Users/ameliaingram/Documents/My_GitHub+Repository/eviction-rent/data/evictions_allcities_monthly_2020_2021.csv'\n",
    "\n",
    "df2 = pd.read_csv(path2, header=0)            # read eviction data from online\n",
    "df2.info()"
   ]
  },
  {
   "cell_type": "markdown",
   "metadata": {},
   "source": [
    "### Check for missing values\n",
    "Before any initial analysis, we need to check for missing values from each dataset. In the merged dataset, there are no missing values.  However in the Evictions dataset, the controls `GEOID` and `racial_majority` had 896 missing values, and the rest are fine.  In the context of this large dataset these are acceptable missing amounts to continue to use everything. "
   ]
  },
  {
   "cell_type": "code",
   "execution_count": 19,
   "metadata": {},
   "outputs": [
    {
     "data": {
      "text/plain": [
       "GEOID                        0\n",
       "filings_2020                 0\n",
       "filings_avg                  0\n",
       "racial_majority              0\n",
       "month                        0\n",
       "ZIP                          0\n",
       "HUD Area Code_x              0\n",
       "HUD Metro FMR Area Name_x    0\n",
       "SAFMR22 2BR                  0\n",
       "SAFMR22 2BR 90% Pmt          0\n",
       "SAFMR22 2BR 110% Pmt         0\n",
       "HUD Area Code_y              0\n",
       "HUD Metro FMR Area Name_y    0\n",
       "SAFMR21 2BR                  0\n",
       "SAFMR21 2BR 90% Pmt          0\n",
       "SAFMR21 2BR 110% Pmt         0\n",
       "CBSASub20                    0\n",
       "HUD Metro FMR Area Name20    0\n",
       "SAFMR20 2BR                  0\n",
       "SAFMR20 2BR 90% Pmt          0\n",
       "SAFMR20 2BR 110% Pmt         0\n",
       "dtype: int64"
      ]
     },
     "execution_count": 19,
     "metadata": {},
     "output_type": "execute_result"
    }
   ],
   "source": [
    "df.isnull().sum()        # confirm the number of NaN values for the df"
   ]
  },
  {
   "cell_type": "code",
   "execution_count": 20,
   "metadata": {
    "scrolled": true
   },
   "outputs": [
    {
     "data": {
      "text/plain": [
       "city                 0\n",
       "type                 0\n",
       "GEOID              896\n",
       "racial_majority    896\n",
       "month                0\n",
       "filings_2020         0\n",
       "filings_avg          0\n",
       "last_updated         0\n",
       "dtype: int64"
      ]
     },
     "execution_count": 20,
     "metadata": {},
     "output_type": "execute_result"
    }
   ],
   "source": [
    "#Convert 'GEOID' sealed entries into NaN\n",
    "df2['GEOID'] = df2.GEOID.replace('sealed', np.nan)\n",
    "\n",
    "df2.isnull().sum()        # returns the number of NaN values for the df"
   ]
  },
  {
   "cell_type": "markdown",
   "metadata": {},
   "source": [
    "I will first rename `race_majority` to `race` in order to ease analysis.  Then, I will also add `counties` to the dataset by assigning zip codes to counties and then applying those as a function to the `GEOID` info for readability in the analysis and plots."
   ]
  },
  {
   "cell_type": "code",
   "execution_count": 21,
   "metadata": {},
   "outputs": [
    {
     "data": {
      "text/plain": [
       "Index(['city', 'type', 'GEOID', 'racial_majority', 'month', 'filings_2020',\n",
       "       'filings_avg', 'last_updated'],\n",
       "      dtype='object')"
      ]
     },
     "execution_count": 21,
     "metadata": {},
     "output_type": "execute_result"
    }
   ],
   "source": [
    "#rename of race column in Eviction dataset here\n",
    "df2 = df2.rename(columns={'race_majority':'Race'})\n",
    "\n",
    "df2.columns"
   ]
  },
  {
   "cell_type": "markdown",
   "metadata": {},
   "source": [
    "Now the variables are ready to perform an initial exploratory analysis.  "
   ]
  },
  {
   "cell_type": "markdown",
   "metadata": {},
   "source": [
    "## 1. Mapping of Eviction Data<a id=3.1></a>\n",
    "\n"
   ]
  },
  {
   "cell_type": "code",
   "execution_count": 24,
   "metadata": {},
   "outputs": [],
   "source": [
    "#import packages\n",
    "import geopandas as gp\n",
    "import folium as fm\n",
    "from folium.plugins import HeatMap\n"
   ]
  },
  {
   "cell_type": "code",
   "execution_count": 31,
   "metadata": {},
   "outputs": [
    {
     "data": {
      "text/plain": [
       "Index(['GEOID', 'filings_2020', 'filings_avg', 'racial_majority', 'month',\n",
       "       'zipcode', 'HUD Area Code_x', 'HUD Metro FMR Area Name_x',\n",
       "       'SAFMR22 2BR', 'SAFMR22 2BR 90% Pmt', 'SAFMR22 2BR 110% Pmt',\n",
       "       'HUD Area Code_y', 'HUD Metro FMR Area Name_y', 'SAFMR21 2BR',\n",
       "       'SAFMR21 2BR 90% Pmt', 'SAFMR21 2BR 110% Pmt', 'CBSASub20',\n",
       "       'HUD Metro FMR Area Name20', 'SAFMR20 2BR', 'SAFMR20 2BR 90% Pmt',\n",
       "       'SAFMR20 2BR 110% Pmt'],\n",
       "      dtype='object')"
      ]
     },
     "execution_count": 31,
     "metadata": {},
     "output_type": "execute_result"
    }
   ],
   "source": [
    "#rename 'ZIP' to 'zipcode' for mapping purposes\n",
    "#rename columns here to enable the second part of the merge\n",
    "df = df.rename(columns={'ZIP':'zipcode'})\n",
    "\n",
    "df.columns"
   ]
  },
  {
   "cell_type": "code",
   "execution_count": 36,
   "metadata": {},
   "outputs": [],
   "source": [
    "# Set zipcode type to string (folium)\n",
    "df['zipcode'] = df['zipcode'].astype('str')\n",
    "\n",
    "# get the mean value across all data points\n",
    "zipcode_data = df.groupby('zipcode').aggregate(np.mean)\n",
    "zipcode_data.reset_index(inplace = True)"
   ]
  },
  {
   "cell_type": "code",
   "execution_count": 38,
   "metadata": {},
   "outputs": [],
   "source": [
    "# count number of filings_2020 grouped by zipcode\n",
    "df['count'] = 1\n",
    "temp = df.groupby('zipcode').sum('filings_2020')\n",
    "temp.reset_index(inplace = True)\n",
    "temp = temp[['zipcode', 'count']]\n",
    "zipcode_data = pd.merge(zipcode_data, temp, on='zipcode')\n",
    "# drop count from df dataset\n",
    "df.drop(['count'], axis = 1, inplace = True)"
   ]
  },
  {
   "cell_type": "code",
   "execution_count": 42,
   "metadata": {},
   "outputs": [
    {
     "ename": "NameError",
     "evalue": "name 'json' is not defined",
     "output_type": "error",
     "traceback": [
      "\u001b[0;31m---------------------------------------------------------------------------\u001b[0m",
      "\u001b[0;31mNameError\u001b[0m                                 Traceback (most recent call last)",
      "\u001b[0;32m<ipython-input-42-fa89b769cd96>\u001b[0m in \u001b[0;36m<module>\u001b[0;34m\u001b[0m\n\u001b[1;32m      3\u001b[0m \u001b[0;31m#load GEOJSON\u001b[0m\u001b[0;34m\u001b[0m\u001b[0;34m\u001b[0m\u001b[0;34m\u001b[0m\u001b[0m\n\u001b[1;32m      4\u001b[0m \u001b[0;32mwith\u001b[0m \u001b[0mopen\u001b[0m\u001b[0;34m(\u001b[0m\u001b[0mgeo_data_file\u001b[0m\u001b[0;34m,\u001b[0m \u001b[0;34m'r'\u001b[0m\u001b[0;34m)\u001b[0m \u001b[0;32mas\u001b[0m \u001b[0mjsonFile\u001b[0m\u001b[0;34m:\u001b[0m\u001b[0;34m\u001b[0m\u001b[0;34m\u001b[0m\u001b[0m\n\u001b[0;32m----> 5\u001b[0;31m     \u001b[0mgeo_data\u001b[0m \u001b[0;34m=\u001b[0m \u001b[0mjson\u001b[0m\u001b[0;34m.\u001b[0m\u001b[0mload\u001b[0m\u001b[0;34m(\u001b[0m\u001b[0mjsonFile\u001b[0m\u001b[0;34m)\u001b[0m\u001b[0;34m\u001b[0m\u001b[0;34m\u001b[0m\u001b[0m\n\u001b[0m\u001b[1;32m      6\u001b[0m \u001b[0;34m\u001b[0m\u001b[0m\n\u001b[1;32m      7\u001b[0m \u001b[0mtmp\u001b[0m \u001b[0;34m=\u001b[0m \u001b[0mgeo_data\u001b[0m\u001b[0;34m\u001b[0m\u001b[0;34m\u001b[0m\u001b[0m\n",
      "\u001b[0;31mNameError\u001b[0m: name 'json' is not defined"
     ]
    }
   ],
   "source": [
    "# Get geo data file path\n",
    "geo_data_file = '/Users/ameliaingram/Documents/My_GitHub+Repository/eviction-rent/data/nyc-zip-code-tabulation-areas-polygons.geojson'\n",
    "#load GEOJSON\n",
    "with open(geo_data_file, 'r') as jsonFile:\n",
    "    geo_data = json.load(jsonFile)\n",
    "\n",
    "tmp = geo_data\n"
   ]
  },
  {
   "cell_type": "code",
   "execution_count": null,
   "metadata": {},
   "outputs": [],
   "source": [
    "#visualize distribution of evictions\n",
    "def count_dist(df, location, filings_2020):\n",
    "    group_counts = pd.DataFrame(df.groupby([location, filings_2020]).size().unstack(1))\n",
    "    group_counts.reset_index(inplace = True)\n",
    "    return group_counts\n",
    "\n",
    "#function to return % racial distribution in each zip code...don't think this is accurate\n",
    "def subgroup_distribution(df, location, racial_majority):\n",
    "    group = df.groupby([location, racial_majority]).size()\n",
    "    group_pcts = group.groupby(level=0).apply(lambda x: 100 * x/float(x.sum()))\n",
    "    group_pcts = pd.DataFrame(group_pcts.unstack(1))\n",
    "    group_pcts.reset_index(inplace=True)\n",
    "    return group_pcts"
   ]
  },
  {
   "cell_type": "code",
   "execution_count": 39,
   "metadata": {},
   "outputs": [],
   "source": [
    "def map_feature_by_zipcode(zipcode_data, col):\n",
    "    \"\"\"\n",
    "    Generates a folium map of NYC\n",
    "    :param zipcode_data: zipcode dataset\n",
    "    :param col: feature to display\n",
    "    :return: m\n",
    "    \"\"\"\n",
    "\n",
    "    # Initialize Folium Map with NYC latitude and longitude\n",
    "    m = folium.Map(location=[40.81, -73.90], zoom_start=9,\n",
    "                   detect_retina=True, control_scale=False)\n",
    "\n",
    "    # Create choropleth map\n",
    "    m.choropleth(\n",
    "        geo_data=geo_data,\n",
    "        name='choropleth',\n",
    "        data=zipcode_data,\n",
    "        # col: feature of interest\n",
    "        columns=['zipcode', 'group_counts', 'group_pcts'],\n",
    "        key_on='feature.properties.ZIPCODE',\n",
    "        fill_color='OrRd',\n",
    "        fill_opacity=0.9,\n",
    "        line_opacity=0.2,\n",
    "        legend_name='Evictions' + col\n",
    "    )\n",
    "\n",
    "    folium.LayerControl().add_to(m)\n",
    "\n",
    "    # Save map based on feature of interest\n",
    "    m.save(col + '.html')\n",
    "\n",
    "    return m"
   ]
  },
  {
   "cell_type": "markdown",
   "metadata": {},
   "source": [
    "Ended Here\n",
    "==============================\n",
    "\n",
    "### Variable:  Evictions (filings_2020)\n",
    "`filings_2020` is the independent variable in this study.  The Eviction Lab data reports both filings_2020 which is a reported number per month since 2020 and filings_avg which is the average per month.  We are exploring both versions in this project.]"
   ]
  },
  {
   "cell_type": "code",
   "execution_count": null,
   "metadata": {},
   "outputs": [],
   "source": [
    "df2.filings_2020.describe()                          "
   ]
  },
  {
   "cell_type": "markdown",
   "metadata": {},
   "source": [
    "According to the preliminary descriptive statistics, evictions were on average 17.075 per zipcode, with a minimum of zero and a maximum of 550.  The interquartile range varied from 0 to 15 for the middle 50% of zipcodes.  "
   ]
  },
  {
   "cell_type": "markdown",
   "metadata": {},
   "source": [
    "In order to refine the evictions into a recognizable pattern, I will divide into five categorical levels of evictions (0, 1-9, 10-29, 30-59, 60-99, and >100). This will give a more detailed attention to the extreme ranges of evictions, in order to isolate these groups from the lower rates."
   ]
  },
  {
   "cell_type": "code",
   "execution_count": null,
   "metadata": {},
   "outputs": [],
   "source": [
    "def evict_b(y):                                 \n",
    "    '''\n",
    "    INPUT: \n",
    "    y: int, from -1 to 550, the inputs of the int variable `filings_2020`\n",
    "    \n",
    "    OUTPUT:\n",
    "    0 recoded to '<1'\n",
    "    1-9 recoded to '1-9'\n",
    "    10-29 recoded to '10-29'\n",
    "    30-59 recoded to '30-59'\n",
    "    60-99 recoded to '60-99'\n",
    "    >100 recoded to '>100'\n",
    "    '''\n",
    "    if y == 0:\n",
    "        return '0'\n",
    "    if y >0 and y<10:\n",
    "        return '1-9'\n",
    "    elif y >= 10 and y<30:\n",
    "        return '10-29'\n",
    "    elif y >= 30 and y<60:\n",
    "        return '30-59'\n",
    "    elif y>=60 and y<100:\n",
    "        return '60-99'\n",
    "    elif y>=100:\n",
    "        return '>100'\n",
    "    else:\n",
    "        return np.nan                        # missing is coded as nan \n",
    "\n",
    "# apply the function to `filings_2020`\n",
    "\n",
    "df2['filings_cat'] = df2.filings_2020.apply(evict_b)"
   ]
  },
  {
   "cell_type": "code",
   "execution_count": null,
   "metadata": {},
   "outputs": [],
   "source": [
    "# double check whether the transformation is successful:\n",
    "\n",
    "df2[['filings_cat']]"
   ]
  },
  {
   "cell_type": "markdown",
   "metadata": {},
   "source": [
    "Now that we have groups `filings_2020` into groups, let's see the resulting distribution. "
   ]
  },
  {
   "cell_type": "code",
   "execution_count": null,
   "metadata": {},
   "outputs": [],
   "source": [
    "with plt.style.context('fast'):\n",
    "    df2.groupby('filings_cat').size().plot(kind='bar')   #bar graph in order\n",
    "plt.title('Eviction Rates by Groups (Eviction Lab 2020-2022)')\n",
    "plt.xlabel('Eviction by Groups')\n",
    "plt.ylabel('# Evictions')"
   ]
  },
  {
   "cell_type": "markdown",
   "metadata": {},
   "source": [
    "## 6. References <a id=6></a>\n",
    "\n",
    "### Programming References:\n",
    "Matplotlib Style Sheets Reference.  https://matplotlib.org/stable/gallery/style_sheets/style_sheets_reference.html\n",
    "\n",
    "Legend in Matplotlib.  https://matplotlib.org/stable/api/_as_gen/matplotlib.pyplot.legend.html\n",
    "\n",
    "Stats t-test in Scipy.  https://docs.scipy.org/doc/scipy/reference/generated/scipy.stats.ttest_ind.html"
   ]
  },
  {
   "cell_type": "markdown",
   "metadata": {},
   "source": [
    "\n",
    "### Datasets:\n",
    "Crosswalk Dataset of Zip to Tract. U.S. Department of Housing and Urban Development. Office of Policy Development and Research.  https://www.huduser.gov/portal/datasets/usps_crosswalk.html#data\n",
    "\n",
    "\"Fair Market Rents: 40th Percentile.\" U.S. Department of Housing and Urban Development. Office of Policy Development and Research. Datasets.  https://www.huduser.gov/portal/datasets/fmr.html#2022_data\n",
    "\n",
    "Peter Hepburn, Renee Louis, and Matthew Desmond. Eviction Tracking System: Version 1.0. Princeton: Princeton University, 2020. www.evictionlab.org.\n",
    "\n",
    "### General Reference\n",
    "\"Summary: Fair Market Rents.\" U.S. Department of Housing and Urban Development. Office of Policy Development and Research. Blog.  https://www.huduser.gov/periodicals/ushmc/winter98/summary-2.html \n",
    "\n",
    "U.S. Commission on Civil Rights. Racial Discrimination and Eviction Policies and Enforcement in New York. 10 Mar 2022.  https://www.usccr.gov/reports/2022/racial-discrimination-and-eviction-policies-and-enforcement-new-york\n",
    "\n",
    "Zaveri, Mihir.  After a Two-Year Dip, Evictions Accelerate in New York. The New York Times. 2 May 2022. https://www.nytimes.com/2022/05/02/nyregion/new-york-evictions-cases.html\n"
   ]
  },
  {
   "cell_type": "markdown",
   "metadata": {},
   "source": [
    "<div class = \"alert alert-info\">\n",
    "\n",
    "[Back to top](#7)<br>\n",
    "    \n",
    "</div>\n",
    "<hr>"
   ]
  },
  {
   "cell_type": "code",
   "execution_count": null,
   "metadata": {},
   "outputs": [],
   "source": []
  }
 ],
 "metadata": {
  "kernelspec": {
   "display_name": "Python 3",
   "language": "python",
   "name": "python3"
  },
  "language_info": {
   "codemirror_mode": {
    "name": "ipython",
    "version": 3
   },
   "file_extension": ".py",
   "mimetype": "text/x-python",
   "name": "python",
   "nbconvert_exporter": "python",
   "pygments_lexer": "ipython3",
   "version": "3.8.8"
  }
 },
 "nbformat": 4,
 "nbformat_minor": 4
}
