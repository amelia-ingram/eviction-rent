{
 "cells": [
  {
   "cell_type": "markdown",
   "metadata": {},
   "source": [
    "<h1> Project: Housing Evictions and Fair Market Rents in New York City</h1> <a id=7></a>\n",
    "<h3> Memo Draft</h3>\n"
   ]
  },
  {
   "cell_type": "markdown",
   "metadata": {},
   "source": [
    "## Table of Contents \n",
    "\n",
    "<div class = \"alert alert-info\">\n",
    "\n",
    "1. [Introduction](#1)<br>\n",
    "2. [Research Question](#2)<br>\n",
    "    2.1 [Assumptions](#2.1)<br>\n",
    "3. [Data](#3)<br>\n",
    "    3.1 [Univariate Analysis](#3.1)<br>\n",
    "    3.2 [Mapping Analysis](#3.2)<br>\n",
    "4. [Data Analysis](#4)<br>\n",
    "    4.1 [Bivariate Analysis](#4.1)<br>\n",
    "    4.2 [Multivariate Analysis](#4.2)<br>\n",
    "5. [Summary Conclusions](#5)<br>\n",
    "6. [References](#6)<br>\n",
    "    \n",
    "</div>\n",
    "<hr>"
   ]
  },
  {
   "cell_type": "markdown",
   "metadata": {},
   "source": [
    "## Introduction <a id=1></a>\n",
    "In the wake of the COVID-19 pandemic, New Yorkers have feared a rise in housing evictions across the city as landlords attempt to recover their losses and forcibly evict tenants.  As housing courts have reopened and the eviction deferment period is long passed, we are now seeing a rise in evictions across the city.  According to a NY Times article, the housing chaos began this spring:<br> \n",
    "> \"The roughly 2,000 eviction cases filed by landlords every week since March are roughly 40 percent more than the number filed in mid-January [2022], after the state’s eviction moratorium expired. Tenants have been thrown out of homes in more than 500 cases since February, according to city data, about double the number in all of the 20 months prior.\" (Zaveri, 2022)\n",
    "\n",
    "In this project we will attempt to test the relationship of housing evictions to a variety of neighborhood demographics including changes in the fair market housing rates (FMR) through exploratory data analysis (EDA) using data selected from the <b>Eviction Lab</b>, <b>ACS</b> and the <b>Housing and Urban Development</b> (HUD) datasets. "
   ]
  },
  {
   "cell_type": "code",
   "execution_count": null,
   "metadata": {},
   "outputs": [],
   "source": []
  },
  {
   "cell_type": "markdown",
   "metadata": {},
   "source": [
    "## Data <a id=3></a>\n",
    "\n",
    "For this project, we are utilizing data from two datasets (evictionlab.org and HUD) that both include zip code geolocators, in order to both map and analyze the data.  In order to make this happen, we needed to utilize a \"crosswalk\" dataset from HUD.gov in order to connect geographic areas.  Additionally, we will use ACS data for demographic information within each area.\n",
    "\n",
    "Our first task is to read in and inspect the merged <b>Eviction Lab</b> and <b>FMR</b> dataset.  In the eviction dataset, there are 8428 unique observations and 7 variables, and in the merged dataset, there are 9744 observations across 21 columns.  "
   ]
  },
  {
   "cell_type": "code",
   "execution_count": 2,
   "metadata": {},
   "outputs": [],
   "source": [
    "import pandas as pd         #quick stats       \n",
    "import numpy as np      #numerical functions\n",
    "import matplotlib.pyplot as plt    #visualization library\n",
    "import pyarrow as pa\n",
    "import pyarrow.parquet as pq\n",
    "import seaborn as sns    #visualization and stats"
   ]
  },
  {
   "cell_type": "code",
   "execution_count": 3,
   "metadata": {},
   "outputs": [],
   "source": [
    "%matplotlib inline"
   ]
  },
  {
   "cell_type": "code",
   "execution_count": 4,
   "metadata": {},
   "outputs": [],
   "source": [
    "#load merged dataset--parquet\n",
    "path = '/Users/ameliaingram/Documents/My_GitHub+Repository/eviction-rent/assets/data/evict_merged.parquet'\n",
    "\n",
    "df = pd.read_parquet(path)            # read eviction data from online"
   ]
  },
  {
   "cell_type": "code",
   "execution_count": 5,
   "metadata": {},
   "outputs": [
    {
     "name": "stdout",
     "output_type": "stream",
     "text": [
      "<class 'pandas.core.frame.DataFrame'>\n",
      "RangeIndex: 8729 entries, 0 to 8728\n",
      "Data columns (total 15 columns):\n",
      " #   Column           Non-Null Count  Dtype         \n",
      "---  ------           --------------  -----         \n",
      " 0   city             8729 non-null   category      \n",
      " 1   type             8729 non-null   category      \n",
      " 2   geoid            8700 non-null   Int64         \n",
      " 3   racial_majority  8700 non-null   category      \n",
      " 4   month            8729 non-null   datetime64[ns]\n",
      " 5   filings_2020     8729 non-null   int64         \n",
      " 6   filings_avg      8729 non-null   float64       \n",
      " 7   fmr_2br          2861 non-null   float64       \n",
      " 8   fmr_2br_90       2861 non-null   float64       \n",
      " 9   fmr_2br_110      2861 non-null   float64       \n",
      " 10  borough          5133 non-null   category      \n",
      " 11  post_office      5133 non-null   category      \n",
      " 12  neighborhood     5133 non-null   category      \n",
      " 13  population       5133 non-null   float64       \n",
      " 14  density          5133 non-null   float64       \n",
      "dtypes: Int64(1), category(6), datetime64[ns](1), float64(6), int64(1)\n",
      "memory usage: 678.2 KB\n"
     ]
    }
   ],
   "source": [
    "df.info()                               # returns # rows/obs, columns/variables and types"
   ]
  },
  {
   "cell_type": "markdown",
   "metadata": {},
   "source": [
    "Based on the listed info, there are 8729 unique observations in this dataset, with only 8700 including `GEOID`(zip code) data.  \n",
    "\n",
    "There are two main issues we see above. First, we can observe `GEOID` cases are essentially zip codes and a number of `GEOID` cases that are listed as \"sealed\".  According to the data dictionary from the Eviction Lab website, \"A modest portion of filings are reported to us with missing, incorrect, or out-of-bounds addresses. In these cases, we do not assign a Census Tract or Zip code to the case.\" There were 29 sealed cases excluded for the purposes of merging and mapping.  <b>NOTE:</b>  If we wish to use the sealed sets, we can load the `f_evict` dataset.<br>\n",
    "\n",
    "Secondly, the `HUD Metro Area Name` actually changed for certain zip codes from year to year.  We kept those columns in the data for reference.  Not sure if it's important yet, but they're there.\n",
    "\n",
    "The `month` variable includes both month and year data.  Will need to confirm they use Python's `datetime64` format.  The 'sealed' values from the `GEOID` column now has 896 null entries.  Hopefully this won't be a problem--it is relatively low."
   ]
  },
  {
   "cell_type": "markdown",
   "metadata": {},
   "source": [
    "### Check for missing values\n",
    "Before any initial analysis, we need to check for missing values from each dataset. "
   ]
  },
  {
   "cell_type": "code",
   "execution_count": 6,
   "metadata": {},
   "outputs": [
    {
     "data": {
      "text/plain": [
       "city                  0\n",
       "type                  0\n",
       "geoid                29\n",
       "racial_majority      29\n",
       "month                 0\n",
       "filings_2020          0\n",
       "filings_avg           0\n",
       "fmr_2br            5868\n",
       "fmr_2br_90         5868\n",
       "fmr_2br_110        5868\n",
       "borough            3596\n",
       "post_office        3596\n",
       "neighborhood       3596\n",
       "population         3596\n",
       "density            3596\n",
       "dtype: int64"
      ]
     },
     "execution_count": 6,
     "metadata": {},
     "output_type": "execute_result"
    }
   ],
   "source": [
    "df.isnull().sum()        # confirm the number of NaN values for the df"
   ]
  },
  {
   "cell_type": "code",
   "execution_count": 7,
   "metadata": {
    "scrolled": true
   },
   "outputs": [
    {
     "name": "stdout",
     "output_type": "stream",
     "text": [
      "<class 'pandas.core.frame.DataFrame'>\n",
      "RangeIndex: 8729 entries, 0 to 8728\n",
      "Data columns (total 15 columns):\n",
      " #   Column           Non-Null Count  Dtype         \n",
      "---  ------           --------------  -----         \n",
      " 0   city             8729 non-null   category      \n",
      " 1   type             8729 non-null   category      \n",
      " 2   geoid            8700 non-null   Int64         \n",
      " 3   racial_majority  8700 non-null   category      \n",
      " 4   month            8729 non-null   datetime64[ns]\n",
      " 5   filings_2020     8729 non-null   int64         \n",
      " 6   filings_avg      8729 non-null   float64       \n",
      " 7   fmr_2br          2861 non-null   float64       \n",
      " 8   fmr_2br_90       2861 non-null   float64       \n",
      " 9   fmr_2br_110      2861 non-null   float64       \n",
      " 10  borough          5133 non-null   category      \n",
      " 11  post_office      5133 non-null   category      \n",
      " 12  neighborhood     5133 non-null   category      \n",
      " 13  population       5133 non-null   float64       \n",
      " 14  density          5133 non-null   float64       \n",
      "dtypes: Int64(1), category(6), datetime64[ns](1), float64(6), int64(1)\n",
      "memory usage: 678.2 KB\n"
     ]
    }
   ],
   "source": [
    "#Convert 'geoid' sealed entries into NaN\n",
    "df.geoid.replace('sealed', np.nan)\n",
    "\n",
    "df['geoid'].isnull().sum()        # returns the number of NaN values for the df\n",
    "df.info()"
   ]
  },
  {
   "cell_type": "markdown",
   "metadata": {},
   "source": [
    "Now the variables are ready to perform an initial exploratory analysis.  "
   ]
  },
  {
   "cell_type": "markdown",
   "metadata": {},
   "source": [
    "## Research Questions <a id=2></a>\n",
    "\n",
    "For this project, we wish to investigate the following question:\n",
    "\n",
    "> <b>Q1:</b>  Is there a correlation between eviction rates and any other demographic features of New York City neighborhoods that might indicate a further association to gentrification? <br>\n",
    "> <b>Q2:</b>  Is there a correlation between eviction rates and fair housing rents in New York City? <br>\n",
    "\n",
    "\n",
    "The variables from the evictionlab.org dataset which will be used to answer these questions are:\n",
    "> <b>DV:</b>  eviction rates<br>\n",
    "> <b>DV2:</b>  average fair market rent (FMR) for a 2 bedroom<br>\n",
    "\n",
    "Eviction rates are defined as the number of evictions registered by the housing court within a given zip code.  These may not include forcible evictions that happen in unofficial living arrangements (such as \"cash only\" housing in illegal sublets, frequented by poor and undocumented populations). (*It is important to note that forced evictions are illegal in New York City, regardless of the type of housing arrangement. (For more information, see the Tenants Bill of Rights under the NYC Comptroller's Office.))\n",
    "\n",
    "In order to better understand the relationship between these issues, we will experiment with several demographic control variables, including:\n",
    "> <b>IV:</b> race <br>\n",
    "> <b>IV:</b> zip code and/or neighborhood <br>\n",
    "> <b>IV:</b> county <br>\n",
    "> <b>IV:</b> length of time <br>\n",
    "\n",
    "Others may be included as the project unfolds."
   ]
  },
  {
   "cell_type": "markdown",
   "metadata": {},
   "source": [
    "## Assumptions <a id=2.1></a>\n",
    "Recent evidence produced from several housing research centers predict that there will be a strong increase in housing evictions in the New York City metropolitan area, despite the best efforts of both city and state agencies to prevent a massive rise in homelessness.  We assume that there could be some evidence of a relationship between incident areas where eviction rates are high and increases in fair market rent (FMR) that could potentially displace lower income communities and lead to further gentrification (or else be signs of future gentrification). In this case, we assume that a rise in fair market rent (FMR) will indicate displacement of low income populations from previously affordable subsidized housing. \n",
    "\n",
    "According to the U.S. Housing and Urban Development (HUD) Office of Policy Development and Research (see Summary), the FMR was implemented in 1974 to help low-income households find affordable housing. This is generally known as the Section 8 voucher system.  According to their Summary page, the FMR is defined as \"the 40th percentile of gross rents for typical, non-substandard rental units occupied by recent movers in a local housing market.\" (Further information and problematics in the calculation of this rate are discussed on HUD's Summary page).\n",
    "\n",
    "It is assumed that race also plays a crucial role in both eviction rates and rental rates.  Government and local experts have historically suggested this as a trend.  Recently, a report was published by the U.S. Commission on Civil Rights which outlines the recent issues of racial discrimination in evictions (2022).\n",
    "\n",
    "Finally, for the purposes of this research we assume that the housing market in New York City is fixed (this is a reasonable assumption given the pandemic slowdown of new building construction).\n",
    "  "
   ]
  },
  {
   "cell_type": "markdown",
   "metadata": {},
   "source": [
    "## Descriptive Analysis <a id=3.1></a>\n",
    "\n",
    "### 1. Variable:  Evictions (filings_2020)\n",
    "`filings_2020` is the independent variable in this study.  The Eviction Lab data reports both `filings_2020` which is a cumulative number since 2020 and `filings_avg` which is the average per month.  We are exploring both versions in this project.]"
   ]
  },
  {
   "cell_type": "code",
   "execution_count": 8,
   "metadata": {},
   "outputs": [
    {
     "data": {
      "text/plain": [
       "count    8729.000000\n",
       "mean       17.279872\n",
       "std        40.566265\n",
       "min         0.000000\n",
       "25%         0.000000\n",
       "50%         1.000000\n",
       "75%        15.000000\n",
       "max       550.000000\n",
       "Name: filings_2020, dtype: float64"
      ]
     },
     "execution_count": 8,
     "metadata": {},
     "output_type": "execute_result"
    }
   ],
   "source": [
    "df.filings_2020.describe()                          "
   ]
  },
  {
   "cell_type": "markdown",
   "metadata": {},
   "source": [
    "According to the preliminary descriptive statistics, evictions were on average 17.279 per zipcode, with a minimum of zero and a maximum of 550.  The interquartile range varied from 0 to 15 for the middle 50% of zipcodes.  "
   ]
  },
  {
   "cell_type": "code",
   "execution_count": 40,
   "metadata": {},
   "outputs": [
    {
     "data": {
      "text/html": [
       "<div>\n",
       "<style scoped>\n",
       "    .dataframe tbody tr th:only-of-type {\n",
       "        vertical-align: middle;\n",
       "    }\n",
       "\n",
       "    .dataframe tbody tr th {\n",
       "        vertical-align: top;\n",
       "    }\n",
       "\n",
       "    .dataframe thead th {\n",
       "        text-align: right;\n",
       "    }\n",
       "</style>\n",
       "<table border=\"1\" class=\"dataframe\">\n",
       "  <thead>\n",
       "    <tr style=\"text-align: right;\">\n",
       "      <th></th>\n",
       "      <th>city</th>\n",
       "      <th>type</th>\n",
       "      <th>geoid</th>\n",
       "      <th>racial_majority</th>\n",
       "      <th>month</th>\n",
       "      <th>filings_2020</th>\n",
       "      <th>filings_avg</th>\n",
       "      <th>fmr_2br</th>\n",
       "      <th>fmr_2br_90</th>\n",
       "      <th>fmr_2br_110</th>\n",
       "      <th>borough</th>\n",
       "      <th>post_office</th>\n",
       "      <th>neighborhood</th>\n",
       "      <th>population</th>\n",
       "      <th>density</th>\n",
       "    </tr>\n",
       "  </thead>\n",
       "  <tbody>\n",
       "    <tr>\n",
       "      <th>0</th>\n",
       "      <td>New York, NY</td>\n",
       "      <td>Zip Code</td>\n",
       "      <td>10001</td>\n",
       "      <td>White</td>\n",
       "      <td>2020-01-01</td>\n",
       "      <td>51</td>\n",
       "      <td>55.000000</td>\n",
       "      <td>2110.0</td>\n",
       "      <td>1899.0</td>\n",
       "      <td>2321.0</td>\n",
       "      <td>Manhattan</td>\n",
       "      <td>New York, NY</td>\n",
       "      <td>Chelsea and Clinton</td>\n",
       "      <td>21102.0</td>\n",
       "      <td>33959.0</td>\n",
       "    </tr>\n",
       "    <tr>\n",
       "      <th>1</th>\n",
       "      <td>New York, NY</td>\n",
       "      <td>Zip Code</td>\n",
       "      <td>10001</td>\n",
       "      <td>White</td>\n",
       "      <td>2020-02-01</td>\n",
       "      <td>23</td>\n",
       "      <td>49.333333</td>\n",
       "      <td>2110.0</td>\n",
       "      <td>1899.0</td>\n",
       "      <td>2321.0</td>\n",
       "      <td>Manhattan</td>\n",
       "      <td>New York, NY</td>\n",
       "      <td>Chelsea and Clinton</td>\n",
       "      <td>21102.0</td>\n",
       "      <td>33959.0</td>\n",
       "    </tr>\n",
       "    <tr>\n",
       "      <th>2</th>\n",
       "      <td>New York, NY</td>\n",
       "      <td>Zip Code</td>\n",
       "      <td>10001</td>\n",
       "      <td>White</td>\n",
       "      <td>2020-03-01</td>\n",
       "      <td>20</td>\n",
       "      <td>48.333333</td>\n",
       "      <td>2110.0</td>\n",
       "      <td>1899.0</td>\n",
       "      <td>2321.0</td>\n",
       "      <td>Manhattan</td>\n",
       "      <td>New York, NY</td>\n",
       "      <td>Chelsea and Clinton</td>\n",
       "      <td>21102.0</td>\n",
       "      <td>33959.0</td>\n",
       "    </tr>\n",
       "    <tr>\n",
       "      <th>3</th>\n",
       "      <td>New York, NY</td>\n",
       "      <td>Zip Code</td>\n",
       "      <td>10001</td>\n",
       "      <td>White</td>\n",
       "      <td>2020-04-01</td>\n",
       "      <td>0</td>\n",
       "      <td>41.666667</td>\n",
       "      <td>2110.0</td>\n",
       "      <td>1899.0</td>\n",
       "      <td>2321.0</td>\n",
       "      <td>Manhattan</td>\n",
       "      <td>New York, NY</td>\n",
       "      <td>Chelsea and Clinton</td>\n",
       "      <td>21102.0</td>\n",
       "      <td>33959.0</td>\n",
       "    </tr>\n",
       "    <tr>\n",
       "      <th>4</th>\n",
       "      <td>New York, NY</td>\n",
       "      <td>Zip Code</td>\n",
       "      <td>10001</td>\n",
       "      <td>White</td>\n",
       "      <td>2020-05-01</td>\n",
       "      <td>0</td>\n",
       "      <td>42.000000</td>\n",
       "      <td>2110.0</td>\n",
       "      <td>1899.0</td>\n",
       "      <td>2321.0</td>\n",
       "      <td>Manhattan</td>\n",
       "      <td>New York, NY</td>\n",
       "      <td>Chelsea and Clinton</td>\n",
       "      <td>21102.0</td>\n",
       "      <td>33959.0</td>\n",
       "    </tr>\n",
       "  </tbody>\n",
       "</table>\n",
       "</div>"
      ],
      "text/plain": [
       "           city      type  geoid racial_majority      month  filings_2020  \\\n",
       "0  New York, NY  Zip Code  10001           White 2020-01-01            51   \n",
       "1  New York, NY  Zip Code  10001           White 2020-02-01            23   \n",
       "2  New York, NY  Zip Code  10001           White 2020-03-01            20   \n",
       "3  New York, NY  Zip Code  10001           White 2020-04-01             0   \n",
       "4  New York, NY  Zip Code  10001           White 2020-05-01             0   \n",
       "\n",
       "   filings_avg  fmr_2br  fmr_2br_90  fmr_2br_110    borough   post_office  \\\n",
       "0    55.000000   2110.0      1899.0       2321.0  Manhattan  New York, NY   \n",
       "1    49.333333   2110.0      1899.0       2321.0  Manhattan  New York, NY   \n",
       "2    48.333333   2110.0      1899.0       2321.0  Manhattan  New York, NY   \n",
       "3    41.666667   2110.0      1899.0       2321.0  Manhattan  New York, NY   \n",
       "4    42.000000   2110.0      1899.0       2321.0  Manhattan  New York, NY   \n",
       "\n",
       "          neighborhood  population  density  \n",
       "0  Chelsea and Clinton     21102.0  33959.0  \n",
       "1  Chelsea and Clinton     21102.0  33959.0  \n",
       "2  Chelsea and Clinton     21102.0  33959.0  \n",
       "3  Chelsea and Clinton     21102.0  33959.0  \n",
       "4  Chelsea and Clinton     21102.0  33959.0  "
      ]
     },
     "execution_count": 40,
     "metadata": {},
     "output_type": "execute_result"
    }
   ],
   "source": [
    "df.head()"
   ]
  },
  {
   "cell_type": "code",
   "execution_count": 42,
   "metadata": {},
   "outputs": [
    {
     "name": "stdout",
     "output_type": "stream",
     "text": [
      "              geoid  filings_2020   filings_avg   fmr_2br  fmr_2br_90  \\\n",
      "month                                                                   \n",
      "2020-01-01  3203200         14538  19944.333333  211110.0    189999.0   \n",
      "2020-02-01  3203200         13315  19665.000000  211110.0    189999.0   \n",
      "2020-03-01  3203200          9061  19405.333333  211110.0    189999.0   \n",
      "2020-04-01  3203200             4  16050.333333  211110.0    189999.0   \n",
      "2020-05-01  3203200             4  17345.000000  211110.0    189999.0   \n",
      "2020-06-01  3203200            10  17991.000000  211110.0    189999.0   \n",
      "2020-07-01  3203200          1905  18330.000000  211110.0    189999.0   \n",
      "2020-08-01  3203200          5743  21093.333333  211110.0    189999.0   \n",
      "2020-09-01  3203200          7156  18033.333333  211110.0    189999.0   \n",
      "2020-10-01  3203200          8131  19749.000000  211110.0    189999.0   \n",
      "2020-11-01  3203200          7544  19550.333333  211110.0    189999.0   \n",
      "2020-12-01  3203200          7696  18610.000000  211110.0    189999.0   \n",
      "2021-01-01  3203200           445  19944.333333  288170.0    259353.0   \n",
      "2021-02-01  3203200          1372  19338.000000  288170.0    259353.0   \n",
      "2021-03-01  3203200          3406  19405.333333  288170.0    259353.0   \n",
      "2021-04-01  3203200          4953  16050.333333  288170.0    259353.0   \n",
      "2021-05-01  3203200          5183  17345.000000  288170.0    259353.0   \n",
      "2021-06-01  3203200          5036  17991.000000  288170.0    259353.0   \n",
      "2021-07-01  3203200          3985  18330.000000  288170.0    259353.0   \n",
      "2021-08-01  3203200          4303  21093.333333  288170.0    259353.0   \n",
      "2021-09-01  3203200          2332  18033.333333  288170.0    259353.0   \n",
      "2021-10-01  3203200          3340  19749.000000  288170.0    259353.0   \n",
      "2021-11-01  3203200          3832  19550.333333  288170.0    259353.0   \n",
      "2021-12-01  3203200          3994  18610.000000  288170.0    259353.0   \n",
      "2022-01-01  3203200          5509  19944.333333  326950.0    294255.0   \n",
      "2022-02-01  3203200          6396  19338.000000  326950.0    294255.0   \n",
      "2022-03-01  3203200          9014  19405.333333  326950.0    294255.0   \n",
      "2022-04-01  3203200          8976  16050.333333  326950.0    294255.0   \n",
      "2022-05-01  3203200          3653  12620.333333  326950.0    294255.0   \n",
      "\n",
      "            fmr_2br_110  population    density  \n",
      "month                                           \n",
      "2020-01-01     232221.0   8164770.0  7646461.0  \n",
      "2020-02-01     232221.0   8164770.0  7646461.0  \n",
      "2020-03-01     232221.0   8164770.0  7646461.0  \n",
      "2020-04-01     232221.0   8164770.0  7646461.0  \n",
      "2020-05-01     232221.0   8164770.0  7646461.0  \n",
      "2020-06-01     232221.0   8164770.0  7646461.0  \n",
      "2020-07-01     232221.0   8164770.0  7646461.0  \n",
      "2020-08-01     232221.0   8164770.0  7646461.0  \n",
      "2020-09-01     232221.0   8164770.0  7646461.0  \n",
      "2020-10-01     232221.0   8164770.0  7646461.0  \n",
      "2020-11-01     232221.0   8164770.0  7646461.0  \n",
      "2020-12-01     232221.0   8164770.0  7646461.0  \n",
      "2021-01-01     316987.0   8164770.0  7646461.0  \n",
      "2021-02-01     316987.0   8164770.0  7646461.0  \n",
      "2021-03-01     316987.0   8164770.0  7646461.0  \n",
      "2021-04-01     316987.0   8164770.0  7646461.0  \n",
      "2021-05-01     316987.0   8164770.0  7646461.0  \n",
      "2021-06-01     316987.0   8164770.0  7646461.0  \n",
      "2021-07-01     316987.0   8164770.0  7646461.0  \n",
      "2021-08-01     316987.0   8164770.0  7646461.0  \n",
      "2021-09-01     316987.0   8164770.0  7646461.0  \n",
      "2021-10-01     316987.0   8164770.0  7646461.0  \n",
      "2021-11-01     316987.0   8164770.0  7646461.0  \n",
      "2021-12-01     316987.0   8164770.0  7646461.0  \n",
      "2022-01-01     359645.0   8164770.0  7646461.0  \n",
      "2022-02-01     359645.0   8164770.0  7646461.0  \n",
      "2022-03-01     359645.0   8164770.0  7646461.0  \n",
      "2022-04-01     359645.0   8164770.0  7646461.0  \n",
      "2022-05-01     359645.0   8164770.0  7646461.0  \n"
     ]
    }
   ],
   "source": [
    "#Group evictions by date and count\n",
    "df2 = df.groupby([\"month\"]).sum(\"filings_2020\")\n",
    "print(df2)"
   ]
  },
  {
   "cell_type": "code",
   "execution_count": 46,
   "metadata": {},
   "outputs": [],
   "source": [
    "#To Format Dates\n",
    "import datetime\n",
    "from matplotlib.dates as mdates"
   ]
  },
  {
   "cell_type": "code",
   "execution_count": 82,
   "metadata": {},
   "outputs": [
    {
     "ename": "NameError",
     "evalue": "name 'month' is not defined",
     "output_type": "error",
     "traceback": [
      "\u001b[0;31m---------------------------------------------------------------------------\u001b[0m",
      "\u001b[0;31mNameError\u001b[0m                                 Traceback (most recent call last)",
      "\u001b[0;32m<ipython-input-82-ff0ee57a34ba>\u001b[0m in \u001b[0;36m<module>\u001b[0;34m\u001b[0m\n\u001b[1;32m      1\u001b[0m \u001b[0mplot1\u001b[0m \u001b[0;34m=\u001b[0m \u001b[0mdf2\u001b[0m\u001b[0;34m[\u001b[0m\u001b[0;34m\"filings_2020\"\u001b[0m\u001b[0;34m]\u001b[0m\u001b[0;34m.\u001b[0m\u001b[0mplot\u001b[0m\u001b[0;34m(\u001b[0m\u001b[0mfigsize\u001b[0m\u001b[0;34m=\u001b[0m\u001b[0;34m(\u001b[0m\u001b[0;36m10\u001b[0m\u001b[0;34m,\u001b[0m\u001b[0;36m5\u001b[0m\u001b[0;34m)\u001b[0m\u001b[0;34m)\u001b[0m\u001b[0;34m\u001b[0m\u001b[0;34m\u001b[0m\u001b[0m\n\u001b[1;32m      2\u001b[0m \u001b[0;31m#define date range\u001b[0m\u001b[0;34m\u001b[0m\u001b[0;34m\u001b[0m\u001b[0;34m\u001b[0m\u001b[0m\n\u001b[0;32m----> 3\u001b[0;31m \u001b[0mdate_day\u001b[0m \u001b[0;34m=\u001b[0m \u001b[0mpd\u001b[0m\u001b[0;34m.\u001b[0m\u001b[0mdate_range\u001b[0m\u001b[0;34m(\u001b[0m\u001b[0mmonth\u001b[0m\u001b[0;34m,\u001b[0m \u001b[0mstart\u001b[0m\u001b[0;34m=\u001b[0m\u001b[0;34m'2020-01-01'\u001b[0m\u001b[0;34m,\u001b[0m \u001b[0mend\u001b[0m\u001b[0;34m=\u001b[0m\u001b[0;34m'2022-12-31'\u001b[0m\u001b[0;34m,\u001b[0m \u001b[0mfreq\u001b[0m\u001b[0;34m=\u001b[0m\u001b[0;34m'D'\u001b[0m\u001b[0;34m)\u001b[0m\u001b[0;34m\u001b[0m\u001b[0;34m\u001b[0m\u001b[0m\n\u001b[0m\u001b[1;32m      4\u001b[0m \u001b[0mplot1\u001b[0m \u001b[0;34m=\u001b[0m \u001b[0mdf2\u001b[0m\u001b[0;34m[\u001b[0m\u001b[0;34m\"filings_2020\"\u001b[0m\u001b[0;34m]\u001b[0m\u001b[0;34m.\u001b[0m\u001b[0mplot\u001b[0m\u001b[0;34m(\u001b[0m\u001b[0mfigsize\u001b[0m\u001b[0;34m=\u001b[0m\u001b[0;34m(\u001b[0m\u001b[0;36m10\u001b[0m\u001b[0;34m,\u001b[0m\u001b[0;36m5\u001b[0m\u001b[0;34m)\u001b[0m\u001b[0;34m)\u001b[0m\u001b[0;34m\u001b[0m\u001b[0;34m\u001b[0m\u001b[0m\n\u001b[1;32m      5\u001b[0m \u001b[0;34m\u001b[0m\u001b[0m\n",
      "\u001b[0;31mNameError\u001b[0m: name 'month' is not defined"
     ]
    },
    {
     "data": {
      "image/png": "[encoded data removed]",
      "text/plain": [
       "<Figure size 720x360 with 1 Axes>"
      ]
     },
     "metadata": {
      "needs_background": "light"
     },
     "output_type": "display_data"
    }
   ],
   "source": [
    "#Plot 1--Total Eviction Counts per Month\n",
    "plot1 = df2[\"filings_2020\"].plot(figsize=(10,5))\n",
    "#define date range\n",
    "date_day = pd.date_range(month, start='2020-01-01', end='2022-12-31', freq='D') #generates error msg but correct plot\n",
    "plot1 = df2[\"filings_2020\"].plot(figsize=(10,5))\n",
    "\n",
    "# Create custom ticks using matplotlib date tick locator and formatter\n",
    "loc = mdates.MonthLocator(interval=2)\n",
    "plot1.xaxis.set_major_locator(loc)\n",
    "fmt = mdates.DateFormatter('%b\\n%Y')\n",
    "plot1.xaxis.set_major_formatter(fmt)\n",
    "\n",
    "\n",
    "#Used this page for insight on formatting dates https://stackoverflow.com/questions/45704366/how-to-change-the-datetime-tick-label-frequency-for-matplotlib-plots"
   ]
  },
  {
   "cell_type": "code",
   "execution_count": 50,
   "metadata": {},
   "outputs": [
    {
     "ename": "NameError",
     "evalue": "name 'filings_2020' is not defined",
     "output_type": "error",
     "traceback": [
      "\u001b[0;31m---------------------------------------------------------------------------\u001b[0m",
      "\u001b[0;31mNameError\u001b[0m                                 Traceback (most recent call last)",
      "\u001b[0;32m<ipython-input-50-7af2678b114b>\u001b[0m in \u001b[0;36m<module>\u001b[0;34m\u001b[0m\n\u001b[1;32m      1\u001b[0m \u001b[0;31m#Plot of eviction totals per month\u001b[0m\u001b[0;34m\u001b[0m\u001b[0;34m\u001b[0m\u001b[0;34m\u001b[0m\u001b[0m\n\u001b[1;32m      2\u001b[0m \u001b[0mdate_day\u001b[0m \u001b[0;34m=\u001b[0m \u001b[0mpd\u001b[0m\u001b[0;34m.\u001b[0m\u001b[0mdate_range\u001b[0m\u001b[0;34m(\u001b[0m\u001b[0mstart\u001b[0m\u001b[0;34m=\u001b[0m\u001b[0;34m'2020-01-01'\u001b[0m\u001b[0;34m,\u001b[0m \u001b[0mend\u001b[0m\u001b[0;34m=\u001b[0m\u001b[0;34m'2022-12-31'\u001b[0m\u001b[0;34m,\u001b[0m \u001b[0mfreq\u001b[0m\u001b[0;34m=\u001b[0m\u001b[0;34m'D'\u001b[0m\u001b[0;34m)\u001b[0m\u001b[0;34m\u001b[0m\u001b[0;34m\u001b[0m\u001b[0m\n\u001b[0;32m----> 3\u001b[0;31m \u001b[0mtraffic\u001b[0m \u001b[0;34m=\u001b[0m \u001b[0msum\u001b[0m\u001b[0;34m(\u001b[0m\u001b[0mfilings_2020\u001b[0m\u001b[0;34m,\u001b[0m \u001b[0msize\u001b[0m\u001b[0;34m=\u001b[0m\u001b[0mdate_day\u001b[0m\u001b[0;34m.\u001b[0m\u001b[0msize\u001b[0m\u001b[0;34m)\u001b[0m\u001b[0;34m\u001b[0m\u001b[0;34m\u001b[0m\u001b[0m\n\u001b[0m\u001b[1;32m      4\u001b[0m \u001b[0mdf_day\u001b[0m \u001b[0;34m=\u001b[0m \u001b[0mpd\u001b[0m\u001b[0;34m.\u001b[0m\u001b[0mDataFrame\u001b[0m\u001b[0;34m(\u001b[0m\u001b[0mdict\u001b[0m\u001b[0;34m(\u001b[0m\u001b[0mtraffic\u001b[0m\u001b[0;34m=\u001b[0m\u001b[0msum\u001b[0m\u001b[0;34m(\u001b[0m\u001b[0mfilings_2020\u001b[0m\u001b[0;34m)\u001b[0m\u001b[0;34m)\u001b[0m\u001b[0;34m,\u001b[0m \u001b[0mindex\u001b[0m\u001b[0;34m=\u001b[0m\u001b[0mdate_day\u001b[0m\u001b[0;34m)\u001b[0m\u001b[0;34m\u001b[0m\u001b[0;34m\u001b[0m\u001b[0m\n\u001b[1;32m      5\u001b[0m \u001b[0;34m\u001b[0m\u001b[0m\n",
      "\u001b[0;31mNameError\u001b[0m: name 'filings_2020' is not defined"
     ]
    }
   ],
   "source": [
    "#Plot of eviction totals per month\n",
    "date_day = pd.date_range(start='2020-01-01', end='2022-12-31', freq='D')\n",
    "traffic = sum(filings_2020, size=date_day.size)\n",
    "df_day = pd.DataFrame(dict(traffic=sum(filings_2020)), index=date_day)\n",
    "\n",
    "with plt.style.context('bmh'):      #temporary use of style sheet--source Matplotlib reference\n",
    "    df2.filings_2020.plot(kind='bar')\n",
    "# Create legend & Show graphic\n",
    "plt.legend()\n",
    "plt.xlabel(\"Date\")\n",
    "plt.ylabel(\"Eviction Count\")\n",
    "plt.show()"
   ]
  },
  {
   "cell_type": "code",
   "execution_count": 16,
   "metadata": {},
   "outputs": [
    {
     "data": {
      "text/plain": [
       "Text(0, 0.5, '# Evictions')"
      ]
     },
     "execution_count": 16,
     "metadata": {},
     "output_type": "execute_result"
    },
    {
     "data": {
      "image/png": "[encoded data removed]",
      "text/plain": [
       "<Figure size 432x288 with 1 Axes>"
      ]
     },
     "metadata": {
      "needs_background": "light"
     },
     "output_type": "display_data"
    }
   ],
   "source": [
    "with plt.style.context('bmh'):      #temporary use of style sheet--source Matplotlib reference\n",
    "    df.filings_2020.plot(kind='line')\n",
    "plt.title('Evictions Count Distribution (Eviction Lab, 2020-2022)')\n",
    "plt.xlabel('Count')\n",
    "plt.ylabel('# Evictions')"
   ]
  },
  {
   "cell_type": "markdown",
   "metadata": {},
   "source": [
    "After viewing the histogram, it is apparent that the vast majority of evictions are happening in the midrange of all zipcodes, however there are gaps.  This leads to a heavily left-skewed plot.\n",
    "\n",
    "## Factoring Evictions\n",
    "In order to refine the evictions into a recognizable pattern, I will first obtain a sum of evictions per zip code, then divide the total number of evictions from 2020-2022 by the average evictions in each zip code to obtain the differential percentage.  \n",
    "\n",
    "Next, I will factor evictions into NINE categorical levels of evictions (-100 to -76%, -75 to -51%, -50 to -24%, -25 to -1%, 0, 25-49%, 50-74%, 75-100%, and >100%). This will give a more detailed attention to the extreme ranges of evictions, in order to isolate these groups from the lower rates."
   ]
  },
  {
   "cell_type": "code",
   "execution_count": 18,
   "metadata": {},
   "outputs": [
    {
     "data": {
      "text/html": [
       "<div>\n",
       "<style scoped>\n",
       "    .dataframe tbody tr th:only-of-type {\n",
       "        vertical-align: middle;\n",
       "    }\n",
       "\n",
       "    .dataframe tbody tr th {\n",
       "        vertical-align: top;\n",
       "    }\n",
       "\n",
       "    .dataframe thead th {\n",
       "        text-align: right;\n",
       "    }\n",
       "</style>\n",
       "<table border=\"1\" class=\"dataframe\">\n",
       "  <thead>\n",
       "    <tr style=\"text-align: right;\">\n",
       "      <th></th>\n",
       "      <th>filings_2020</th>\n",
       "      <th>filings_avg</th>\n",
       "      <th>fmr_2br</th>\n",
       "      <th>fmr_2br_90</th>\n",
       "      <th>fmr_2br_110</th>\n",
       "      <th>population</th>\n",
       "      <th>density</th>\n",
       "    </tr>\n",
       "    <tr>\n",
       "      <th>geoid</th>\n",
       "      <th></th>\n",
       "      <th></th>\n",
       "      <th></th>\n",
       "      <th></th>\n",
       "      <th></th>\n",
       "      <th></th>\n",
       "      <th></th>\n",
       "    </tr>\n",
       "  </thead>\n",
       "  <tbody>\n",
       "    <tr>\n",
       "      <th>10001</th>\n",
       "      <td>494</td>\n",
       "      <td>1435.333333</td>\n",
       "      <td>72790.0</td>\n",
       "      <td>65511.0</td>\n",
       "      <td>80069.0</td>\n",
       "      <td>611958.0</td>\n",
       "      <td>984811.0</td>\n",
       "    </tr>\n",
       "    <tr>\n",
       "      <th>10002</th>\n",
       "      <td>861</td>\n",
       "      <td>4992.666667</td>\n",
       "      <td>50570.0</td>\n",
       "      <td>45513.0</td>\n",
       "      <td>55627.0</td>\n",
       "      <td>2360890.0</td>\n",
       "      <td>2684617.0</td>\n",
       "    </tr>\n",
       "    <tr>\n",
       "      <th>10003</th>\n",
       "      <td>405</td>\n",
       "      <td>1197.666667</td>\n",
       "      <td>89670.0</td>\n",
       "      <td>80703.0</td>\n",
       "      <td>98637.0</td>\n",
       "      <td>1624696.0</td>\n",
       "      <td>2818452.0</td>\n",
       "    </tr>\n",
       "    <tr>\n",
       "      <th>10004</th>\n",
       "      <td>47</td>\n",
       "      <td>100.666667</td>\n",
       "      <td>89670.0</td>\n",
       "      <td>80703.0</td>\n",
       "      <td>98637.0</td>\n",
       "      <td>89581.0</td>\n",
       "      <td>160051.0</td>\n",
       "    </tr>\n",
       "    <tr>\n",
       "      <th>10005</th>\n",
       "      <td>152</td>\n",
       "      <td>260.666667</td>\n",
       "      <td>89670.0</td>\n",
       "      <td>80703.0</td>\n",
       "      <td>98637.0</td>\n",
       "      <td>206915.0</td>\n",
       "      <td>2814392.0</td>\n",
       "    </tr>\n",
       "    <tr>\n",
       "      <th>...</th>\n",
       "      <td>...</td>\n",
       "      <td>...</td>\n",
       "      <td>...</td>\n",
       "      <td>...</td>\n",
       "      <td>...</td>\n",
       "      <td>...</td>\n",
       "      <td>...</td>\n",
       "    </tr>\n",
       "    <tr>\n",
       "      <th>11691</th>\n",
       "      <td>2044</td>\n",
       "      <td>7408.000000</td>\n",
       "      <td>0.0</td>\n",
       "      <td>0.0</td>\n",
       "      <td>0.0</td>\n",
       "      <td>1741015.0</td>\n",
       "      <td>614365.0</td>\n",
       "    </tr>\n",
       "    <tr>\n",
       "      <th>11692</th>\n",
       "      <td>370</td>\n",
       "      <td>2362.333333</td>\n",
       "      <td>0.0</td>\n",
       "      <td>0.0</td>\n",
       "      <td>0.0</td>\n",
       "      <td>537660.0</td>\n",
       "      <td>538414.0</td>\n",
       "    </tr>\n",
       "    <tr>\n",
       "      <th>11693</th>\n",
       "      <td>194</td>\n",
       "      <td>1007.333333</td>\n",
       "      <td>0.0</td>\n",
       "      <td>0.0</td>\n",
       "      <td>0.0</td>\n",
       "      <td>345564.0</td>\n",
       "      <td>346550.0</td>\n",
       "    </tr>\n",
       "    <tr>\n",
       "      <th>11694</th>\n",
       "      <td>256</td>\n",
       "      <td>805.333333</td>\n",
       "      <td>0.0</td>\n",
       "      <td>0.0</td>\n",
       "      <td>0.0</td>\n",
       "      <td>591832.0</td>\n",
       "      <td>433376.0</td>\n",
       "    </tr>\n",
       "    <tr>\n",
       "      <th>11697</th>\n",
       "      <td>1</td>\n",
       "      <td>4.000000</td>\n",
       "      <td>0.0</td>\n",
       "      <td>0.0</td>\n",
       "      <td>0.0</td>\n",
       "      <td>118291.0</td>\n",
       "      <td>53302.0</td>\n",
       "    </tr>\n",
       "  </tbody>\n",
       "</table>\n",
       "<p>300 rows × 7 columns</p>\n",
       "</div>"
      ],
      "text/plain": [
       "       filings_2020  filings_avg  fmr_2br  fmr_2br_90  fmr_2br_110  \\\n",
       "geoid                                                                \n",
       "10001           494  1435.333333  72790.0     65511.0      80069.0   \n",
       "10002           861  4992.666667  50570.0     45513.0      55627.0   \n",
       "10003           405  1197.666667  89670.0     80703.0      98637.0   \n",
       "10004            47   100.666667  89670.0     80703.0      98637.0   \n",
       "10005           152   260.666667  89670.0     80703.0      98637.0   \n",
       "...             ...          ...      ...         ...          ...   \n",
       "11691          2044  7408.000000      0.0         0.0          0.0   \n",
       "11692           370  2362.333333      0.0         0.0          0.0   \n",
       "11693           194  1007.333333      0.0         0.0          0.0   \n",
       "11694           256   805.333333      0.0         0.0          0.0   \n",
       "11697             1     4.000000      0.0         0.0          0.0   \n",
       "\n",
       "       population    density  \n",
       "geoid                         \n",
       "10001    611958.0   984811.0  \n",
       "10002   2360890.0  2684617.0  \n",
       "10003   1624696.0  2818452.0  \n",
       "10004     89581.0   160051.0  \n",
       "10005    206915.0  2814392.0  \n",
       "...           ...        ...  \n",
       "11691   1741015.0   614365.0  \n",
       "11692    537660.0   538414.0  \n",
       "11693    345564.0   346550.0  \n",
       "11694    591832.0   433376.0  \n",
       "11697    118291.0    53302.0  \n",
       "\n",
       "[300 rows x 7 columns]"
      ]
     },
     "execution_count": 18,
     "metadata": {},
     "output_type": "execute_result"
    }
   ],
   "source": [
    "df.groupby('geoid').sum()"
   ]
  },
  {
   "cell_type": "markdown",
   "metadata": {},
   "source": [
    "This worked to generate the count of filings_2020 by zip code, but it created an issue in the filings_avg by counting this column instead of producing an average.  So I'm going to try and do this with a groupby function."
   ]
  },
  {
   "cell_type": "code",
   "execution_count": null,
   "metadata": {},
   "outputs": [],
   "source": [
    "# Groupby geoid and find ratio of \n",
    "def evict_diff(x):\n",
    "    # df is the Dataframe\n",
    "    for x in df['geoid']:\n",
    "        df['filings_2020'].sum() / df['filings_avg'].groupby(df['geoid']).mean()\n",
    "    return x\n",
    "\n",
    "filings_diff = df.groupby('geoid').apply(evict_diff))\n",
    "print(filings_diff)"
   ]
  },
  {
   "cell_type": "code",
   "execution_count": null,
   "metadata": {},
   "outputs": [],
   "source": [
    "#factor \n",
    "def evict_ratio(y):                                 \n",
    "    '''\n",
    "    INPUT: \n",
    "    y: int, from -100 to 100%, the outputs of the ratio in evict_diff for `filings_2020`\n",
    "    \n",
    "    OUTPUT:\n",
    "    -.1 - -.76 recoded to '-100% to -76%'\n",
    "    -.75 to -.51 recoded to '-75% to -51%'\n",
    "    -.50 to -.24 recoded to '-50 to -24%'\n",
    "    -.25 to -.01% recoded to '-25 to -1%'\n",
    "    0 recoded to '0'\n",
    "    .01-.24 recoded to '1-24%'\n",
    "    .25-.49 recoded to '25-49%'\n",
    "    .50-.74 recoded to '50-74%'\n",
    "    .75-1.00 recoded to '75-100%'\n",
    "    >1.00 recoded to '>100%'\n",
    "    '''\n",
    "    if y >= -.1 and y<-.76\n",
    "        return '-100% to -76%'\n",
    "    if y >= -.75 and y <= -.51\n",
    "        return '-75- -51%'\n",
    "    if y >= -.50 and y <= -.24\n",
    "        return '-50- -24%'\n",
    "    if y >= -.25 and y <= -.01\n",
    "        return '-25- -1%'\n",
    "    if y == 0:\n",
    "        return '0'\n",
    "    if y >0 and y<=.24:\n",
    "        return '1-24%'\n",
    "    elif y >= .25 and y<=.49:\n",
    "        return '25-49%'\n",
    "    elif y >= .50 and y<=.74:\n",
    "        return '50-74%'\n",
    "    elif y>=.75 and y<.10:\n",
    "        return '75-100%'\n",
    "    elif y>=.100:\n",
    "        return '>100%'\n",
    "    else:\n",
    "        return np.nan                        # missing is coded as nan \n",
    "\n",
    "# apply the function to `filings_2020`\n",
    "\n",
    "df['filings_ratio'] = df.filings_2020.apply(evict_ratio(filings_diff))"
   ]
  },
  {
   "cell_type": "code",
   "execution_count": null,
   "metadata": {},
   "outputs": [],
   "source": [
    "# double check whether the transformation is successful:\n",
    "\n",
    "df[['filings_ratio']]"
   ]
  },
  {
   "cell_type": "markdown",
   "metadata": {},
   "source": [
    "Now that we have groups `filings_2020` into groups, let's see the resulting distribution. "
   ]
  },
  {
   "cell_type": "code",
   "execution_count": null,
   "metadata": {},
   "outputs": [],
   "source": [
    "with plt.style.context('fast'):\n",
    "    df2.groupby('filings_cat').size().plot(kind='bar')   #bar graph in order\n",
    "plt.title('Eviction Rates by Groups (Eviction Lab 2020-2022)')\n",
    "plt.xlabel('Eviction by Groups')\n",
    "plt.ylabel('# Evictions')"
   ]
  },
  {
   "cell_type": "markdown",
   "metadata": {},
   "source": [
    "## 4. Data Analysis <a id=4></a>\n"
   ]
  },
  {
   "cell_type": "markdown",
   "metadata": {},
   "source": [
    "## 4.1 Bivariate Analysis<a id=4.1></a>\n",
    "\n",
    "After inpecting each variable, I performed some simple bivariate or multivariate distributions of the numerical variables (filings_2020) over different constants (race, month, political party).\n",
    "\n",
    "- ### Eviction Rates and Race <br>"
   ]
  },
  {
   "cell_type": "code",
   "execution_count": null,
   "metadata": {},
   "outputs": [],
   "source": [
    "df2.groupby('racial_majority')['filings_2020'].agg(['mean', 'median', 'max', 'min'])        # avg filings_2020 groupby race        "
   ]
  },
  {
   "cell_type": "markdown",
   "metadata": {},
   "source": [
    "In order to better understand the distribution, it is also useful to visualize evictions and race in a boxplot."
   ]
  },
  {
   "cell_type": "code",
   "execution_count": null,
   "metadata": {},
   "outputs": [],
   "source": [
    "#boxplot of evictions IQR and mean grouped by race\n",
    "#Changing the outlier markers\n",
    "red_circle = dict(markerfacecolor='red', marker='o')\n",
    "df2.boxplot(column='filings_2020', by='racial_majority', vert=False, showmeans=True, flierprops=red_circle)    # by: x axis, column: y axis\n",
    "#plt.xscale('log')    #playing around with log on boxplot to see if it helps...it reduces outliers but makes it impossible to read TV hours\n",
    "plt.title('Eviction Filings by Race (Eviction Lab, 2020-2022)')\n",
    "plt.xlabel('Evictions')\n",
    "plt.ylabel('Race')\n",
    "plt.suptitle('')"
   ]
  },
  {
   "cell_type": "markdown",
   "metadata": {},
   "source": [
    "\n"
   ]
  },
  {
   "cell_type": "code",
   "execution_count": null,
   "metadata": {},
   "outputs": [],
   "source": [
    "pd.crosstab(values=df2['id'],    #prop table/contingency table visualization\n",
    "            index=df2['racial_majority'],\n",
    "            columns=df2['filings_2020'],\n",
    "            aggfunc='count',\n",
    "            normalize='index').plot(kind='barh', \n",
    "                                   figsize=(8, 6), alpha=1,\n",
    "                                   stacked=False)\n",
    "plt.title('Evictions % by Race (Eviction Lab, 2020-2022)')\n",
    "plt.xlabel('% Evictions')\n",
    "plt.ylabel('Race')\n",
    "plt.suptitle('')"
   ]
  },
  {
   "cell_type": "markdown",
   "metadata": {},
   "source": []
  },
  {
   "cell_type": "markdown",
   "metadata": {},
   "source": [
    "- ### Evictions and Month\n",
    "Evictions are assumed to be a year-round activity.  Let us see how the dates confirm or deny this assumption.\n"
   ]
  },
  {
   "cell_type": "code",
   "execution_count": null,
   "metadata": {},
   "outputs": [],
   "source": [
    "pd.crosstab(values=df2['id'],    #prop table/contingency table\n",
    "            index=df2['filings_2020'],\n",
    "            columns=df2['month'],\n",
    "            aggfunc='count',\n",
    "            normalize='index')    # takes True, 'columns' (each col 100%), 'index' (each row 100%)"
   ]
  },
  {
   "cell_type": "markdown",
   "metadata": {},
   "source": []
  },
  {
   "cell_type": "code",
   "execution_count": null,
   "metadata": {},
   "outputs": [],
   "source": [
    "pd.crosstab(values=df2['id'],    #prop table/contingency table visualization\n",
    "            index=df2['filings_2020'],\n",
    "            columns=df2['month'],\n",
    "            aggfunc='count',\n",
    "            normalize='index').plot(kind='barh', \n",
    "                                   figsize=(8, 6), alpha=0.7,\n",
    "                                   stacked=True, color=(['Red', 'Blue']))\n",
    "plt.title('Evictions % by Month (Eviction Lab, 2020-2022)')\n",
    "plt.xlabel('%')\n",
    "plt.ylabel('Month')\n",
    "plt.suptitle('')"
   ]
  },
  {
   "cell_type": "markdown",
   "metadata": {},
   "source": [
    "- ### Evictions and Political Party\n",
    "\n",
    "The relationship between evictions and political party in American society is a contentious one.  With the support of the Republican party, police unions and the  military, a link is usually made between poverty and liberal politics.  Let us see how the data reflected these viewpoints."
   ]
  },
  {
   "cell_type": "code",
   "execution_count": null,
   "metadata": {},
   "outputs": [],
   "source": [
    "pd.crosstab(values=df2['id'],    #prop table/contingency table\n",
    "            index=df2['filings_2020'],\n",
    "            columns=df2['party'],\n",
    "            aggfunc='count',\n",
    "            normalize='index')    # takes True, 'columns' (each col 100%), 'index' (each row 100%)"
   ]
  },
  {
   "cell_type": "markdown",
   "metadata": {},
   "source": []
  },
  {
   "cell_type": "markdown",
   "metadata": {},
   "source": [
    " ## 4.2 Multivariate Analysis <a id=4.2></a>"
   ]
  },
  {
   "cell_type": "markdown",
   "metadata": {},
   "source": [
    "For the final portion of exploratory analysis, I will explore the strength of relationships between multiple variables.  \n",
    "\n",
    "- <b> Evictions + County + Race</b><br>\n",
    "First, I will look at the relationship of eviction filings grouped by county and race.  "
   ]
  },
  {
   "cell_type": "code",
   "execution_count": null,
   "metadata": {},
   "outputs": [],
   "source": [
    "import scipy.stats as stats               # a statistical analysis library"
   ]
  },
  {
   "cell_type": "code",
   "execution_count": null,
   "metadata": {},
   "outputs": [],
   "source": [
    "df.groupby(['county', 'race'])['filings_2020'].agg(['mean', 'median', 'max', 'min'])         # avg tvhours groupby race and owngun"
   ]
  },
  {
   "cell_type": "markdown",
   "metadata": {},
   "source": [
    "## 6. References <a id=6></a>\n",
    "\n",
    "### Programming References:\n",
    "Matplotlib Style Sheets Reference.  https://matplotlib.org/stable/gallery/style_sheets/style_sheets_reference.html\n",
    "\n",
    "Legend in Matplotlib.  https://matplotlib.org/stable/api/_as_gen/matplotlib.pyplot.legend.html\n",
    "\n",
    "Stats t-test in Scipy.  https://docs.scipy.org/doc/scipy/reference/generated/scipy.stats.ttest_ind.html"
   ]
  },
  {
   "cell_type": "markdown",
   "metadata": {},
   "source": [
    "\n",
    "### Datasets:\n",
    "Crosswalk Dataset of Zip to Tract. U.S. Department of Housing and Urban Development. Office of Policy Development and Research.  https://www.huduser.gov/portal/datasets/usps_crosswalk.html#data\n",
    "\n",
    "\"Fair Market Rents: 40th Percentile.\" U.S. Department of Housing and Urban Development. Office of Policy Development and Research. Datasets.  https://www.huduser.gov/portal/datasets/fmr.html#2022_data\n",
    "\n",
    "Peter Hepburn, Renee Louis, and Matthew Desmond. Eviction Tracking System: Version 1.0. Princeton: Princeton University, 2020. www.evictionlab.org.\n",
    "\n",
    "### General Reference\n",
    "\"Summary: Fair Market Rents.\" U.S. Department of Housing and Urban Development. Office of Policy Development and Research. Blog.  https://www.huduser.gov/periodicals/ushmc/winter98/summary-2.html \n",
    "\n",
    "U.S. Commission on Civil Rights. Racial Discrimination and Eviction Policies and Enforcement in New York. 10 Mar 2022.  https://www.usccr.gov/reports/2022/racial-discrimination-and-eviction-policies-and-enforcement-new-york\n",
    "\n",
    "Zaveri, Mihir.  After a Two-Year Dip, Evictions Accelerate in New York. The New York Times. 2 May 2022. https://www.nytimes.com/2022/05/02/nyregion/new-york-evictions-cases.html\n"
   ]
  },
  {
   "cell_type": "markdown",
   "metadata": {},
   "source": [
    "<div class = \"alert alert-info\">\n",
    "\n",
    "[Back to top](#7)<br>\n",
    "    \n",
    "</div>\n",
    "<hr>"
   ]
  },
  {
   "cell_type": "code",
   "execution_count": null,
   "metadata": {},
   "outputs": [],
   "source": []
  }
 ],
 "metadata": {
  "kernelspec": {
   "display_name": "Python 3",
   "language": "python",
   "name": "python3"
  },
  "language_info": {
   "codemirror_mode": {
    "name": "ipython",
    "version": 3
   },
   "file_extension": ".py",
   "mimetype": "text/x-python",
   "name": "python",
   "nbconvert_exporter": "python",
   "pygments_lexer": "ipython3",
   "version": "3.8.8"
  }
 },
 "nbformat": 4,
 "nbformat_minor": 4
}
