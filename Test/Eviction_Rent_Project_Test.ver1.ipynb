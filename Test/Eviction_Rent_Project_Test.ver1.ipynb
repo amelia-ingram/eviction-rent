{
 "cells": [
  {
   "cell_type": "markdown",
   "metadata": {},
   "source": [
    "<h1> Project: Housing Evictions and Fair Market Rents in New York City</h1> <a id=7></a>\n",
    "<h3> Amelia Ingram, Josh Megnauth, Rameasa Arna, and Abby Stricklan</h3>\n"
   ]
  },
  {
   "cell_type": "markdown",
   "metadata": {},
   "source": [
    "## Table of Contents \n",
    "\n",
    "<div class = \"alert alert-info\">\n",
    "\n",
    "1. [Introduction](#1)<br>\n",
    "2. [Research Question](#2)<br>\n",
    "    2.1 [Assumptions](#2.1)<br>\n",
    "3. [Data](#3)<br>\n",
    "    3.1 [Univariate Analysis](#3.1)<br>\n",
    "    3.2 [Mapping Analysis](#3.2)<br>\n",
    "4. [Data Analysis](#4)<br>\n",
    "    4.1 [Bivariate Analysis](#4.1)<br>\n",
    "    4.2 [Multivariate Analysis](#4.2)<br>\n",
    "5. [Summary Conclusions](#5)<br>\n",
    "6. [References](#6)<br>\n",
    "    \n",
    "</div>\n",
    "<hr>"
   ]
  },
  {
   "cell_type": "markdown",
   "metadata": {},
   "source": [
    "## Introduction <a id=1></a>\n",
    "In the wake of the COVID-19 pandemic, New Yorkers have feared a rise in housing evictions across the city as landlords attempt to recover their losses and forcibly evict tenants.  As housing courts have reopened and the eviction deferment period is long passed, we are now seeing a rise in evictions across the city.  In this project we will attempt to test the relationship of housing evictions to a variety of neighborhood demographics including changes in the fair market housing rates (FMR) through exploratory data analysis (EDA) using data selected from the <b>Eviction Lab</b>, <b>ACS</b> and the <b>Housing and Urban Development</b> (HUD) datasets. "
   ]
  },
  {
   "cell_type": "code",
   "execution_count": 1,
   "metadata": {},
   "outputs": [],
   "source": [
    "import pandas as pd         #quick stats       \n",
    "import numpy as np      #numerical functions\n",
    "import matplotlib.pyplot as plt    #visualization library\n",
    "import seaborn as sns    #visualization and stats"
   ]
  },
  {
   "cell_type": "code",
   "execution_count": 2,
   "metadata": {},
   "outputs": [],
   "source": [
    "%matplotlib inline"
   ]
  },
  {
   "cell_type": "code",
   "execution_count": 6,
   "metadata": {},
   "outputs": [],
   "source": [
    "path = 'https://evictionlab.org/uploads/newyork_monthly_2020_2021.csv'\n",
    "\n",
    "df = pd.read_csv(path, header=0)            # read eviction data from online\n"
   ]
  },
  {
   "cell_type": "markdown",
   "metadata": {},
   "source": [
    "## Research Questions <a id=2></a>\n",
    "\n",
    "For this project, we wish to investigate the following question:\n",
    "\n",
    "> <b>Q1:</b>  Is there a correlation between eviction rates and fair housing rents in New York City? <br>\n",
    "> <b>Q2:</b>  Is there a correlation between eviction rates and any other demographic features of New York City neighborhoods that might indicate a further association to gentrification? <br>\n",
    "\n",
    "\n",
    "The variables from the evictionlab.org dataset which will be used to answer these questions are:\n",
    "> <b>DV:</b>  eviction rates<br>\n",
    "> <b>IV:</b>  average fair market rent (FMR) for a 2 bedroom<br>\n",
    "\n",
    "In order to better understand the relationship between these issues, we will experiment with several demographic control variables, including:\n",
    "> - race\n",
    "> - zip code\n",
    "> - county\n",
    "> - length of time in home\n"
   ]
  },
  {
   "cell_type": "markdown",
   "metadata": {},
   "source": [
    "## Assumptions <a id=2.1></a>\n",
    "Recent evidence produced from several housing research centers predict that there will be a strong increase in housing evictions in the New York City metropolitan area, despite the best efforts of both city and state agencies to prevent a massive rise in homelessness.  We assume that there could be some evidence of relationship between areas where eviction rates are high and rental increases that could potentially displace lower income communities and lead to further gentrification. In this case, we assume that a rise in fair market rent (FMR) will indicate displacement of low income populations from previously affordable subsidized housing. \n",
    "\n",
    "It is assumed that race also plays a crucial role in both eviction rates and rental rates.  \n",
    "\n",
    "Finally, for the purposes of this research we assume that the housing market in New York City is fixed (this is a reasonable assumption given the pandemic slowdown of new building construction).\n",
    "  "
   ]
  },
  {
   "cell_type": "markdown",
   "metadata": {},
   "source": [
    "## Data <a id=3></a>\n",
    "\n",
    "For this project, we are utilizing data from two datasets (evictionlab.org and HUD) that both include zip code geolocators, in order to both map and analyze the data.  We will also utilize ACS data for demographic information within each zip code.\n",
    "\n",
    "Our first task is to read in and inspect the data.  In the eviction dataset, there are 8428 unique observations and 7 variables.  "
   ]
  },
  {
   "cell_type": "code",
   "execution_count": 7,
   "metadata": {},
   "outputs": [
    {
     "data": {
      "text/plain": [
       "<bound method NDFrame.head of           type   GEOID racial_majority    month  filings_2020  filings_avg  \\\n",
       "0     Zip Code   10001           White  01/2020            51    55.000000   \n",
       "1     Zip Code   10001           White  02/2020            23    49.333333   \n",
       "2     Zip Code   10001           White  03/2020            20    48.333333   \n",
       "3     Zip Code   10001           White  04/2020             0    41.666667   \n",
       "4     Zip Code   10001           White  05/2020             0    42.000000   \n",
       "...        ...     ...             ...      ...           ...          ...   \n",
       "8724  Zip Code  sealed             NaN  01/2022             1     3.333333   \n",
       "8725  Zip Code  sealed             NaN  02/2022             1    19.666667   \n",
       "8726  Zip Code  sealed             NaN  03/2022             3     3.666667   \n",
       "8727  Zip Code  sealed             NaN  04/2022             3     3.000000   \n",
       "8728  Zip Code  sealed             NaN  05/2022             0     3.000000   \n",
       "\n",
       "     last_updated  \n",
       "0      2022-05-21  \n",
       "1      2022-05-21  \n",
       "2      2022-05-21  \n",
       "3      2022-05-21  \n",
       "4      2022-05-21  \n",
       "...           ...  \n",
       "8724   2022-05-21  \n",
       "8725   2022-05-21  \n",
       "8726   2022-05-21  \n",
       "8727   2022-05-21  \n",
       "8728   2022-05-21  \n",
       "\n",
       "[8729 rows x 7 columns]>"
      ]
     },
     "execution_count": 7,
     "metadata": {},
     "output_type": "execute_result"
    }
   ],
   "source": [
    "df.shape                                # returns (# of rows/obs, # of columns/variables)\n",
    "df.head"
   ]
  },
  {
   "cell_type": "markdown",
   "metadata": {},
   "source": [
    "There are two main issues we see above.  First, the `type` variable is (according to the data dictionary for the Eviction Tracking System), \"Either Census Tract or Zip Code, depending on the site. Unfortunately, address-level data is unavailable for some sites (Austin, New York City, Pittsburgh, Richmond) - in these cases, we list aggregate data based on zip code, as it is the smallest geographic grouping available.\" Not a big deal, but this means that mapping of this data is more generalized for New York City than it might be for other municipalities.<br>\n",
    "\n",
    "Secondly, we can observe `GEOID` cases are essentially zip codes and a number of `GEOID` cases that are listed as \"sealed\".  According to the data dictionary for the Eviction Tracking System, \"A modest portion of filings are reported to us with missing, incorrect, or out-of-bounds addresses. In these cases, we do not assign a Census Tract or Zip code to the case. Those cases are still included in our overall counts for a given site, but in the “get the data” data files, those cases are not listed under a tract or zip, and are instead listed at the end of the file as 'sealed'.\" This means that we will not be able to map those cases, although they can still be used in our analysis.<br>\n",
    "\n",
    "The `month` variable includes both month and year data, and the `last_updated` is just the date of the data pulled from the site.  I will hold onto the month and deselect the last_updated column.  Now let's check the null counts. The `racial_majority` variable has 29 null entries.  Hopefully this won't be a problem--it is relatively low."
   ]
  },
  {
   "cell_type": "code",
   "execution_count": 9,
   "metadata": {
    "scrolled": true
   },
   "outputs": [
    {
     "name": "stdout",
     "output_type": "stream",
     "text": [
      "<class 'pandas.core.frame.DataFrame'>\n",
      "RangeIndex: 8729 entries, 0 to 8728\n",
      "Data columns (total 7 columns):\n",
      " #   Column           Non-Null Count  Dtype  \n",
      "---  ------           --------------  -----  \n",
      " 0   type             8729 non-null   object \n",
      " 1   GEOID            8729 non-null   object \n",
      " 2   racial_majority  8700 non-null   object \n",
      " 3   month            8729 non-null   object \n",
      " 4   filings_2020     8729 non-null   int64  \n",
      " 5   filings_avg      8729 non-null   float64\n",
      " 6   last_updated     8729 non-null   object \n",
      "dtypes: float64(1), int64(1), object(5)\n",
      "memory usage: 477.5+ KB\n"
     ]
    }
   ],
   "source": [
    "df.info(verbose=True, show_counts=True)     # returns information of each column and dtypes."
   ]
  },
  {
   "cell_type": "markdown",
   "metadata": {},
   "source": [
    "Now let's load the fair market rental data from HUD.  This dataset includes the FMR rates of 2BR housing from 1983-2022.  This will give the option to create a time series analysis."
   ]
  },
  {
   "cell_type": "code",
   "execution_count": 13,
   "metadata": {},
   "outputs": [],
   "source": [
    "#load FMR 2BR data from local file (couldn't load it via URL--got errors of too large dataset)\n",
    "path2 = '/Users/ameliaingram/Documents/My_GitHub+Repository/eviction-rent/FMR_2Bed_1983_2022_rev.csv'\n",
    "\n",
    "df2 = pd.read_csv(path2, header=0)          # read FMR data from CSV file"
   ]
  },
  {
   "cell_type": "code",
   "execution_count": 14,
   "metadata": {},
   "outputs": [
    {
     "data": {
      "text/plain": [
       "<bound method NDFrame.head of         fips2010      fips2000                                areaname22  \\\n",
       "0      100199999  1.002000e+08                        Montgomery, AL MSA   \n",
       "1      100399999  1.004000e+08             Daphne-Fairhope-Foley, AL MSA   \n",
       "2      100599999  1.006000e+08                        Barbour County, AL   \n",
       "3      100799999  1.008000e+08  Birmingham-Hoover, AL HUD Metro FMR Area   \n",
       "4      100999999  1.010000e+08  Birmingham-Hoover, AL HUD Metro FMR Area   \n",
       "...          ...           ...                                       ...   \n",
       "4760  7215199999  7.215200e+09  San Juan-Guaynabo, PR HUD Metro FMR Area   \n",
       "4761  7215399999  7.215400e+09                             Yauco, PR MSA   \n",
       "4762  7801099999  7.801100e+09                      St. Croix Island, VI   \n",
       "4763  7802099999  7.802100e+09                       St. John Island, VI   \n",
       "4764  7803099999  7.803100e+09                     St. Thomas Island, VI   \n",
       "\n",
       "                   name             msa22  fmr22_2  fmr22             msa21  \\\n",
       "0        Autauga County  METRO33860M33860      914     40  METRO33860M33860   \n",
       "1        Baldwin County  METRO19300M19300     1017     40  METRO19300M19300   \n",
       "2        Barbour County  NCNTY01005N01005      705     40  NCNTY01005N01005   \n",
       "3           Bibb County  METRO13820M13820      943     40  METRO13820M13820   \n",
       "4         Blount County  METRO13820M13820      943     40  METRO13820M13820   \n",
       "...                 ...               ...      ...    ...               ...   \n",
       "4760  Yabucoa Municipio  METRO41980MM7440      538     40  METRO41980MM7440   \n",
       "4761    Yauco Municipio  METRO49500M49500      422     40  METRO38660M49500   \n",
       "4762          St. Croix  NCNTY78010N78010     1082     40  NCNTY78010N78010   \n",
       "4763           St. John  NCNTY78020N78020     1700     40  NCNTY78020N78020   \n",
       "4764         St. Thomas  NCNTY78030N78030     1253     40  NCNTY78030N78030   \n",
       "\n",
       "      fmr21_2  fmr21  ... fmr83           cbsasub  \\\n",
       "0         908     40  ...  45.0  METRO33860M33860   \n",
       "1         922     40  ...  45.0  METRO19300M19300   \n",
       "2         648     40  ...  45.0  NCNTY01005N01005   \n",
       "3        1002     40  ...  45.0  METRO13820M13820   \n",
       "4        1002     40  ...  45.0  METRO13820M13820   \n",
       "...       ...    ...  ...   ...               ...   \n",
       "4760      556     40  ...  45.0  METRO41980MM7440   \n",
       "4761      421     40  ...  45.0  METRO38660M49500   \n",
       "4762     1040     40  ...  45.0  NCNTY78010N78010   \n",
       "4763     1633     40  ...  45.0  NCNTY78020N78020   \n",
       "4764     1204     40  ...  45.0  NCNTY78030N78030   \n",
       "\n",
       "                                      areaname state   cousub  county pop2010  \\\n",
       "0                           Montgomery, AL MSA   1.0  99999.0     1.0   54571   \n",
       "1                Daphne-Fairhope-Foley, AL MSA   1.0  99999.0     3.0  182265   \n",
       "2                           Barbour County, AL   1.0  99999.0     5.0   27457   \n",
       "3     Birmingham-Hoover, AL HUD Metro FMR Area   1.0  99999.0     7.0   22915   \n",
       "4     Birmingham-Hoover, AL HUD Metro FMR Area   1.0  99999.0     9.0   57322   \n",
       "...                                        ...   ...      ...     ...     ...   \n",
       "4760  San Juan-Guaynabo, PR HUD Metro FMR Area  72.0  99999.0   151.0   37941   \n",
       "4761              Yauco, PR HUD Metro FMR Area  72.0  99999.0   153.0   42043   \n",
       "4762                      St. Croix Island, VI  78.0  99999.0    10.0   53234   \n",
       "4763                       St. John Island, VI  78.0  99999.0    20.0    4197   \n",
       "4764                     St. Thomas Island, VI  78.0  99999.0    30.0   51181   \n",
       "\n",
       "      census_region  pop2017   pop2000  \n",
       "0               3.0    55035   43671.0  \n",
       "1               3.0   203360  140415.0  \n",
       "2               3.0    26200   29038.0  \n",
       "3               3.0    22580   20826.0  \n",
       "4               3.0    57665   51024.0  \n",
       "...             ...      ...       ...  \n",
       "4760            3.0    35025   39246.0  \n",
       "4761            3.0    37585   46384.0  \n",
       "4762            3.0    53234   53234.0  \n",
       "4763            3.0     4197    4197.0  \n",
       "4764            3.0    51181   51181.0  \n",
       "\n",
       "[4765 rows x 130 columns]>"
      ]
     },
     "execution_count": 14,
     "metadata": {},
     "output_type": "execute_result"
    }
   ],
   "source": [
    "df2.shape                                # returns (# of rows/obs, # of columns/variables)\n",
    "df2.head"
   ]
  },
  {
   "cell_type": "markdown",
   "metadata": {},
   "source": [
    "In order to complete the descriptive analysis for this project, I subset the variables from the Eviction dataset into a working dataframe labelled <b>df_evict</b>.  From here I will join a crosswalk dataset of Zip to Tract data (https://www.huduser.gov/portal/datasets/usps_crosswalk.html#data) and then I can join the FMR data to our df_evict dataframe."
   ]
  },
  {
   "cell_type": "code",
   "execution_count": 19,
   "metadata": {},
   "outputs": [
    {
     "name": "stdout",
     "output_type": "stream",
     "text": [
      "<class 'pandas.core.frame.DataFrame'>\n",
      "RangeIndex: 8729 entries, 0 to 8728\n",
      "Data columns (total 5 columns):\n",
      " #   Column           Non-Null Count  Dtype  \n",
      "---  ------           --------------  -----  \n",
      " 0   GEOID            8729 non-null   object \n",
      " 1   filings_2020     8729 non-null   int64  \n",
      " 2   filings_avg      8729 non-null   float64\n",
      " 3   racial_majority  8700 non-null   object \n",
      " 4   month            8729 non-null   object \n",
      "dtypes: float64(1), int64(1), object(3)\n",
      "memory usage: 341.1+ KB\n"
     ]
    }
   ],
   "source": [
    "#Working dataframe\n",
    "#using loc to silence the SettingWithCopyError (source: Josh consultation)\n",
    "df_evict = df.loc[:, ['GEOID',   # dv\n",
    "          'filings_2020', 'filings_avg',    #iv\n",
    "          'racial_majority', 'month',  # controls\n",
    "        ]]\n",
    "\n",
    "df_evict.info()    #confirm variables are saved into df_evict"
   ]
  },
  {
   "cell_type": "markdown",
   "metadata": {},
   "source": [
    "In my new df_evict dataset there are a bunch of object variables and only two numeric variables (filings_2020 and filings_avg).  I may need to investigate the month variable further to ensure they encode in the correct date type format."
   ]
  },
  {
   "cell_type": "code",
   "execution_count": 16,
   "metadata": {},
   "outputs": [
    {
     "data": {
      "text/html": [
       "<div>\n",
       "<style scoped>\n",
       "    .dataframe tbody tr th:only-of-type {\n",
       "        vertical-align: middle;\n",
       "    }\n",
       "\n",
       "    .dataframe tbody tr th {\n",
       "        vertical-align: top;\n",
       "    }\n",
       "\n",
       "    .dataframe thead th {\n",
       "        text-align: right;\n",
       "    }\n",
       "</style>\n",
       "<table border=\"1\" class=\"dataframe\">\n",
       "  <thead>\n",
       "    <tr style=\"text-align: right;\">\n",
       "      <th></th>\n",
       "      <th>GEOID</th>\n",
       "      <th>filings_2020</th>\n",
       "      <th>filings_avg</th>\n",
       "      <th>racial_majority</th>\n",
       "      <th>month</th>\n",
       "    </tr>\n",
       "  </thead>\n",
       "  <tbody>\n",
       "    <tr>\n",
       "      <th>0</th>\n",
       "      <td>10001</td>\n",
       "      <td>51</td>\n",
       "      <td>55.000000</td>\n",
       "      <td>White</td>\n",
       "      <td>01/2020</td>\n",
       "    </tr>\n",
       "    <tr>\n",
       "      <th>1</th>\n",
       "      <td>10001</td>\n",
       "      <td>23</td>\n",
       "      <td>49.333333</td>\n",
       "      <td>White</td>\n",
       "      <td>02/2020</td>\n",
       "    </tr>\n",
       "    <tr>\n",
       "      <th>2</th>\n",
       "      <td>10001</td>\n",
       "      <td>20</td>\n",
       "      <td>48.333333</td>\n",
       "      <td>White</td>\n",
       "      <td>03/2020</td>\n",
       "    </tr>\n",
       "    <tr>\n",
       "      <th>3</th>\n",
       "      <td>10001</td>\n",
       "      <td>0</td>\n",
       "      <td>41.666667</td>\n",
       "      <td>White</td>\n",
       "      <td>04/2020</td>\n",
       "    </tr>\n",
       "    <tr>\n",
       "      <th>4</th>\n",
       "      <td>10001</td>\n",
       "      <td>0</td>\n",
       "      <td>42.000000</td>\n",
       "      <td>White</td>\n",
       "      <td>05/2020</td>\n",
       "    </tr>\n",
       "  </tbody>\n",
       "</table>\n",
       "</div>"
      ],
      "text/plain": [
       "   GEOID  filings_2020  filings_avg racial_majority    month\n",
       "0  10001            51    55.000000           White  01/2020\n",
       "1  10001            23    49.333333           White  02/2020\n",
       "2  10001            20    48.333333           White  03/2020\n",
       "3  10001             0    41.666667           White  04/2020\n",
       "4  10001             0    42.000000           White  05/2020"
      ]
     },
     "execution_count": 16,
     "metadata": {},
     "output_type": "execute_result"
    }
   ],
   "source": [
    "#initial peek under the hood of the df_evict set\n",
    "df_evict.head()"
   ]
  },
  {
   "cell_type": "code",
   "execution_count": 27,
   "metadata": {},
   "outputs": [
    {
     "name": "stdout",
     "output_type": "stream",
     "text": [
      "   zip        tract usps_zip_pref_city usps_zip_pref_state  res_ratio  \\\n",
      "0  683  72023830102         SAN GERMAN                  PR   0.000791   \n",
      "1  683  72125840700         SAN GERMAN                  PR   0.186219   \n",
      "2  683  72125840400         SAN GERMAN                  PR   0.300451   \n",
      "3  683  72125840600         SAN GERMAN                  PR   0.095325   \n",
      "4  683  72121960300         SAN GERMAN                  PR   0.042402   \n",
      "\n",
      "   bus_ratio  oth_ratio  tot_ratio  \n",
      "0   0.001116   0.000000   0.000800  \n",
      "1   0.370536   0.381643   0.201179  \n",
      "2   0.187500   0.115942   0.290308  \n",
      "3   0.007812   0.000000   0.088184  \n",
      "4   0.002232   0.019324   0.039435  \n"
     ]
    }
   ],
   "source": [
    "#load the crosswalk file\n",
    "from pandas import read_excel\n",
    "\n",
    "path3 = pd.ExcelFile('/Users/ameliaingram/Documents/My_GitHub+Repository/eviction-rent/ZIP_TRACT_122021.xlsx')\n",
    "\n",
    "my_sheet = 'Sheet1' #sheet name is at the bottom left of the excel file\n",
    "df3 = pd.ExcelFile.parse(path3)    # read FMR data from xlsx file\n",
    "\n",
    "print(df3.head())       "
   ]
  },
  {
   "cell_type": "code",
   "execution_count": null,
   "metadata": {},
   "outputs": [],
   "source": []
  },
  {
   "cell_type": "code",
   "execution_count": null,
   "metadata": {},
   "outputs": [],
   "source": []
  },
  {
   "cell_type": "markdown",
   "metadata": {},
   "source": [
    "### Check for missing values\n",
    "Before I do any initial analysis, I need to check for missing values from the dataset. In the code below, I found that the control `racial_majority` had 29 missing values, and the rest are fine.  In the context of this large dataset these are acceptable missing amounts to continue to use everything.  \n",
    "\n",
    "Our backup control variables `month` and `GEOID` (zip code) have no missing values.  These are good.  "
   ]
  },
  {
   "cell_type": "code",
   "execution_count": 17,
   "metadata": {},
   "outputs": [
    {
     "data": {
      "text/plain": [
       "GEOID               0\n",
       "filings_2020        0\n",
       "filings_avg         0\n",
       "racial_majority    29\n",
       "month               0\n",
       "dtype: int64"
      ]
     },
     "execution_count": 17,
     "metadata": {},
     "output_type": "execute_result"
    }
   ],
   "source": [
    "df_evict.isnull().sum()                           # returns the number of missing values for the df"
   ]
  },
  {
   "cell_type": "markdown",
   "metadata": {},
   "source": [
    "### Initial Data Transformation\n",
    "In order to make this dataset usable, we need to do some initial data transformation...\n",
    "\n",
    "In the df_evict dataset, several `GEOID` entries are recorded as \"sealed\", which is problematic, so I changed it to \"NaN\". "
   ]
  },
  {
   "cell_type": "code",
   "execution_count": 26,
   "metadata": {},
   "outputs": [],
   "source": [
    "#Convert 'GEOID' sealed entries into NaN\n",
    "\n",
    "df_evict['GEOID'] = df_evict.GEOID.replace('sealed', np.nan)"
   ]
  },
  {
   "cell_type": "code",
   "execution_count": 27,
   "metadata": {},
   "outputs": [
    {
     "name": "stdout",
     "output_type": "stream",
     "text": [
      "<class 'pandas.core.frame.DataFrame'>\n",
      "RangeIndex: 8729 entries, 0 to 8728\n",
      "Data columns (total 5 columns):\n",
      " #   Column           Non-Null Count  Dtype  \n",
      "---  ------           --------------  -----  \n",
      " 0   GEOID            8700 non-null   object \n",
      " 1   filings_2020     8729 non-null   int64  \n",
      " 2   filings_avg      8729 non-null   float64\n",
      " 3   racial_majority  8700 non-null   object \n",
      " 4   month            8729 non-null   object \n",
      "dtypes: float64(1), int64(1), object(3)\n",
      "memory usage: 341.1+ KB\n"
     ]
    }
   ],
   "source": [
    "df_evict.info('GEOID')    #when I run this confirmation line, GEOID has replaced 29 'sealed' entries with NaN's"
   ]
  },
  {
   "cell_type": "markdown",
   "metadata": {},
   "source": [
    "I will first rename `race_majority` to `race` in order to ease analysis.  Then, I will also add `counties` to the dataset by assigning zip codes to counties and then applying those as a function to the `GEOID` info for readability in the analysis and plots."
   ]
  },
  {
   "cell_type": "code",
   "execution_count": 28,
   "metadata": {},
   "outputs": [
    {
     "data": {
      "text/plain": [
       "Index(['GEOID', 'filings_2020', 'filings_avg', 'racial_majority', 'month'], dtype='object')"
      ]
     },
     "execution_count": 28,
     "metadata": {},
     "output_type": "execute_result"
    }
   ],
   "source": [
    "#rename of race column here\n",
    "df_evict = df_evict.rename(columns={'race_majority':'Race'})\n",
    "\n",
    "df_evict.columns"
   ]
  },
  {
   "cell_type": "code",
   "execution_count": 29,
   "metadata": {},
   "outputs": [
    {
     "ename": "ModuleNotFoundError",
     "evalue": "No module named 'uszipcode'",
     "output_type": "error",
     "traceback": [
      "\u001b[0;31m---------------------------------------------------------------------------\u001b[0m",
      "\u001b[0;31mModuleNotFoundError\u001b[0m                       Traceback (most recent call last)",
      "\u001b[0;32m<ipython-input-29-2d2858e99f1d>\u001b[0m in \u001b[0;36m<module>\u001b[0;34m\u001b[0m\n\u001b[1;32m      1\u001b[0m \u001b[0;31m#function to add counties to df_evict using uszipcodes package\u001b[0m\u001b[0;34m\u001b[0m\u001b[0;34m\u001b[0m\u001b[0;34m\u001b[0m\u001b[0m\n\u001b[1;32m      2\u001b[0m \u001b[0;31m#install uszipcodes and load search engine\u001b[0m\u001b[0;34m\u001b[0m\u001b[0;34m\u001b[0m\u001b[0;34m\u001b[0m\u001b[0m\n\u001b[0;32m----> 3\u001b[0;31m \u001b[0;32mimport\u001b[0m \u001b[0muszipcode\u001b[0m \u001b[0;32mas\u001b[0m \u001b[0mus\u001b[0m\u001b[0;34m\u001b[0m\u001b[0;34m\u001b[0m\u001b[0m\n\u001b[0m\u001b[1;32m      4\u001b[0m \u001b[0;32mfrom\u001b[0m \u001b[0muszipcode\u001b[0m \u001b[0;32mimport\u001b[0m \u001b[0mZipcodeSearchEngine\u001b[0m\u001b[0;34m\u001b[0m\u001b[0;34m\u001b[0m\u001b[0m\n\u001b[1;32m      5\u001b[0m \u001b[0msearch\u001b[0m \u001b[0;34m=\u001b[0m \u001b[0mZipcodeSearchEngine\u001b[0m\u001b[0;34m(\u001b[0m\u001b[0;34m)\u001b[0m\u001b[0;34m\u001b[0m\u001b[0;34m\u001b[0m\u001b[0m\n",
      "\u001b[0;31mModuleNotFoundError\u001b[0m: No module named 'uszipcode'"
     ]
    }
   ],
   "source": [
    "#function to add counties to df_evict using uszipcodes package\n",
    "#install uszipcodes and load search engine\n",
    "import uszipcode as us\n",
    "from uszipcode import ZipcodeSearchEngine\n",
    "search = ZipcodeSearchEngine()\n",
    "\n",
    "#first create function of zip codes assigned to counties\n",
    "def zippy(x):\n",
    "    if pd.isnull(x):\n",
    "        return None\n",
    "    else:\n",
    "        county = search.by_zipcode(int(x))['County']\n",
    "        return county if county else NaN\n",
    "\n",
    "df_evict['County'] = df_evict['GEOID'].apply(zippy)\n",
    "df_evict.head()\n",
    "\n",
    "#        for x in df_evict['GEOID']:\n",
    "#            x = int(x)                          #convert to int because value is object\n",
    "#            county = search.by_zipcode(x)['County'] #Module extracts the county name \n",
    "#            if x == str(county):               #The module doesn't recognize some zipcodes, thus generating None.This will skip None values.\n",
    "#                str(x).assign(x, county)    #assign county to zipcode value\n",
    "#                else: continue\n",
    "\n",
    "#df_evict['county'] = df_evict['GEOID'].assign(zippy())"
   ]
  },
  {
   "cell_type": "markdown",
   "metadata": {},
   "source": [
    "Now the variables are ready to perform an initial analysis to present their survey results.  "
   ]
  },
  {
   "cell_type": "markdown",
   "metadata": {},
   "source": [
    "## Univariate Analysis of Main Variables <a id=3.1></a>\n",
    "\n",
    "### Variable:  filings_2020\n",
    "`filings_2020` is the independent variable in this study.  The Eviction Lab data reports both filings_2020 which is a cumulative number since 2020 and filings_avg which is the average per month.  We are exploring both versions in this project.]"
   ]
  },
  {
   "cell_type": "code",
   "execution_count": 30,
   "metadata": {},
   "outputs": [
    {
     "data": {
      "text/plain": [
       "count    8729.000000\n",
       "mean       17.074923\n",
       "std        40.453826\n",
       "min         0.000000\n",
       "25%         0.000000\n",
       "50%         1.000000\n",
       "75%        15.000000\n",
       "max       550.000000\n",
       "Name: filings_2020, dtype: float64"
      ]
     },
     "execution_count": 30,
     "metadata": {},
     "output_type": "execute_result"
    }
   ],
   "source": [
    "df_evict.filings_2020.describe()                          "
   ]
  },
  {
   "cell_type": "markdown",
   "metadata": {},
   "source": [
    "According to the preliminary descriptive statistics, evictions were on average 17.075 per zipcode, with a minimum of zero and a maximum of 550.  The interquartile range varied from 0 to 15 for the middle 50% of zipcodes.  "
   ]
  },
  {
   "cell_type": "code",
   "execution_count": 32,
   "metadata": {},
   "outputs": [
    {
     "data": {
      "text/plain": [
       "Text(0, 0.5, '# Evictions')"
      ]
     },
     "execution_count": 32,
     "metadata": {},
     "output_type": "execute_result"
    },
    {
     "data": {
      "image/png": "[encoded data removed]",
      "text/plain": [
       "<Figure size 432x288 with 1 Axes>"
      ]
     },
     "metadata": {
      "needs_background": "light"
     },
     "output_type": "display_data"
    }
   ],
   "source": [
    "with plt.style.context('bmh'):      #temporary use of style sheet--source Matplotlib reference\n",
    "    df_evict.filings_2020.plot(kind='line')\n",
    "plt.title('Evictions per Zipcode (Eviction Lab, 2020-2022)')\n",
    "plt.xlabel('Zipcodes')\n",
    "plt.ylabel('# Evictions')"
   ]
  },
  {
   "cell_type": "markdown",
   "metadata": {},
   "source": [
    "After viewing the histogram, it is apparent that the vast majority of evictions are happening in the midrange of all zipcodes, however there are gaps.  This leads to a heavily left-skewed plot.\n",
    "\n",
    "In order to refine the evictions into a recognizable pattern, I will divide into five categorical levels of evictions (0, 1-9, 10-29, 30-59, 60-99, and >100). This will give a more detailed attention to the extreme ranges of evictions, in order to isolate these groups from the lower rates."
   ]
  },
  {
   "cell_type": "code",
   "execution_count": 42,
   "metadata": {},
   "outputs": [],
   "source": [
    "def evict_b(y):                                 \n",
    "    '''\n",
    "    INPUT: \n",
    "    y: int, from -1 to 550, the inputs of the int variable `filings_2020`\n",
    "    \n",
    "    OUTPUT:\n",
    "    0 recoded to '<1'\n",
    "    1-9 recoded to '1-9'\n",
    "    10-29 recoded to '10-29'\n",
    "    30-59 recoded to '30-59'\n",
    "    60-99 recoded to '60-99'\n",
    "    >100 recoded to '>100'\n",
    "    '''\n",
    "    if y == 0:\n",
    "        return '0'\n",
    "    if y >0 and y<10:\n",
    "        return '1-9'\n",
    "    elif y >= 10 and y<30:\n",
    "        return '10-29'\n",
    "    elif y >= 30 and y<60:\n",
    "        return '30-59'\n",
    "    elif y>=60 and y<100:\n",
    "        return '60-99'\n",
    "    elif y>=100:\n",
    "        return '>100'\n",
    "    else:\n",
    "        return np.nan                        # missing is coded as nan \n",
    "\n",
    "# apply the function to `filings_2020`\n",
    "\n",
    "df_evict['filings_cat'] = df_evict.filings_2020.apply(evict_b)"
   ]
  },
  {
   "cell_type": "code",
   "execution_count": 43,
   "metadata": {},
   "outputs": [
    {
     "data": {
      "text/html": [
       "<div>\n",
       "<style scoped>\n",
       "    .dataframe tbody tr th:only-of-type {\n",
       "        vertical-align: middle;\n",
       "    }\n",
       "\n",
       "    .dataframe tbody tr th {\n",
       "        vertical-align: top;\n",
       "    }\n",
       "\n",
       "    .dataframe thead th {\n",
       "        text-align: right;\n",
       "    }\n",
       "</style>\n",
       "<table border=\"1\" class=\"dataframe\">\n",
       "  <thead>\n",
       "    <tr style=\"text-align: right;\">\n",
       "      <th></th>\n",
       "      <th>filings_cat</th>\n",
       "    </tr>\n",
       "  </thead>\n",
       "  <tbody>\n",
       "    <tr>\n",
       "      <th>0</th>\n",
       "      <td>30-59</td>\n",
       "    </tr>\n",
       "    <tr>\n",
       "      <th>1</th>\n",
       "      <td>10-29</td>\n",
       "    </tr>\n",
       "    <tr>\n",
       "      <th>2</th>\n",
       "      <td>10-29</td>\n",
       "    </tr>\n",
       "    <tr>\n",
       "      <th>3</th>\n",
       "      <td>0</td>\n",
       "    </tr>\n",
       "    <tr>\n",
       "      <th>4</th>\n",
       "      <td>0</td>\n",
       "    </tr>\n",
       "    <tr>\n",
       "      <th>...</th>\n",
       "      <td>...</td>\n",
       "    </tr>\n",
       "    <tr>\n",
       "      <th>8724</th>\n",
       "      <td>1-9</td>\n",
       "    </tr>\n",
       "    <tr>\n",
       "      <th>8725</th>\n",
       "      <td>1-9</td>\n",
       "    </tr>\n",
       "    <tr>\n",
       "      <th>8726</th>\n",
       "      <td>1-9</td>\n",
       "    </tr>\n",
       "    <tr>\n",
       "      <th>8727</th>\n",
       "      <td>1-9</td>\n",
       "    </tr>\n",
       "    <tr>\n",
       "      <th>8728</th>\n",
       "      <td>0</td>\n",
       "    </tr>\n",
       "  </tbody>\n",
       "</table>\n",
       "<p>8729 rows × 1 columns</p>\n",
       "</div>"
      ],
      "text/plain": [
       "     filings_cat\n",
       "0          30-59\n",
       "1          10-29\n",
       "2          10-29\n",
       "3              0\n",
       "4              0\n",
       "...          ...\n",
       "8724         1-9\n",
       "8725         1-9\n",
       "8726         1-9\n",
       "8727         1-9\n",
       "8728           0\n",
       "\n",
       "[8729 rows x 1 columns]"
      ]
     },
     "execution_count": 43,
     "metadata": {},
     "output_type": "execute_result"
    }
   ],
   "source": [
    "# double check whether the transformation is successful:\n",
    "\n",
    "df_evict[['filings_cat']]"
   ]
  },
  {
   "cell_type": "markdown",
   "metadata": {},
   "source": [
    "Now that we have groups `filings_2020` into groups, let's see the resulting distribution. "
   ]
  },
  {
   "cell_type": "code",
   "execution_count": 45,
   "metadata": {},
   "outputs": [
    {
     "data": {
      "text/plain": [
       "Text(0, 0.5, '# Evictions')"
      ]
     },
     "execution_count": 45,
     "metadata": {},
     "output_type": "execute_result"
    },
    {
     "data": {
      "image/png": "[encoded data removed]",
      "text/plain": [
       "<Figure size 432x288 with 1 Axes>"
      ]
     },
     "metadata": {
      "needs_background": "light"
     },
     "output_type": "display_data"
    }
   ],
   "source": [
    "with plt.style.context('fast'):\n",
    "    df_evict.groupby('filings_cat').size().plot(kind='bar')   #bar graph in order\n",
    "plt.title('Eviction Rates by Groups (Eviction Lab 2020-2022)')\n",
    "plt.xlabel('Eviction by Groups')\n",
    "plt.ylabel('# Evictions')"
   ]
  },
  {
   "cell_type": "markdown",
   "metadata": {},
   "source": [
    "Now we can see that there are far fewer zip codes that have eviction rates greater than 100."
   ]
  },
  {
   "cell_type": "markdown",
   "metadata": {},
   "source": [
    "## 4. Data Analysis <a id=4></a>\n"
   ]
  },
  {
   "cell_type": "markdown",
   "metadata": {},
   "source": [
    "## 4.1 Bivariate Analysis<a id=4.1></a>\n",
    "\n",
    "After inpecting each individual variable, I performed some simple bivariate or multivariate distributions of the numerical variables (filings_2020) over different categories (zipcodes, counties and race).\n",
    "\n",
    "- ### Eviction Rates and Race <br>\n"
   ]
  },
  {
   "cell_type": "code",
   "execution_count": 1,
   "metadata": {},
   "outputs": [
    {
     "ename": "NameError",
     "evalue": "name 'df_evict' is not defined",
     "output_type": "error",
     "traceback": [
      "\u001b[0;31m---------------------------------------------------------------------------\u001b[0m",
      "\u001b[0;31mNameError\u001b[0m                                 Traceback (most recent call last)",
      "\u001b[0;32m<ipython-input-1-59b0c08285a6>\u001b[0m in \u001b[0;36m<module>\u001b[0;34m\u001b[0m\n\u001b[0;32m----> 1\u001b[0;31m \u001b[0mdf_evict\u001b[0m\u001b[0;34m.\u001b[0m\u001b[0mgroupby\u001b[0m\u001b[0;34m(\u001b[0m\u001b[0;34m'racial_majority'\u001b[0m\u001b[0;34m)\u001b[0m\u001b[0;34m[\u001b[0m\u001b[0;34m'filings_2020'\u001b[0m\u001b[0;34m]\u001b[0m\u001b[0;34m.\u001b[0m\u001b[0magg\u001b[0m\u001b[0;34m(\u001b[0m\u001b[0;34m[\u001b[0m\u001b[0;34m'mean'\u001b[0m\u001b[0;34m,\u001b[0m \u001b[0;34m'median'\u001b[0m\u001b[0;34m,\u001b[0m \u001b[0;34m'max'\u001b[0m\u001b[0;34m,\u001b[0m \u001b[0;34m'min'\u001b[0m\u001b[0;34m]\u001b[0m\u001b[0;34m)\u001b[0m        \u001b[0;31m# avg filings_2020 groupby race\u001b[0m\u001b[0;34m\u001b[0m\u001b[0;34m\u001b[0m\u001b[0m\n\u001b[0m",
      "\u001b[0;31mNameError\u001b[0m: name 'df_evict' is not defined"
     ]
    }
   ],
   "source": [
    "df_evict.groupby('racial_majority')['filings_2020'].agg(['mean', 'median', 'max', 'min'])        # avg filings_2020 groupby race        "
   ]
  },
  {
   "cell_type": "markdown",
   "metadata": {},
   "source": [
    "In order to better understand the distribution, it is also useful to visualize evictions and race in a boxplot."
   ]
  },
  {
   "cell_type": "code",
   "execution_count": 54,
   "metadata": {},
   "outputs": [
    {
     "data": {
      "text/plain": [
       "Text(0.5, 0.98, '')"
      ]
     },
     "execution_count": 54,
     "metadata": {},
     "output_type": "execute_result"
    },
    {
     "data": {
      "image/png": "[encoded data removed]",
      "text/plain": [
       "<Figure size 432x288 with 1 Axes>"
      ]
     },
     "metadata": {
      "needs_background": "light"
     },
     "output_type": "display_data"
    }
   ],
   "source": [
    "#boxplot of evictions IQR and mean grouped by race\n",
    "#Changing the outlier markers\n",
    "red_circle = dict(markerfacecolor='red', marker='o')\n",
    "df3.boxplot(column='filings_2020', by='racial_majority', vert=False, showmeans=True, flierprops=red_circle)    # by: x axis, column: y axis\n",
    "#plt.xscale('log')    #playing around with log on boxplot to see if it helps...it reduces outliers but makes it impossible to read TV hours\n",
    "plt.title('Eviction Filings by Race (Eviction Lab, 2020-2022)')\n",
    "plt.xlabel('Evictions')\n",
    "plt.ylabel('Race')\n",
    "plt.suptitle('')"
   ]
  },
  {
   "cell_type": "markdown",
   "metadata": {},
   "source": [
    "\n"
   ]
  },
  {
   "cell_type": "code",
   "execution_count": 55,
   "metadata": {},
   "outputs": [
    {
     "data": {
      "text/plain": [
       "Text(0.5, 0.98, '')"
      ]
     },
     "execution_count": 55,
     "metadata": {},
     "output_type": "execute_result"
    },
    {
     "data": {
      "image/png": "[encoded data removed]",
      "text/plain": [
       "<Figure size 576x432 with 1 Axes>"
      ]
     },
     "metadata": {
      "needs_background": "light"
     },
     "output_type": "display_data"
    }
   ],
   "source": [
    "pd.crosstab(values=df_evict['id'],    #prop table/contingency table visualization\n",
    "            index=df3['racial_majority'],\n",
    "            columns=df3['filings_2020'],\n",
    "            aggfunc='count',\n",
    "            normalize='index').plot(kind='barh', \n",
    "                                   figsize=(8, 6), alpha=1,\n",
    "                                   stacked=False)\n",
    "plt.title('Evictions % by Race (Eviction Lab, 2020-2022)')\n",
    "plt.xlabel('% Evictions')\n",
    "plt.ylabel('Race')\n",
    "plt.suptitle('')"
   ]
  },
  {
   "cell_type": "markdown",
   "metadata": {},
   "source": []
  },
  {
   "cell_type": "markdown",
   "metadata": {},
   "source": [
    "- ### Evictions and Month\n",
    "Evictions are assumed to be a year-round activity.  Let us see how the dates confirm or deny this assumption.\n"
   ]
  },
  {
   "cell_type": "code",
   "execution_count": 56,
   "metadata": {},
   "outputs": [
    {
     "data": {
      "text/html": [
       "<div>\n",
       "<style scoped>\n",
       "    .dataframe tbody tr th:only-of-type {\n",
       "        vertical-align: middle;\n",
       "    }\n",
       "\n",
       "    .dataframe tbody tr th {\n",
       "        vertical-align: top;\n",
       "    }\n",
       "\n",
       "    .dataframe thead th {\n",
       "        text-align: right;\n",
       "    }\n",
       "</style>\n",
       "<table border=\"1\" class=\"dataframe\">\n",
       "  <thead>\n",
       "    <tr style=\"text-align: right;\">\n",
       "      <th>sex</th>\n",
       "      <th>Female</th>\n",
       "      <th>Male</th>\n",
       "    </tr>\n",
       "    <tr>\n",
       "      <th>owngun</th>\n",
       "      <th></th>\n",
       "      <th></th>\n",
       "    </tr>\n",
       "  </thead>\n",
       "  <tbody>\n",
       "    <tr>\n",
       "      <th>NO</th>\n",
       "      <td>0.600476</td>\n",
       "      <td>0.399524</td>\n",
       "    </tr>\n",
       "    <tr>\n",
       "      <th>REFUSED</th>\n",
       "      <td>0.500000</td>\n",
       "      <td>0.500000</td>\n",
       "    </tr>\n",
       "    <tr>\n",
       "      <th>YES</th>\n",
       "      <td>0.472727</td>\n",
       "      <td>0.527273</td>\n",
       "    </tr>\n",
       "  </tbody>\n",
       "</table>\n",
       "</div>"
      ],
      "text/plain": [
       "sex        Female      Male\n",
       "owngun                     \n",
       "NO       0.600476  0.399524\n",
       "REFUSED  0.500000  0.500000\n",
       "YES      0.472727  0.527273"
      ]
     },
     "execution_count": 56,
     "metadata": {},
     "output_type": "execute_result"
    }
   ],
   "source": [
    "pd.crosstab(values=df_evict['id'],    #prop table/contingency table\n",
    "            index=df_evict['filings_2020'],\n",
    "            columns=df_evict['month'],\n",
    "            aggfunc='count',\n",
    "            normalize='index')    # takes True, 'columns' (each col 100%), 'index' (each row 100%)"
   ]
  },
  {
   "cell_type": "markdown",
   "metadata": {},
   "source": []
  },
  {
   "cell_type": "code",
   "execution_count": 57,
   "metadata": {},
   "outputs": [
    {
     "data": {
      "text/plain": [
       "Text(0.5, 0.98, '')"
      ]
     },
     "execution_count": 57,
     "metadata": {},
     "output_type": "execute_result"
    },
    {
     "data": {
      "image/png": "[encoded data removed]",
      "text/plain": [
       "<Figure size 576x432 with 1 Axes>"
      ]
     },
     "metadata": {
      "needs_background": "light"
     },
     "output_type": "display_data"
    }
   ],
   "source": [
    "pd.crosstab(values=df_evict['id'],    #prop table/contingency table visualization\n",
    "            index=df3['filings_2020'],\n",
    "            columns=df3['month'],\n",
    "            aggfunc='count',\n",
    "            normalize='index').plot(kind='barh', \n",
    "                                   figsize=(8, 6), alpha=0.7,\n",
    "                                   stacked=True, color=(['Red', 'Blue']))\n",
    "plt.title('Evictions % by Month (Eviction Lab, 2020-2022)')\n",
    "plt.xlabel('%')\n",
    "plt.ylabel('Month')\n",
    "plt.suptitle('')"
   ]
  },
  {
   "cell_type": "markdown",
   "metadata": {},
   "source": [
    "- ### Evictions and Political Party\n",
    "\n",
    "The relationship between evictions and political party in American society is a contentious one.  With the support of the Republican party, police unions and the  military, a link is usually made between poverty and liberal politics.  Let us see how the data reflected these viewpoints."
   ]
  },
  {
   "cell_type": "code",
   "execution_count": 60,
   "metadata": {},
   "outputs": [
    {
     "data": {
      "text/html": [
       "<div>\n",
       "<style scoped>\n",
       "    .dataframe tbody tr th:only-of-type {\n",
       "        vertical-align: middle;\n",
       "    }\n",
       "\n",
       "    .dataframe tbody tr th {\n",
       "        vertical-align: top;\n",
       "    }\n",
       "\n",
       "    .dataframe thead th {\n",
       "        text-align: right;\n",
       "    }\n",
       "</style>\n",
       "<table border=\"1\" class=\"dataframe\">\n",
       "  <thead>\n",
       "    <tr style=\"text-align: right;\">\n",
       "      <th>party</th>\n",
       "      <th>Democrat</th>\n",
       "      <th>Independent</th>\n",
       "      <th>Republican</th>\n",
       "    </tr>\n",
       "    <tr>\n",
       "      <th>owngun</th>\n",
       "      <th></th>\n",
       "      <th></th>\n",
       "      <th></th>\n",
       "    </tr>\n",
       "  </thead>\n",
       "  <tbody>\n",
       "    <tr>\n",
       "      <th>NO</th>\n",
       "      <td>0.545229</td>\n",
       "      <td>0.225527</td>\n",
       "      <td>0.229244</td>\n",
       "    </tr>\n",
       "    <tr>\n",
       "      <th>REFUSED</th>\n",
       "      <td>0.173913</td>\n",
       "      <td>0.130435</td>\n",
       "      <td>0.695652</td>\n",
       "    </tr>\n",
       "    <tr>\n",
       "      <th>YES</th>\n",
       "      <td>0.367681</td>\n",
       "      <td>0.163934</td>\n",
       "      <td>0.468384</td>\n",
       "    </tr>\n",
       "  </tbody>\n",
       "</table>\n",
       "</div>"
      ],
      "text/plain": [
       "party    Democrat  Independent  Republican\n",
       "owngun                                    \n",
       "NO       0.545229     0.225527    0.229244\n",
       "REFUSED  0.173913     0.130435    0.695652\n",
       "YES      0.367681     0.163934    0.468384"
      ]
     },
     "execution_count": 60,
     "metadata": {},
     "output_type": "execute_result"
    }
   ],
   "source": [
    "pd.crosstab(values=df_evict['id'],    #prop table/contingency table\n",
    "            index=df_evict['filings_2020'],\n",
    "            columns=df_evict['party'],\n",
    "            aggfunc='count',\n",
    "            normalize='index')    # takes True, 'columns' (each col 100%), 'index' (each row 100%)"
   ]
  },
  {
   "cell_type": "markdown",
   "metadata": {},
   "source": []
  },
  {
   "cell_type": "markdown",
   "metadata": {},
   "source": [
    " ## 4.2 Multivariate Analysis <a id=4.2></a>"
   ]
  },
  {
   "cell_type": "markdown",
   "metadata": {},
   "source": [
    "For the final portion of exploratory analysis, I will explore the strength of relationships between multiple variables.  \n",
    "\n",
    "- <b> Evictions + County + Race</b><br>\n",
    "First, I will look at the relationship of eviction filings grouped by county and race.  "
   ]
  },
  {
   "cell_type": "code",
   "execution_count": 65,
   "metadata": {},
   "outputs": [],
   "source": [
    "import scipy.stats as stats               # a statistical analysis library"
   ]
  },
  {
   "cell_type": "code",
   "execution_count": 66,
   "metadata": {},
   "outputs": [
    {
     "data": {
      "text/html": [
       "<div>\n",
       "<style scoped>\n",
       "    .dataframe tbody tr th:only-of-type {\n",
       "        vertical-align: middle;\n",
       "    }\n",
       "\n",
       "    .dataframe tbody tr th {\n",
       "        vertical-align: top;\n",
       "    }\n",
       "\n",
       "    .dataframe thead th {\n",
       "        text-align: right;\n",
       "    }\n",
       "</style>\n",
       "<table border=\"1\" class=\"dataframe\">\n",
       "  <thead>\n",
       "    <tr style=\"text-align: right;\">\n",
       "      <th></th>\n",
       "      <th></th>\n",
       "      <th>mean</th>\n",
       "      <th>median</th>\n",
       "      <th>max</th>\n",
       "      <th>min</th>\n",
       "    </tr>\n",
       "    <tr>\n",
       "      <th>owngun</th>\n",
       "      <th>race</th>\n",
       "      <th></th>\n",
       "      <th></th>\n",
       "      <th></th>\n",
       "      <th></th>\n",
       "    </tr>\n",
       "  </thead>\n",
       "  <tbody>\n",
       "    <tr>\n",
       "      <th rowspan=\"3\" valign=\"top\">NO</th>\n",
       "      <th>Black</th>\n",
       "      <td>3.910256</td>\n",
       "      <td>3.0</td>\n",
       "      <td>24.0</td>\n",
       "      <td>0.0</td>\n",
       "    </tr>\n",
       "    <tr>\n",
       "      <th>Other</th>\n",
       "      <td>2.869565</td>\n",
       "      <td>2.0</td>\n",
       "      <td>10.0</td>\n",
       "      <td>0.0</td>\n",
       "    </tr>\n",
       "    <tr>\n",
       "      <th>White</th>\n",
       "      <td>2.886029</td>\n",
       "      <td>2.0</td>\n",
       "      <td>15.0</td>\n",
       "      <td>0.0</td>\n",
       "    </tr>\n",
       "    <tr>\n",
       "      <th rowspan=\"2\" valign=\"top\">REFUSED</th>\n",
       "      <th>Black</th>\n",
       "      <td>4.000000</td>\n",
       "      <td>4.0</td>\n",
       "      <td>4.0</td>\n",
       "      <td>4.0</td>\n",
       "    </tr>\n",
       "    <tr>\n",
       "      <th>White</th>\n",
       "      <td>4.083333</td>\n",
       "      <td>2.5</td>\n",
       "      <td>20.0</td>\n",
       "      <td>1.0</td>\n",
       "    </tr>\n",
       "    <tr>\n",
       "      <th rowspan=\"3\" valign=\"top\">YES</th>\n",
       "      <th>Black</th>\n",
       "      <td>3.888889</td>\n",
       "      <td>4.0</td>\n",
       "      <td>7.0</td>\n",
       "      <td>1.0</td>\n",
       "    </tr>\n",
       "    <tr>\n",
       "      <th>Other</th>\n",
       "      <td>1.600000</td>\n",
       "      <td>1.5</td>\n",
       "      <td>4.0</td>\n",
       "      <td>0.0</td>\n",
       "    </tr>\n",
       "    <tr>\n",
       "      <th>White</th>\n",
       "      <td>2.897959</td>\n",
       "      <td>2.0</td>\n",
       "      <td>24.0</td>\n",
       "      <td>0.0</td>\n",
       "    </tr>\n",
       "  </tbody>\n",
       "</table>\n",
       "</div>"
      ],
      "text/plain": [
       "                   mean  median   max  min\n",
       "owngun  race                              \n",
       "NO      Black  3.910256     3.0  24.0  0.0\n",
       "        Other  2.869565     2.0  10.0  0.0\n",
       "        White  2.886029     2.0  15.0  0.0\n",
       "REFUSED Black  4.000000     4.0   4.0  4.0\n",
       "        White  4.083333     2.5  20.0  1.0\n",
       "YES     Black  3.888889     4.0   7.0  1.0\n",
       "        Other  1.600000     1.5   4.0  0.0\n",
       "        White  2.897959     2.0  24.0  0.0"
      ]
     },
     "execution_count": 66,
     "metadata": {},
     "output_type": "execute_result"
    }
   ],
   "source": [
    "df_evict.groupby(['county', 'race'])['filings_2020'].agg(['mean', 'median', 'max', 'min'])         # avg tvhours groupby race and owngun"
   ]
  },
  {
   "cell_type": "markdown",
   "metadata": {},
   "source": [
    "## 6. References <a id=6></a>\n",
    "\n",
    "### Programming References:\n",
    "Matplotlib Style Sheets Reference.  https://matplotlib.org/stable/gallery/style_sheets/style_sheets_reference.html\n",
    "\n",
    "Legend in Matplotlib.  https://matplotlib.org/stable/api/_as_gen/matplotlib.pyplot.legend.html\n",
    "\n",
    "Stats t-test in Scipy.  https://docs.scipy.org/doc/scipy/reference/generated/scipy.stats.ttest_ind.html"
   ]
  },
  {
   "cell_type": "markdown",
   "metadata": {},
   "source": [
    "### Works Cited:\n"
   ]
  },
  {
   "cell_type": "markdown",
   "metadata": {},
   "source": [
    "<div class = \"alert alert-info\">\n",
    "\n",
    "[Back to top](#7)<br>\n",
    "    \n",
    "</div>\n",
    "<hr>"
   ]
  },
  {
   "cell_type": "code",
   "execution_count": null,
   "metadata": {},
   "outputs": [],
   "source": []
  }
 ],
 "metadata": {
  "kernelspec": {
   "display_name": "Python 3",
   "language": "python",
   "name": "python3"
  },
  "language_info": {
   "codemirror_mode": {
    "name": "ipython",
    "version": 3
   },
   "file_extension": ".py",
   "mimetype": "text/x-python",
   "name": "python",
   "nbconvert_exporter": "python",
   "pygments_lexer": "ipython3",
   "version": "3.8.8"
  }
 },
 "nbformat": 4,
 "nbformat_minor": 4
}
