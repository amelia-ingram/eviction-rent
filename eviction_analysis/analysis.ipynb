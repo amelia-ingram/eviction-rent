{
 "cells": [
  {
   "cell_type": "markdown",
   "id": "dd137b9f",
   "metadata": {},
   "source": [
    "# Project: Housing Evictions and Fair Market Rents in New York City\n",
    "\n",
    "\n",
    "## Table of Contents \n",
    "\n",
    "<div class = \"alert alert-info\">\n",
    "    \n",
    "1. [Introduction](#intro)<br>\n",
    "2. [Research question](#question)<br>\n",
    "    2.1 [Assumptions](#assumptions)<br>\n",
    "3. [Data](#data)<br>\n",
    "    3.1 [Univariate analysis](#univariate)<br>\n",
    "    3.2 [Geospatial analysis](#geospatial)<br>\n",
    "4. [Data analysis](#analysis)<br>\n",
    "    4.1 [Bivariate Analysis](#bivariate)<br>\n",
    "    4.2 [Multivariate Analysis](#multivariate)<br>\n",
    "5. [Conclusions](#conclusions)<br>\n",
    "6. [References](#references)<br>\n",
    "    \n",
    "</div>\n",
    "\n",
    "## Introduction <a id=intro></a>\n",
    "In the wake of the COVID-19 pandemic, New Yorkers have feared a rise in housing evictions across the city as landlords attempt to recover their losses and forcibly evict tenants.  As housing courts have reopened and the eviction deferment period is long passed, we are now seeing a rise in evictions across the city.  According to a New York _Times_ [article](https://www.nytimes.com/2022/05/02/nyregion/new-york-evictions-cases.html), the housing chaos began this spring:\n",
    "\n",
    "> \"The roughly 2,000 eviction cases filed by landlords every week since March are roughly 40 percent more than the number filed in mid-January [2022], after the state’s eviction moratorium expired. Tenants have been thrown out of homes in more than 500 cases since February, according to city data, about double the number in all of the 20 months prior.\" (Zaveri, 2022)\n",
    "\n",
    "In this project we will attempt to test the relationship of housing evictions to a variety of neighborhood demographics including changes in the fair market housing rates (FMR) through exploratory data analysis (EDA) using data selected from [BetaNYC](https://data.beta.nyc), the [United States Department of Housing and Urban Development](https://www.huduser.gov), and [Eviction Lab](https://evictionlab.org/):\n",
    "\n",
    "* [BetaNYC](https://data.beta.nyc/en/dataset/pediacities-nyc-neighborhoods/resource/7caac650-d082-4aea-9f9b-3681d568e8a5)\n",
    "* [Crosswalk (HUD)](https://www.huduser.gov/portal/datasets/usps_crosswalk.html)\n",
    "* [Eviction Lab](https://evictionlab.org/)\n",
    "* [Fair market housing rates (HUD)](https://www.huduser.gov/portal/datasets/fmr.html)\n"
   ]
  },
  {
   "cell_type": "code",
   "execution_count": null,
   "id": "9998e4fd",
   "metadata": {},
   "outputs": [],
   "source": [
    "import pandas as pd\n",
    "import numpy as np\n",
    "import matplotlib.pyplot as plt\n",
    "import seaborn as sns"
   ]
  }
 ],
 "metadata": {
  "kernelspec": {
   "display_name": "Python 3",
   "language": "python",
   "name": "python3"
  },
  "language_info": {
   "codemirror_mode": {
    "name": "ipython",
    "version": 3
   },
   "file_extension": ".py",
   "mimetype": "text/x-python",
   "name": "python",
   "nbconvert_exporter": "python",
   "pygments_lexer": "ipython3",
   "version": "3.7.12"
  }
 },
 "nbformat": 4,
 "nbformat_minor": 5
}
